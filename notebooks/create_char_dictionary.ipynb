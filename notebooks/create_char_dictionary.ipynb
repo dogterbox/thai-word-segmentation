{
 "cells": [
  {
   "cell_type": "code",
   "execution_count": 1,
   "metadata": {
    "ExecuteTime": {
     "end_time": "2019-06-30T14:03:42.063533Z",
     "start_time": "2019-06-30T14:03:42.060540Z"
    }
   },
   "outputs": [],
   "source": [
    "from glob import glob"
   ]
  },
  {
   "cell_type": "code",
   "execution_count": 2,
   "metadata": {
    "ExecuteTime": {
     "end_time": "2019-06-30T14:03:42.510724Z",
     "start_time": "2019-06-30T14:03:42.065526Z"
    }
   },
   "outputs": [
    {
     "name": "stdout",
     "output_type": "stream",
     "text": [
      "Number of files:  506\n"
     ]
    }
   ],
   "source": [
    "# get all file path in corpus\n",
    "\n",
    "files = glob('../BEST I Corpus/*/*')\n",
    "print('Number of files: ', len(files))"
   ]
  },
  {
   "cell_type": "code",
   "execution_count": 3,
   "metadata": {
    "ExecuteTime": {
     "end_time": "2019-06-30T14:03:42.516707Z",
     "start_time": "2019-06-30T14:03:42.512745Z"
    }
   },
   "outputs": [],
   "source": [
    "# get character set\n",
    "def get_char(text):\n",
    "    return set(text)"
   ]
  },
  {
   "cell_type": "code",
   "execution_count": 4,
   "metadata": {
    "ExecuteTime": {
     "end_time": "2019-06-30T14:03:46.564965Z",
     "start_time": "2019-06-30T14:03:42.518702Z"
    }
   },
   "outputs": [
    {
     "name": "stdout",
     "output_type": "stream",
     "text": [
      "Number of unique char:  178\n"
     ]
    }
   ],
   "source": [
    "# Create character set from all file in corpus\n",
    "\n",
    "CHARSET = set()\n",
    "for fpath in files:\n",
    "    with open(fpath, mode='r', encoding=\"utf8\") as file:\n",
    "        text = file.read()  # read file\n",
    "        CHARSET = CHARSET.union(get_char(text))\n",
    "\n",
    "CHARSET = sorted(CHARSET)  # sorting char\n",
    "print('Number of unique char: ', len(CHARSET))"
   ]
  },
  {
   "cell_type": "code",
   "execution_count": 5,
   "metadata": {
    "ExecuteTime": {
     "end_time": "2019-06-30T14:03:46.570950Z",
     "start_time": "2019-06-30T14:03:46.566990Z"
    }
   },
   "outputs": [
    {
     "name": "stdout",
     "output_type": "stream",
     "text": [
      "Number of unique char:  180\n"
     ]
    }
   ],
   "source": [
    "# Create char index dictionary and append <pad>, <unk>\n",
    "# <pad>: for blank char\n",
    "# <unk>: for unknow char\n",
    "\n",
    "CHAR_INDICES = dict((c, i) for i, c in enumerate(CHARSET))\n",
    "CHAR_INDICES['<pad>'] = len(CHAR_INDICES)\n",
    "CHAR_INDICES['<unk>'] = len(CHAR_INDICES)\n",
    "\n",
    "# INDICES_CHAR = dict((i, c) for i, c in enumerate(CHAR_INDICES))\n",
    "\n",
    "print('Number of unique char: ', len(CHAR_INDICES))"
   ]
  },
  {
   "cell_type": "code",
   "execution_count": 6,
   "metadata": {
    "ExecuteTime": {
     "end_time": "2019-06-30T14:03:46.592895Z",
     "start_time": "2019-06-30T14:03:46.572973Z"
    }
   },
   "outputs": [],
   "source": [
    "# save to json file\n",
    "\n",
    "import json\n",
    "\n",
    "def to_json(fname, data_dict):\n",
    "    json_data = json.dumps(data_dict)\n",
    "    with open(fname,'w') as file:\n",
    "        file.write(json_data)\n",
    "        \n",
    "# save dictionary\n",
    "to_json('../models/CHAR_INDICES.json', CHAR_INDICES)\n",
    "# to_json('../models/INDICES_CHAR.json', INDICES_CHAR)"
   ]
  },
  {
   "cell_type": "code",
   "execution_count": null,
   "metadata": {},
   "outputs": [],
   "source": []
  }
 ],
 "metadata": {
  "kernelspec": {
   "display_name": "Python 3",
   "language": "python",
   "name": "python3"
  },
  "language_info": {
   "codemirror_mode": {
    "name": "ipython",
    "version": 3
   },
   "file_extension": ".py",
   "mimetype": "text/x-python",
   "name": "python",
   "nbconvert_exporter": "python",
   "pygments_lexer": "ipython3",
   "version": "3.6.5"
  }
 },
 "nbformat": 4,
 "nbformat_minor": 2
}
