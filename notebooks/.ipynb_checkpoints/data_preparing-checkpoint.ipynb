{
 "cells": [
  {
   "cell_type": "code",
   "execution_count": null,
   "metadata": {},
   "outputs": [],
   "source": [
    "# https://www.slideshare.net/BAINIDA/deepcut-thai-word-segmentation-nida"
   ]
  },
  {
   "cell_type": "markdown",
   "metadata": {},
   "source": [
    "# Load Dataset"
   ]
  },
  {
   "cell_type": "code",
   "execution_count": 1,
   "metadata": {
    "ExecuteTime": {
     "end_time": "2019-06-29T16:29:56.753249Z",
     "start_time": "2019-06-29T16:29:56.749260Z"
    }
   },
   "outputs": [],
   "source": [
    "from glob import glob\n",
    "import random"
   ]
  },
  {
   "cell_type": "code",
   "execution_count": 382,
   "metadata": {
    "ExecuteTime": {
     "end_time": "2019-06-30T06:34:50.666860Z",
     "start_time": "2019-06-30T06:34:50.654892Z"
    }
   },
   "outputs": [
    {
     "name": "stdout",
     "output_type": "stream",
     "text": [
      "Number of files:  506\n"
     ]
    }
   ],
   "source": [
    "files = glob('../BEST I Corpus/*/*')\n",
    "print('Number of files: ', len(files))"
   ]
  },
  {
   "cell_type": "code",
   "execution_count": 383,
   "metadata": {
    "ExecuteTime": {
     "end_time": "2019-06-30T06:34:50.901232Z",
     "start_time": "2019-06-30T06:34:50.897244Z"
    }
   },
   "outputs": [
    {
     "name": "stdout",
     "output_type": "stream",
     "text": [
      "Number of sample files:  100\n"
     ]
    }
   ],
   "source": [
    "nb_files_sample = 100\n",
    "files_sample = random.choices(files, k=nb_files_sample)\n",
    "print('Number of sample files: ', len(files_sample))"
   ]
  },
  {
   "cell_type": "code",
   "execution_count": 384,
   "metadata": {
    "ExecuteTime": {
     "end_time": "2019-06-30T06:34:51.913882Z",
     "start_time": "2019-06-30T06:34:51.908896Z"
    }
   },
   "outputs": [
    {
     "data": {
      "text/plain": [
       "['../BEST I Corpus\\\\article\\\\article_00136.txt',\n",
       " '../BEST I Corpus\\\\encyclopedia\\\\encyclopedia_00086.txt',\n",
       " '../BEST I Corpus\\\\article\\\\article_00129.txt',\n",
       " '../BEST I Corpus\\\\article\\\\article_00155.txt',\n",
       " '../BEST I Corpus\\\\article\\\\article_00094.txt',\n",
       " '../BEST I Corpus\\\\article\\\\article_00035.txt',\n",
       " '../BEST I Corpus\\\\article\\\\article_00020.txt',\n",
       " '../BEST I Corpus\\\\news\\\\news_00019.txt',\n",
       " '../BEST I Corpus\\\\article\\\\article_00175.txt',\n",
       " '../BEST I Corpus\\\\encyclopedia\\\\encyclopedia_00091.txt',\n",
       " '../BEST I Corpus\\\\article\\\\article_00177.txt',\n",
       " '../BEST I Corpus\\\\encyclopedia\\\\encyclopedia_00040.txt',\n",
       " '../BEST I Corpus\\\\article\\\\article_00165.txt',\n",
       " '../BEST I Corpus\\\\news\\\\news_00072.txt',\n",
       " '../BEST I Corpus\\\\novel\\\\novel_00018.txt',\n",
       " '../BEST I Corpus\\\\novel\\\\novel_00003.txt',\n",
       " '../BEST I Corpus\\\\article\\\\article_00162.txt',\n",
       " '../BEST I Corpus\\\\novel\\\\novel_00098.txt',\n",
       " '../BEST I Corpus\\\\article\\\\article_00070.txt',\n",
       " '../BEST I Corpus\\\\novel\\\\novel_00005.txt',\n",
       " '../BEST I Corpus\\\\news\\\\news_00002.txt',\n",
       " '../BEST I Corpus\\\\encyclopedia\\\\encyclopedia_00035.txt',\n",
       " '../BEST I Corpus\\\\encyclopedia\\\\encyclopedia_00053.txt',\n",
       " '../BEST I Corpus\\\\encyclopedia\\\\encyclopedia_00017.txt',\n",
       " '../BEST I Corpus\\\\news\\\\news_00092.txt',\n",
       " '../BEST I Corpus\\\\article\\\\article_00036.txt',\n",
       " '../BEST I Corpus\\\\encyclopedia\\\\encyclopedia_00078.txt',\n",
       " '../BEST I Corpus\\\\news\\\\news_00070.txt',\n",
       " '../BEST I Corpus\\\\encyclopedia\\\\encyclopedia_00082.txt',\n",
       " '../BEST I Corpus\\\\novel\\\\novel_00010.txt',\n",
       " '../BEST I Corpus\\\\article\\\\article_00033.txt',\n",
       " '../BEST I Corpus\\\\article\\\\article_00073.txt',\n",
       " '../BEST I Corpus\\\\article\\\\article_00189.txt',\n",
       " '../BEST I Corpus\\\\encyclopedia\\\\encyclopedia_00028.txt',\n",
       " '../BEST I Corpus\\\\encyclopedia\\\\encyclopedia_00056.txt',\n",
       " '../BEST I Corpus\\\\encyclopedia\\\\encyclopedia_00006.txt',\n",
       " '../BEST I Corpus\\\\encyclopedia\\\\encyclopedia_00080.txt',\n",
       " '../BEST I Corpus\\\\news\\\\news_00073.txt',\n",
       " '../BEST I Corpus\\\\novel\\\\novel_00071.txt',\n",
       " '../BEST I Corpus\\\\news\\\\news_00007.txt',\n",
       " '../BEST I Corpus\\\\encyclopedia\\\\encyclopedia_00076.txt',\n",
       " '../BEST I Corpus\\\\article\\\\article_00049.txt',\n",
       " '../BEST I Corpus\\\\encyclopedia\\\\encyclopedia_00045.txt',\n",
       " '../BEST I Corpus\\\\encyclopedia\\\\encyclopedia_00063.txt',\n",
       " '../BEST I Corpus\\\\novel\\\\novel_00103.txt',\n",
       " '../BEST I Corpus\\\\article\\\\article_00105.txt',\n",
       " '../BEST I Corpus\\\\novel\\\\novel_00104.txt',\n",
       " '../BEST I Corpus\\\\news\\\\news_00020.txt',\n",
       " '../BEST I Corpus\\\\encyclopedia\\\\encyclopedia_00082.txt',\n",
       " '../BEST I Corpus\\\\article\\\\article_00187.txt',\n",
       " '../BEST I Corpus\\\\novel\\\\novel_00024.txt',\n",
       " '../BEST I Corpus\\\\novel\\\\novel_00020.txt',\n",
       " '../BEST I Corpus\\\\encyclopedia\\\\encyclopedia_00056.txt',\n",
       " '../BEST I Corpus\\\\encyclopedia\\\\encyclopedia_00048.txt',\n",
       " '../BEST I Corpus\\\\novel\\\\novel_00076.txt',\n",
       " '../BEST I Corpus\\\\article\\\\article_00043.txt',\n",
       " '../BEST I Corpus\\\\article\\\\article_00127.txt',\n",
       " '../BEST I Corpus\\\\news\\\\news_00017.txt',\n",
       " '../BEST I Corpus\\\\article\\\\article_00068.txt',\n",
       " '../BEST I Corpus\\\\article\\\\article_00023.txt',\n",
       " '../BEST I Corpus\\\\encyclopedia\\\\encyclopedia_00052.txt',\n",
       " '../BEST I Corpus\\\\encyclopedia\\\\encyclopedia_00013.txt',\n",
       " '../BEST I Corpus\\\\article\\\\article_00143.txt',\n",
       " '../BEST I Corpus\\\\article\\\\article_00148.txt',\n",
       " '../BEST I Corpus\\\\encyclopedia\\\\encyclopedia_00037.txt',\n",
       " '../BEST I Corpus\\\\novel\\\\novel_00062.txt',\n",
       " '../BEST I Corpus\\\\article\\\\article_00060.txt',\n",
       " '../BEST I Corpus\\\\article\\\\article_00131.txt',\n",
       " '../BEST I Corpus\\\\article\\\\article_00059.txt',\n",
       " '../BEST I Corpus\\\\novel\\\\novel_00072.txt',\n",
       " '../BEST I Corpus\\\\novel\\\\novel_00001.txt',\n",
       " '../BEST I Corpus\\\\article\\\\article_00081.txt',\n",
       " '../BEST I Corpus\\\\article\\\\article_00112.txt',\n",
       " '../BEST I Corpus\\\\encyclopedia\\\\encyclopedia_00077.txt',\n",
       " '../BEST I Corpus\\\\encyclopedia\\\\encyclopedia_00071.txt',\n",
       " '../BEST I Corpus\\\\encyclopedia\\\\encyclopedia_00102.txt',\n",
       " '../BEST I Corpus\\\\news\\\\news_00033.txt',\n",
       " '../BEST I Corpus\\\\news\\\\news_00056.txt',\n",
       " '../BEST I Corpus\\\\article\\\\article_00007.txt',\n",
       " '../BEST I Corpus\\\\article\\\\article_00152.txt',\n",
       " '../BEST I Corpus\\\\article\\\\article_00068.txt',\n",
       " '../BEST I Corpus\\\\novel\\\\novel_00057.txt',\n",
       " '../BEST I Corpus\\\\article\\\\article_00036.txt',\n",
       " '../BEST I Corpus\\\\news\\\\news_00032.txt',\n",
       " '../BEST I Corpus\\\\article\\\\article_00084.txt',\n",
       " '../BEST I Corpus\\\\article\\\\article_00148.txt',\n",
       " '../BEST I Corpus\\\\article\\\\article_00135.txt',\n",
       " '../BEST I Corpus\\\\article\\\\article_00041.txt',\n",
       " '../BEST I Corpus\\\\news\\\\news_00091.txt',\n",
       " '../BEST I Corpus\\\\encyclopedia\\\\encyclopedia_00082.txt',\n",
       " '../BEST I Corpus\\\\article\\\\article_00035.txt',\n",
       " '../BEST I Corpus\\\\encyclopedia\\\\encyclopedia_00095.txt',\n",
       " '../BEST I Corpus\\\\article\\\\article_00028.txt',\n",
       " '../BEST I Corpus\\\\news\\\\news_00035.txt',\n",
       " '../BEST I Corpus\\\\novel\\\\novel_00085.txt',\n",
       " '../BEST I Corpus\\\\article\\\\article_00033.txt',\n",
       " '../BEST I Corpus\\\\encyclopedia\\\\encyclopedia_00003.txt',\n",
       " '../BEST I Corpus\\\\article\\\\article_00060.txt',\n",
       " '../BEST I Corpus\\\\article\\\\article_00079.txt',\n",
       " '../BEST I Corpus\\\\article\\\\article_00111.txt']"
      ]
     },
     "execution_count": 384,
     "metadata": {},
     "output_type": "execute_result"
    }
   ],
   "source": [
    "files_sample  # display file list"
   ]
  },
  {
   "cell_type": "markdown",
   "metadata": {},
   "source": [
    "# Preprocessing"
   ]
  },
  {
   "cell_type": "code",
   "execution_count": 385,
   "metadata": {
    "ExecuteTime": {
     "end_time": "2019-06-30T06:34:53.773429Z",
     "start_time": "2019-06-30T06:34:53.769465Z"
    }
   },
   "outputs": [],
   "source": [
    "def replace(text, wordlist):\n",
    "    for new_word, list_ in wordlist.items():\n",
    "        for old_word in list_:\n",
    "            text = text.replace(old_word.lower(), new_word)\n",
    "    return text\n",
    "\n",
    "    \n",
    "def preprocessing(text, wordlist):\n",
    "    text = text.lower()  # to lower-case\n",
    "    text = replace(text, wordlist)\n",
    "    return text"
   ]
  },
  {
   "cell_type": "code",
   "execution_count": 386,
   "metadata": {
    "ExecuteTime": {
     "end_time": "2019-06-30T06:34:55.685934Z",
     "start_time": "2019-06-30T06:34:54.233264Z"
    }
   },
   "outputs": [],
   "source": [
    "texts = []\n",
    "for fpath in files_sample:\n",
    "    with open(fpath, mode='r', encoding=\"utf8\") as file:\n",
    "        text = file.read()  # read file\n",
    "        texts.append(text)"
   ]
  },
  {
   "cell_type": "code",
   "execution_count": 387,
   "metadata": {
    "ExecuteTime": {
     "end_time": "2019-06-30T06:34:56.272415Z",
     "start_time": "2019-06-30T06:34:56.270407Z"
    }
   },
   "outputs": [],
   "source": [
    "# texts = ['doc1', 'doc2', 'doc3', '....', 'doc n']"
   ]
  },
  {
   "cell_type": "code",
   "execution_count": 388,
   "metadata": {
    "ExecuteTime": {
     "end_time": "2019-06-30T06:34:56.819146Z",
     "start_time": "2019-06-30T06:34:56.814133Z"
    }
   },
   "outputs": [
    {
     "data": {
      "text/plain": [
       "'ความ|เชื่อ|และ|วิถี|ชีวิต|ของ|พี่น้อง|มุสลิม|\\n3| |R| |กับ|การ|ฝ่า|ข้ามกำแพง|ไป|เพื่อ|สันติภาพ|\\n<NE>ดร.สุกรี หลังปูเต๊ะ</NE>|\\nคณบดี|<NE>คณะศิลปศาสตร์</NE>| |<NE>วิทยาลัยอิสลามยะลา</NE>|\\nหมายเหตุ|\\nความ|เชื่อ|และ|วิถี|ชีวิต|ของ|พี่น้อง|มุสลิม|\\nบทความ|ชิ้น|นี้| |มา|จาก|จาก|การ|สัมมนา|พระสงฆ์| |นัก|บวช| |และ|ฆราวาส| |ประจำ|ปี| |๒๐๐๕|\\nซึ่ง|จัด|โดย| |<NE>สังฆมณฑลสุราษฎร์ธานี</NE>| |เมื่อ|วัน|พุธ|ที่| |๒๖| |ตุลาคม| |๒๕๔๘|\\nณ| |<NE>บ้านชุมพาบาล</NE>| |<NE>อ.เมือง</NE>| |<NE>จ.สุราษฎร์ธานี</NE>|\\nเพื่อ|ให้|พระสงฆ์| |นัก|บวช| |และ|พี่น้อง|คริสตชน| |ได้|ร่วม|เรียนรู้| |เข้าใจ|และ|สมานฉันท์|\\nต่อ|สถานการณ์|ปัญหา|ชาย|แดน|ภาค|ใต้|\\n(|บทความ|เพื่อ|ประโยชน์|ทาง|การ|ศึกษา|)|\\nบทความ|ฟรี| |<NE>มหาวิทยาลัยเที่ยงคืน</NE>| |ลำดับ|ที่| |743|\\nเผยแพร่|บน|เว็บไซต์|นี้|ครั้ง|แรก|เมื่อ|วัน|ที่| |๑๘| |พฤศจิกายน| |๒๕๔๘|\\n(|บทความ|ทั้งหมด|ยาว|ประมาณ| |17| |หน้า|กระดาษ| |A|4|)|\\nโครงสร้าง|ทาง|สังคม|ที่|มี|อยู่|ใน| |3| |จังหวัด|ชาย|แดน|ภาค|ใต้|\\nเรื่อง|โครงสร้าง|ทาง|สังคม|ใน| |3| |จังหวัด|ชาย|แดน|ภาค|ใต้| |ซึ่ง|ผม|จะ|พูด|ใน|ล'"
      ]
     },
     "execution_count": 388,
     "metadata": {},
     "output_type": "execute_result"
    }
   ],
   "source": [
    "texts[0][:1000]  # sameple texts"
   ]
  },
  {
   "cell_type": "code",
   "execution_count": 389,
   "metadata": {
    "ExecuteTime": {
     "end_time": "2019-06-30T06:34:57.608012Z",
     "start_time": "2019-06-30T06:34:57.497307Z"
    }
   },
   "outputs": [],
   "source": [
    "wordlist = {\n",
    "    '': ['<AB>', '</AB>', '<NE>', '</NE>', '\\n'],\n",
    "}\n",
    "\n",
    "texts = [preprocessing(text, wordlist) for text in texts]"
   ]
  },
  {
   "cell_type": "code",
   "execution_count": 390,
   "metadata": {
    "ExecuteTime": {
     "end_time": "2019-06-30T06:34:58.511627Z",
     "start_time": "2019-06-30T06:34:58.507605Z"
    }
   },
   "outputs": [
    {
     "data": {
      "text/plain": [
       "'ความ|เชื่อ|และ|วิถี|ชีวิต|ของ|พี่น้อง|มุสลิม|3| |r| |กับ|การ|ฝ่า|ข้ามกำแพง|ไป|เพื่อ|สันติภาพ|ดร.สุกร'"
      ]
     },
     "execution_count": 390,
     "metadata": {},
     "output_type": "execute_result"
    }
   ],
   "source": [
    "texts[0][:100]  # sameple texts"
   ]
  },
  {
   "cell_type": "markdown",
   "metadata": {},
   "source": [
    "# Create Dictionary"
   ]
  },
  {
   "cell_type": "code",
   "execution_count": 391,
   "metadata": {
    "ExecuteTime": {
     "end_time": "2019-06-30T06:35:00.010759Z",
     "start_time": "2019-06-30T06:34:59.665682Z"
    }
   },
   "outputs": [],
   "source": [
    "# Merge text for create unique chars dictionary\n",
    "merge_texts = []\n",
    "for text in texts:\n",
    "    merge_texts += text"
   ]
  },
  {
   "cell_type": "code",
   "execution_count": 392,
   "metadata": {
    "ExecuteTime": {
     "end_time": "2019-06-30T06:35:00.621184Z",
     "start_time": "2019-06-30T06:35:00.474541Z"
    }
   },
   "outputs": [
    {
     "name": "stdout",
     "output_type": "stream",
     "text": [
      "Unique chars: 143\n"
     ]
    }
   ],
   "source": [
    "CHARS = sorted(list(set(merge_texts)))\n",
    "CHAR_INDICES = dict((c, i) for i, c in enumerate(CHARS))\n",
    "CHAR_INDICES['<pad>'] = len(CHARS)\n",
    "\n",
    "INDICES_CHAR = dict((i, c) for i, c in enumerate(CHAR_INDICES))\n",
    "\n",
    "print(f'Unique chars: {len(INDICES_CHAR)}')"
   ]
  },
  {
   "cell_type": "code",
   "execution_count": 393,
   "metadata": {
    "ExecuteTime": {
     "end_time": "2019-06-30T06:35:00.720882Z",
     "start_time": "2019-06-30T06:35:00.714899Z"
    }
   },
   "outputs": [
    {
     "data": {
      "text/plain": [
       "{0: ' ',\n",
       " 1: '!',\n",
       " 2: '\"',\n",
       " 3: '%',\n",
       " 4: '&',\n",
       " 5: \"'\",\n",
       " 6: '(',\n",
       " 7: ')',\n",
       " 8: '*',\n",
       " 9: '+',\n",
       " 10: ',',\n",
       " 11: '-',\n",
       " 12: '.',\n",
       " 13: '/',\n",
       " 14: '0',\n",
       " 15: '1',\n",
       " 16: '2',\n",
       " 17: '3',\n",
       " 18: '4',\n",
       " 19: '5',\n",
       " 20: '6',\n",
       " 21: '7',\n",
       " 22: '8',\n",
       " 23: '9',\n",
       " 24: ':',\n",
       " 25: ';',\n",
       " 26: '<',\n",
       " 27: '=',\n",
       " 28: '>',\n",
       " 29: '?',\n",
       " 30: '@',\n",
       " 31: '[',\n",
       " 32: '\\\\',\n",
       " 33: ']',\n",
       " 34: '_',\n",
       " 35: 'a',\n",
       " 36: 'b',\n",
       " 37: 'c',\n",
       " 38: 'd',\n",
       " 39: 'e',\n",
       " 40: 'f',\n",
       " 41: 'g',\n",
       " 42: 'h',\n",
       " 43: 'i',\n",
       " 44: 'j',\n",
       " 45: 'k',\n",
       " 46: 'l',\n",
       " 47: 'm',\n",
       " 48: 'n',\n",
       " 49: 'o',\n",
       " 50: 'p',\n",
       " 51: 'q',\n",
       " 52: 'r',\n",
       " 53: 's',\n",
       " 54: 't',\n",
       " 55: 'u',\n",
       " 56: 'v',\n",
       " 57: 'w',\n",
       " 58: 'x',\n",
       " 59: 'y',\n",
       " 60: 'z',\n",
       " 61: '|',\n",
       " 62: 'ก',\n",
       " 63: 'ข',\n",
       " 64: 'ค',\n",
       " 65: 'ฆ',\n",
       " 66: 'ง',\n",
       " 67: 'จ',\n",
       " 68: 'ฉ',\n",
       " 69: 'ช',\n",
       " 70: 'ซ',\n",
       " 71: 'ฌ',\n",
       " 72: 'ญ',\n",
       " 73: 'ฎ',\n",
       " 74: 'ฏ',\n",
       " 75: 'ฐ',\n",
       " 76: 'ฑ',\n",
       " 77: 'ฒ',\n",
       " 78: 'ณ',\n",
       " 79: 'ด',\n",
       " 80: 'ต',\n",
       " 81: 'ถ',\n",
       " 82: 'ท',\n",
       " 83: 'ธ',\n",
       " 84: 'น',\n",
       " 85: 'บ',\n",
       " 86: 'ป',\n",
       " 87: 'ผ',\n",
       " 88: 'ฝ',\n",
       " 89: 'พ',\n",
       " 90: 'ฟ',\n",
       " 91: 'ภ',\n",
       " 92: 'ม',\n",
       " 93: 'ย',\n",
       " 94: 'ร',\n",
       " 95: 'ฤ',\n",
       " 96: 'ล',\n",
       " 97: 'ว',\n",
       " 98: 'ศ',\n",
       " 99: 'ษ',\n",
       " 100: 'ส',\n",
       " 101: 'ห',\n",
       " 102: 'ฬ',\n",
       " 103: 'อ',\n",
       " 104: 'ฮ',\n",
       " 105: 'ฯ',\n",
       " 106: 'ะ',\n",
       " 107: 'ั',\n",
       " 108: 'า',\n",
       " 109: 'ำ',\n",
       " 110: 'ิ',\n",
       " 111: 'ี',\n",
       " 112: 'ึ',\n",
       " 113: 'ื',\n",
       " 114: 'ุ',\n",
       " 115: 'ู',\n",
       " 116: 'ฺ',\n",
       " 117: 'เ',\n",
       " 118: 'แ',\n",
       " 119: 'โ',\n",
       " 120: 'ใ',\n",
       " 121: 'ไ',\n",
       " 122: 'ๅ',\n",
       " 123: 'ๆ',\n",
       " 124: '็',\n",
       " 125: '่',\n",
       " 126: '้',\n",
       " 127: '๊',\n",
       " 128: '๋',\n",
       " 129: '์',\n",
       " 130: 'ํ',\n",
       " 131: '๐',\n",
       " 132: '๑',\n",
       " 133: '๒',\n",
       " 134: '๓',\n",
       " 135: '๔',\n",
       " 136: '๕',\n",
       " 137: '๖',\n",
       " 138: '๗',\n",
       " 139: '๘',\n",
       " 140: '๙',\n",
       " 141: '\\ufeff',\n",
       " 142: '<pad>'}"
      ]
     },
     "execution_count": 393,
     "metadata": {},
     "output_type": "execute_result"
    }
   ],
   "source": [
    "INDICES_CHAR"
   ]
  },
  {
   "cell_type": "markdown",
   "metadata": {},
   "source": [
    "# Create Dataset"
   ]
  },
  {
   "cell_type": "code",
   "execution_count": 394,
   "metadata": {
    "ExecuteTime": {
     "end_time": "2019-06-30T06:35:03.775648Z",
     "start_time": "2019-06-30T06:35:03.772655Z"
    }
   },
   "outputs": [],
   "source": [
    "import numpy as np"
   ]
  },
  {
   "cell_type": "code",
   "execution_count": 395,
   "metadata": {
    "ExecuteTime": {
     "end_time": "2019-06-30T06:35:04.407010Z",
     "start_time": "2019-06-30T06:35:04.404017Z"
    }
   },
   "outputs": [],
   "source": [
    "# def create_dataset(texts, look_back=20):\n",
    "#     X, y = [], []\n",
    "#     for text in texts:\n",
    "#         data = [CHAR_INDICES['<pad>']] * look_back\n",
    "#         for i in range(len(text)-1):\n",
    "#             current_char = text[i]\n",
    "#             next_char = text[i+1]\n",
    "            \n",
    "#             if current_char == '|':\n",
    "#                 continue\n",
    "            \n",
    "#             data = data[1:] + [CHAR_INDICES[current_char]]  # X data\n",
    "#             target = 1 if next_char == '|' else 0  # y data\n",
    "            \n",
    "#             X.append(data)\n",
    "#             y.append(target)\n",
    "#     return X, y"
   ]
  },
  {
   "cell_type": "code",
   "execution_count": 396,
   "metadata": {
    "ExecuteTime": {
     "end_time": "2019-06-30T06:35:04.972838Z",
     "start_time": "2019-06-30T06:35:04.968817Z"
    }
   },
   "outputs": [],
   "source": [
    "def create_dataset(texts, look_back=20):\n",
    "    X, y = [], []\n",
    "    for text in texts:\n",
    "        text = '|' + text\n",
    "        data = [CHAR_INDICES['<pad>']] * look_back\n",
    "        for i in range(1, len(text)):\n",
    "            current_char = text[i]\n",
    "            before_char = text[i-1]\n",
    "            \n",
    "            if current_char == '|':\n",
    "                continue\n",
    "            \n",
    "            data = data[1:] + [CHAR_INDICES[current_char]]  # X data\n",
    "            target = 1 if before_char == '|' else 0  # y data\n",
    "            \n",
    "            X.append(data)\n",
    "            y.append(target)\n",
    "        y[-1] = 1  # end text is '|'\n",
    "    return X, y"
   ]
  },
  {
   "cell_type": "code",
   "execution_count": 397,
   "metadata": {
    "ExecuteTime": {
     "end_time": "2019-06-30T06:35:12.087688Z",
     "start_time": "2019-06-30T06:35:05.571703Z"
    }
   },
   "outputs": [],
   "source": [
    "X, y = create_dataset(texts)"
   ]
  },
  {
   "cell_type": "code",
   "execution_count": 398,
   "metadata": {
    "ExecuteTime": {
     "end_time": "2019-06-30T06:35:12.094671Z",
     "start_time": "2019-06-30T06:35:12.089684Z"
    }
   },
   "outputs": [
    {
     "name": "stdout",
     "output_type": "stream",
     "text": [
      "[142, 142, 142, 142, 142, 142, 142, 142, 142, 142, 142, 142, 142, 142, 142, 142, 142, 142, 142, 64]  :  1\n",
      "[142, 142, 142, 142, 142, 142, 142, 142, 142, 142, 142, 142, 142, 142, 142, 142, 142, 142, 64, 97]  :  0\n",
      "[142, 142, 142, 142, 142, 142, 142, 142, 142, 142, 142, 142, 142, 142, 142, 142, 142, 64, 97, 108]  :  0\n",
      "[142, 142, 142, 142, 142, 142, 142, 142, 142, 142, 142, 142, 142, 142, 142, 142, 64, 97, 108, 92]  :  0\n",
      "[142, 142, 142, 142, 142, 142, 142, 142, 142, 142, 142, 142, 142, 142, 142, 64, 97, 108, 92, 117]  :  1\n",
      "[142, 142, 142, 142, 142, 142, 142, 142, 142, 142, 142, 142, 142, 142, 64, 97, 108, 92, 117, 69]  :  0\n",
      "[142, 142, 142, 142, 142, 142, 142, 142, 142, 142, 142, 142, 142, 64, 97, 108, 92, 117, 69, 113]  :  0\n",
      "[142, 142, 142, 142, 142, 142, 142, 142, 142, 142, 142, 142, 64, 97, 108, 92, 117, 69, 113, 125]  :  0\n",
      "[142, 142, 142, 142, 142, 142, 142, 142, 142, 142, 142, 64, 97, 108, 92, 117, 69, 113, 125, 103]  :  0\n",
      "[142, 142, 142, 142, 142, 142, 142, 142, 142, 142, 64, 97, 108, 92, 117, 69, 113, 125, 103, 118]  :  1\n",
      "[142, 142, 142, 142, 142, 142, 142, 142, 142, 64, 97, 108, 92, 117, 69, 113, 125, 103, 118, 96]  :  0\n",
      "[142, 142, 142, 142, 142, 142, 142, 142, 64, 97, 108, 92, 117, 69, 113, 125, 103, 118, 96, 106]  :  0\n",
      "[142, 142, 142, 142, 142, 142, 142, 64, 97, 108, 92, 117, 69, 113, 125, 103, 118, 96, 106, 97]  :  1\n",
      "[142, 142, 142, 142, 142, 142, 64, 97, 108, 92, 117, 69, 113, 125, 103, 118, 96, 106, 97, 110]  :  0\n",
      "[142, 142, 142, 142, 142, 64, 97, 108, 92, 117, 69, 113, 125, 103, 118, 96, 106, 97, 110, 81]  :  0\n",
      "[142, 142, 142, 142, 64, 97, 108, 92, 117, 69, 113, 125, 103, 118, 96, 106, 97, 110, 81, 111]  :  0\n",
      "[142, 142, 142, 64, 97, 108, 92, 117, 69, 113, 125, 103, 118, 96, 106, 97, 110, 81, 111, 69]  :  1\n",
      "[142, 142, 64, 97, 108, 92, 117, 69, 113, 125, 103, 118, 96, 106, 97, 110, 81, 111, 69, 111]  :  0\n",
      "[142, 64, 97, 108, 92, 117, 69, 113, 125, 103, 118, 96, 106, 97, 110, 81, 111, 69, 111, 97]  :  0\n",
      "[64, 97, 108, 92, 117, 69, 113, 125, 103, 118, 96, 106, 97, 110, 81, 111, 69, 111, 97, 110]  :  0\n",
      "[97, 108, 92, 117, 69, 113, 125, 103, 118, 96, 106, 97, 110, 81, 111, 69, 111, 97, 110, 80]  :  0\n",
      "[108, 92, 117, 69, 113, 125, 103, 118, 96, 106, 97, 110, 81, 111, 69, 111, 97, 110, 80, 63]  :  1\n",
      "[92, 117, 69, 113, 125, 103, 118, 96, 106, 97, 110, 81, 111, 69, 111, 97, 110, 80, 63, 103]  :  0\n",
      "[117, 69, 113, 125, 103, 118, 96, 106, 97, 110, 81, 111, 69, 111, 97, 110, 80, 63, 103, 66]  :  0\n",
      "[69, 113, 125, 103, 118, 96, 106, 97, 110, 81, 111, 69, 111, 97, 110, 80, 63, 103, 66, 89]  :  1\n",
      "[113, 125, 103, 118, 96, 106, 97, 110, 81, 111, 69, 111, 97, 110, 80, 63, 103, 66, 89, 111]  :  0\n",
      "[125, 103, 118, 96, 106, 97, 110, 81, 111, 69, 111, 97, 110, 80, 63, 103, 66, 89, 111, 125]  :  0\n",
      "[103, 118, 96, 106, 97, 110, 81, 111, 69, 111, 97, 110, 80, 63, 103, 66, 89, 111, 125, 84]  :  0\n",
      "[118, 96, 106, 97, 110, 81, 111, 69, 111, 97, 110, 80, 63, 103, 66, 89, 111, 125, 84, 126]  :  0\n",
      "[96, 106, 97, 110, 81, 111, 69, 111, 97, 110, 80, 63, 103, 66, 89, 111, 125, 84, 126, 103]  :  0\n"
     ]
    }
   ],
   "source": [
    "sample = 30\n",
    "print(*[f'{data}  :  {target}' for data, target in zip(X[:sample], y[:sample])], sep='\\n')"
   ]
  },
  {
   "cell_type": "code",
   "execution_count": 399,
   "metadata": {
    "ExecuteTime": {
     "end_time": "2019-06-30T06:35:14.770313Z",
     "start_time": "2019-06-30T06:35:14.765324Z"
    }
   },
   "outputs": [],
   "source": [
    "def encode_data(X, y):\n",
    "    sequence_len = len(X[0])\n",
    "    encode_X = np.zeros((len(X), sequence_len, len(INDICES_CHAR)), dtype=np.bool)\n",
    "    encode_y = np.zeros((len(y), 2), dtype=np.bool)\n",
    "    for i, (data, target) in enumerate(zip(X, y)):\n",
    "        for t, char in enumerate(data):\n",
    "            encode_X[i, t, char] = 1\n",
    "        encode_y[i, target] = 1\n",
    "        \n",
    "    return encode_X, encode_y"
   ]
  },
  {
   "cell_type": "code",
   "execution_count": 400,
   "metadata": {
    "ExecuteTime": {
     "end_time": "2019-06-30T06:37:32.288772Z",
     "start_time": "2019-06-30T06:35:15.141320Z"
    }
   },
   "outputs": [],
   "source": [
    "X, y = encode_data(X, y)"
   ]
  },
  {
   "cell_type": "code",
   "execution_count": 401,
   "metadata": {
    "ExecuteTime": {
     "end_time": "2019-06-30T06:37:35.119790Z",
     "start_time": "2019-06-30T06:37:32.827504Z"
    }
   },
   "outputs": [
    {
     "data": {
      "text/plain": [
       "(array([False, False, False, False, False, False, False, False, False,\n",
       "        False, False, False, False, False, False, False, False, False,\n",
       "        False, False, False, False, False, False, False, False, False,\n",
       "        False, False, False, False, False, False, False, False, False,\n",
       "        False, False, False, False, False, False, False, False, False,\n",
       "        False, False, False, False, False, False, False, False, False,\n",
       "        False, False, False, False, False, False, False, False, False,\n",
       "        False, False, False, False, False, False, False, False, False,\n",
       "        False, False, False, False, False, False, False, False, False,\n",
       "        False, False, False, False, False, False, False, False, False,\n",
       "        False, False, False, False, False, False, False, False, False,\n",
       "        False, False, False, False, False, False, False, False, False,\n",
       "        False, False, False, False, False, False, False, False, False,\n",
       "        False, False, False, False, False, False, False, False, False,\n",
       "        False, False, False, False, False, False, False, False, False,\n",
       "        False, False, False, False, False, False, False,  True]),\n",
       " array([False,  True]))"
      ]
     },
     "execution_count": 401,
     "metadata": {},
     "output_type": "execute_result"
    }
   ],
   "source": [
    "X[0][0], y[0]  # sample data encoding"
   ]
  },
  {
   "cell_type": "markdown",
   "metadata": {},
   "source": [
    "# Train-Test Split"
   ]
  },
  {
   "cell_type": "code",
   "execution_count": 402,
   "metadata": {
    "ExecuteTime": {
     "end_time": "2019-06-30T06:37:46.694534Z",
     "start_time": "2019-06-30T06:37:45.985418Z"
    }
   },
   "outputs": [],
   "source": [
    "def train_test_split(X, y, test_size=0.3):\n",
    "    \n",
    "    # split into train and test sets\n",
    "    test_size = int(len(X) * test_size)\n",
    "    train_size = len(X) - test_size\n",
    "    \n",
    "    X_train, X_test = X[:train_size], X[train_size:len(X)]\n",
    "    y_train, y_test = y[:train_size], y[train_size:len(y)]\n",
    "    \n",
    "    return X_train, X_test, y_train, y_test"
   ]
  },
  {
   "cell_type": "code",
   "execution_count": 403,
   "metadata": {
    "ExecuteTime": {
     "end_time": "2019-06-30T06:37:47.517791Z",
     "start_time": "2019-06-30T06:37:47.460772Z"
    }
   },
   "outputs": [],
   "source": [
    "X_train, X_test, y_train, y_test = train_test_split(X, y, test_size=0.3)"
   ]
  },
  {
   "cell_type": "code",
   "execution_count": 404,
   "metadata": {
    "ExecuteTime": {
     "end_time": "2019-06-30T06:37:48.479536Z",
     "start_time": "2019-06-30T06:37:48.287980Z"
    }
   },
   "outputs": [
    {
     "name": "stdout",
     "output_type": "stream",
     "text": [
      "------Dataset-------\n",
      "X shape:  (3913164, 20, 143)\n",
      "y shape:  (3913164, 2)\n",
      "-------Train--------\n",
      "X shape:  (2739215, 20, 143)\n",
      "y shape:  (2739215, 2)\n",
      "--------Test--------\n",
      "X shape:  (1173949, 20, 143)\n",
      "y shape:  (1173949, 2)\n"
     ]
    }
   ],
   "source": [
    "# data shape\n",
    "print('Dataset'.center(20,'-'))\n",
    "print('X shape: ', X.shape)\n",
    "print('y shape: ', y.shape)\n",
    "\n",
    "print('Train'.center(20,'-'))\n",
    "print('X shape: ', X_train.shape)\n",
    "print('y shape: ', y_train.shape)\n",
    "\n",
    "print('Test'.center(20,'-'))\n",
    "print('X shape: ', X_test.shape)\n",
    "print('y shape: ', y_test.shape)"
   ]
  },
  {
   "cell_type": "markdown",
   "metadata": {},
   "source": [
    "# Create Model"
   ]
  },
  {
   "cell_type": "code",
   "execution_count": 405,
   "metadata": {
    "ExecuteTime": {
     "end_time": "2019-06-30T06:38:04.327268Z",
     "start_time": "2019-06-30T06:38:04.042948Z"
    }
   },
   "outputs": [],
   "source": [
    "from keras.models import Sequential\n",
    "from keras.layers import Dense\n",
    "from keras.layers import LSTM, Dropout, Bidirectional\n",
    "from keras.utils.vis_utils import plot_model\n",
    "from IPython.display import Image"
   ]
  },
  {
   "cell_type": "code",
   "execution_count": 406,
   "metadata": {
    "ExecuteTime": {
     "end_time": "2019-06-30T06:38:05.306023Z",
     "start_time": "2019-06-30T06:38:05.006481Z"
    }
   },
   "outputs": [],
   "source": [
    "def define_model(input_shape, n_uits=256):\n",
    "    model = Sequential()\n",
    "    model.add(\n",
    "        Bidirectional(LSTM(n_uits, input_shape=input_shape,\n",
    "                           return_sequences=False),\n",
    "                      merge_mode='sum',\n",
    "                      weights=None,\n",
    "                      input_shape=input_shape))\n",
    "    model.add(Dense(n_uits, activation='linear'))\n",
    "    model.add(Dense(2, activation='softmax'))\n",
    "    model.compile(loss='categorical_crossentropy', optimizer='rmsprop', metrics=['accuracy'])  # compile\n",
    "    \n",
    "    print('Total params: ', model.count_params())\n",
    "    return model"
   ]
  },
  {
   "cell_type": "code",
   "execution_count": 407,
   "metadata": {
    "ExecuteTime": {
     "end_time": "2019-06-30T06:38:26.590757Z",
     "start_time": "2019-06-30T06:38:05.582171Z"
    }
   },
   "outputs": [
    {
     "name": "stdout",
     "output_type": "stream",
     "text": [
      "Total params:  885506\n"
     ]
    },
    {
     "data": {
      "image/png": "[encoded data removed]",
      "text/plain": [
       "<IPython.core.display.Image object>"
      ]
     },
     "metadata": {},
     "output_type": "display_data"
    }
   ],
   "source": [
    "input_shape = X.shape[1:]\n",
    "model = define_model(input_shape)  # define model\n",
    "\n",
    "# plot model\n",
    "image_name = 'model.png'\n",
    "plot_model(model, image_name, show_shapes=True, show_layer_names=False)\n",
    "display(Image(filename=image_name))"
   ]
  },
  {
   "cell_type": "code",
   "execution_count": 408,
   "metadata": {
    "ExecuteTime": {
     "end_time": "2019-06-30T06:38:30.425391Z",
     "start_time": "2019-06-30T06:38:29.462557Z"
    }
   },
   "outputs": [],
   "source": [
    "from livelossplot import PlotLossesKeras\n",
    "\n",
    "callbacks_list = [PlotLossesKeras()]  # Callback config"
   ]
  },
  {
   "cell_type": "code",
   "execution_count": 409,
   "metadata": {
    "ExecuteTime": {
     "end_time": "2019-06-30T06:40:42.056524Z",
     "start_time": "2019-06-30T06:38:30.494206Z"
    }
   },
   "outputs": [
    {
     "name": "stdout",
     "output_type": "stream",
     "text": [
      "Train on 3130531 samples, validate on 782633 samples\n",
      "Epoch 1/100\n",
      "  20480/3130531 [..............................] - ETA: 3:53:38 - loss: 0.5788 - acc: 0.7174"
     ]
    },
    {
     "ename": "KeyboardInterrupt",
     "evalue": "",
     "output_type": "error",
     "traceback": [
      "\u001b[1;31m---------------------------------------------------------------------------\u001b[0m",
      "\u001b[1;31mKeyboardInterrupt\u001b[0m                         Traceback (most recent call last)",
      "\u001b[1;32m<ipython-input-409-f6482e2b8870>\u001b[0m in \u001b[0;36m<module>\u001b[1;34m()\u001b[0m\n\u001b[0;32m      7\u001b[0m                     \u001b[0mshuffle\u001b[0m\u001b[1;33m=\u001b[0m\u001b[1;32mTrue\u001b[0m\u001b[1;33m,\u001b[0m\u001b[1;33m\u001b[0m\u001b[0m\n\u001b[0;32m      8\u001b[0m                     \u001b[0mcallbacks\u001b[0m\u001b[1;33m=\u001b[0m\u001b[0mcallbacks_list\u001b[0m\u001b[1;33m,\u001b[0m\u001b[1;33m\u001b[0m\u001b[0m\n\u001b[1;32m----> 9\u001b[1;33m                     verbose=1)\n\u001b[0m",
      "\u001b[1;32mC:\\Anaconda3\\lib\\site-packages\\keras\\engine\\training.py\u001b[0m in \u001b[0;36mfit\u001b[1;34m(self, x, y, batch_size, epochs, verbose, callbacks, validation_split, validation_data, shuffle, class_weight, sample_weight, initial_epoch, steps_per_epoch, validation_steps, **kwargs)\u001b[0m\n\u001b[0;32m   1037\u001b[0m                                         \u001b[0minitial_epoch\u001b[0m\u001b[1;33m=\u001b[0m\u001b[0minitial_epoch\u001b[0m\u001b[1;33m,\u001b[0m\u001b[1;33m\u001b[0m\u001b[0m\n\u001b[0;32m   1038\u001b[0m                                         \u001b[0msteps_per_epoch\u001b[0m\u001b[1;33m=\u001b[0m\u001b[0msteps_per_epoch\u001b[0m\u001b[1;33m,\u001b[0m\u001b[1;33m\u001b[0m\u001b[0m\n\u001b[1;32m-> 1039\u001b[1;33m                                         validation_steps=validation_steps)\n\u001b[0m\u001b[0;32m   1040\u001b[0m \u001b[1;33m\u001b[0m\u001b[0m\n\u001b[0;32m   1041\u001b[0m     def evaluate(self, x=None, y=None,\n",
      "\u001b[1;32mC:\\Anaconda3\\lib\\site-packages\\keras\\engine\\training_arrays.py\u001b[0m in \u001b[0;36mfit_loop\u001b[1;34m(model, f, ins, out_labels, batch_size, epochs, verbose, callbacks, val_f, val_ins, shuffle, callback_metrics, initial_epoch, steps_per_epoch, validation_steps)\u001b[0m\n\u001b[0;32m    185\u001b[0m                             ins[:-1], batch_ids) + [ins[-1]]\n\u001b[0;32m    186\u001b[0m                     \u001b[1;32melse\u001b[0m\u001b[1;33m:\u001b[0m\u001b[1;33m\u001b[0m\u001b[0m\n\u001b[1;32m--> 187\u001b[1;33m                         \u001b[0mins_batch\u001b[0m \u001b[1;33m=\u001b[0m \u001b[0mslice_arrays\u001b[0m\u001b[1;33m(\u001b[0m\u001b[0mins\u001b[0m\u001b[1;33m,\u001b[0m \u001b[0mbatch_ids\u001b[0m\u001b[1;33m)\u001b[0m\u001b[1;33m\u001b[0m\u001b[0m\n\u001b[0m\u001b[0;32m    188\u001b[0m                 \u001b[1;32mexcept\u001b[0m \u001b[0mTypeError\u001b[0m\u001b[1;33m:\u001b[0m\u001b[1;33m\u001b[0m\u001b[0m\n\u001b[0;32m    189\u001b[0m                     raise TypeError('TypeError while preparing batch. '\n",
      "\u001b[1;32mC:\\Anaconda3\\lib\\site-packages\\keras\\utils\\generic_utils.py\u001b[0m in \u001b[0;36mslice_arrays\u001b[1;34m(arrays, start, stop)\u001b[0m\n\u001b[0;32m    524\u001b[0m             \u001b[1;32mif\u001b[0m \u001b[0mhasattr\u001b[0m\u001b[1;33m(\u001b[0m\u001b[0mstart\u001b[0m\u001b[1;33m,\u001b[0m \u001b[1;34m'shape'\u001b[0m\u001b[1;33m)\u001b[0m\u001b[1;33m:\u001b[0m\u001b[1;33m\u001b[0m\u001b[0m\n\u001b[0;32m    525\u001b[0m                 \u001b[0mstart\u001b[0m \u001b[1;33m=\u001b[0m \u001b[0mstart\u001b[0m\u001b[1;33m.\u001b[0m\u001b[0mtolist\u001b[0m\u001b[1;33m(\u001b[0m\u001b[1;33m)\u001b[0m\u001b[1;33m\u001b[0m\u001b[0m\n\u001b[1;32m--> 526\u001b[1;33m             \u001b[1;32mreturn\u001b[0m \u001b[1;33m[\u001b[0m\u001b[1;32mNone\u001b[0m \u001b[1;32mif\u001b[0m \u001b[0mx\u001b[0m \u001b[1;32mis\u001b[0m \u001b[1;32mNone\u001b[0m \u001b[1;32melse\u001b[0m \u001b[0mx\u001b[0m\u001b[1;33m[\u001b[0m\u001b[0mstart\u001b[0m\u001b[1;33m]\u001b[0m \u001b[1;32mfor\u001b[0m \u001b[0mx\u001b[0m \u001b[1;32min\u001b[0m \u001b[0marrays\u001b[0m\u001b[1;33m]\u001b[0m\u001b[1;33m\u001b[0m\u001b[0m\n\u001b[0m\u001b[0;32m    527\u001b[0m         \u001b[1;32melse\u001b[0m\u001b[1;33m:\u001b[0m\u001b[1;33m\u001b[0m\u001b[0m\n\u001b[0;32m    528\u001b[0m             \u001b[1;32mreturn\u001b[0m \u001b[1;33m[\u001b[0m\u001b[1;32mNone\u001b[0m \u001b[1;32mif\u001b[0m \u001b[0mx\u001b[0m \u001b[1;32mis\u001b[0m \u001b[1;32mNone\u001b[0m \u001b[1;32melse\u001b[0m \u001b[0mx\u001b[0m\u001b[1;33m[\u001b[0m\u001b[0mstart\u001b[0m\u001b[1;33m:\u001b[0m\u001b[0mstop\u001b[0m\u001b[1;33m]\u001b[0m \u001b[1;32mfor\u001b[0m \u001b[0mx\u001b[0m \u001b[1;32min\u001b[0m \u001b[0marrays\u001b[0m\u001b[1;33m]\u001b[0m\u001b[1;33m\u001b[0m\u001b[0m\n",
      "\u001b[1;32mC:\\Anaconda3\\lib\\site-packages\\keras\\utils\\generic_utils.py\u001b[0m in \u001b[0;36m<listcomp>\u001b[1;34m(.0)\u001b[0m\n\u001b[0;32m    524\u001b[0m             \u001b[1;32mif\u001b[0m \u001b[0mhasattr\u001b[0m\u001b[1;33m(\u001b[0m\u001b[0mstart\u001b[0m\u001b[1;33m,\u001b[0m \u001b[1;34m'shape'\u001b[0m\u001b[1;33m)\u001b[0m\u001b[1;33m:\u001b[0m\u001b[1;33m\u001b[0m\u001b[0m\n\u001b[0;32m    525\u001b[0m                 \u001b[0mstart\u001b[0m \u001b[1;33m=\u001b[0m \u001b[0mstart\u001b[0m\u001b[1;33m.\u001b[0m\u001b[0mtolist\u001b[0m\u001b[1;33m(\u001b[0m\u001b[1;33m)\u001b[0m\u001b[1;33m\u001b[0m\u001b[0m\n\u001b[1;32m--> 526\u001b[1;33m             \u001b[1;32mreturn\u001b[0m \u001b[1;33m[\u001b[0m\u001b[1;32mNone\u001b[0m \u001b[1;32mif\u001b[0m \u001b[0mx\u001b[0m \u001b[1;32mis\u001b[0m \u001b[1;32mNone\u001b[0m \u001b[1;32melse\u001b[0m \u001b[0mx\u001b[0m\u001b[1;33m[\u001b[0m\u001b[0mstart\u001b[0m\u001b[1;33m]\u001b[0m \u001b[1;32mfor\u001b[0m \u001b[0mx\u001b[0m \u001b[1;32min\u001b[0m \u001b[0marrays\u001b[0m\u001b[1;33m]\u001b[0m\u001b[1;33m\u001b[0m\u001b[0m\n\u001b[0m\u001b[0;32m    527\u001b[0m         \u001b[1;32melse\u001b[0m\u001b[1;33m:\u001b[0m\u001b[1;33m\u001b[0m\u001b[0m\n\u001b[0;32m    528\u001b[0m             \u001b[1;32mreturn\u001b[0m \u001b[1;33m[\u001b[0m\u001b[1;32mNone\u001b[0m \u001b[1;32mif\u001b[0m \u001b[0mx\u001b[0m \u001b[1;32mis\u001b[0m \u001b[1;32mNone\u001b[0m \u001b[1;32melse\u001b[0m \u001b[0mx\u001b[0m\u001b[1;33m[\u001b[0m\u001b[0mstart\u001b[0m\u001b[1;33m:\u001b[0m\u001b[0mstop\u001b[0m\u001b[1;33m]\u001b[0m \u001b[1;32mfor\u001b[0m \u001b[0mx\u001b[0m \u001b[1;32min\u001b[0m \u001b[0marrays\u001b[0m\u001b[1;33m]\u001b[0m\u001b[1;33m\u001b[0m\u001b[0m\n",
      "\u001b[1;31mKeyboardInterrupt\u001b[0m: "
     ]
    }
   ],
   "source": [
    "# training\n",
    "\n",
    "history = model.fit(X, y, \n",
    "                    validation_split=0.2, \n",
    "                    batch_size=1024,\n",
    "                    epochs=100,\n",
    "                    shuffle=True,\n",
    "                    callbacks=callbacks_list,\n",
    "                    verbose=1)"
   ]
  },
  {
   "cell_type": "markdown",
   "metadata": {},
   "source": [
    "# Save to File"
   ]
  },
  {
   "cell_type": "code",
   "execution_count": null,
   "metadata": {
    "ExecuteTime": {
     "end_time": "2019-06-30T06:40:42.061511Z",
     "start_time": "2019-06-30T06:38:32.903Z"
    }
   },
   "outputs": [],
   "source": [
    "import json\n",
    "\n",
    "def to_json(fname, data_dict):\n",
    "    json_data = json.dumps(data_dict)\n",
    "    with open(fname,'w') as file:\n",
    "        file.write(json_data)"
   ]
  },
  {
   "cell_type": "code",
   "execution_count": null,
   "metadata": {
    "ExecuteTime": {
     "end_time": "2019-06-30T06:40:42.306888Z",
     "start_time": "2019-06-30T06:38:33.355Z"
    }
   },
   "outputs": [],
   "source": [
    "# save model\n",
    "model.save('model.h5')\n",
    "\n",
    "# save dictionary\n",
    "to_json('CHAR_INDICES.json', CHAR_INDICES)\n",
    "to_json('INDICES_CHAR.json', INDICES_CHAR)"
   ]
  },
  {
   "cell_type": "markdown",
   "metadata": {},
   "source": [
    "# App"
   ]
  },
  {
   "cell_type": "code",
   "execution_count": 336,
   "metadata": {
    "ExecuteTime": {
     "end_time": "2019-06-30T04:35:46.680000Z",
     "start_time": "2019-06-30T04:35:46.675026Z"
    }
   },
   "outputs": [],
   "source": [
    "def pred_preprocessing(text, sequence_len=20):\n",
    "    X = []\n",
    "    data = [CHAR_INDICES['<pad>']] * sequence_len\n",
    "    for char in text:\n",
    "        data = data[1:] + [CHAR_INDICES[char]]  # X data\n",
    "        X.append(data)\n",
    "        \n",
    "    # data encoding\n",
    "    encode_X = np.zeros((len(X), sequence_len, len(CHAR_INDICES)), dtype=np.bool)\n",
    "    for i, data in enumerate(X):\n",
    "        for t, char in enumerate(data):\n",
    "            encode_X[i, t, char] = 1\n",
    "        \n",
    "    return encode_X"
   ]
  },
  {
   "cell_type": "code",
   "execution_count": 338,
   "metadata": {
    "ExecuteTime": {
     "end_time": "2019-06-30T04:35:48.091226Z",
     "start_time": "2019-06-30T04:35:48.088234Z"
    }
   },
   "outputs": [],
   "source": [
    "# # end index split\n",
    "\n",
    "# def word_tokenize(text):\n",
    "#     input_text_encode = preprocess_text(text)\n",
    "#     preds = model.predict(input_text_encode)\n",
    "#     class_ = [np.argmax(pred) for pred in preds]\n",
    "#     cut_indexs = [i for i, value in enumerate(class_) if value == 1]\n",
    "#     cut_indexs = [-1] + cut_indexs\n",
    "    \n",
    "#     result = []\n",
    "#     for i in range(len(cut_indexs)-1):\n",
    "#         seg = text[cut_indexs[i]+1:cut_indexs[i+1]+1]\n",
    "#         result.append(seg)\n",
    "#     return result"
   ]
  },
  {
   "cell_type": "code",
   "execution_count": 374,
   "metadata": {
    "ExecuteTime": {
     "end_time": "2019-06-30T04:58:57.300130Z",
     "start_time": "2019-06-30T04:58:57.296140Z"
    }
   },
   "outputs": [],
   "source": [
    "# front index split\n",
    "\n",
    "def word_tokenize(text):\n",
    "    input_text_encode = pred_preprocessing(text)\n",
    "    preds = model.predict(input_text_encode)\n",
    "    class_ = [np.argmax(pred) for pred in preds] + [1]\n",
    "    cut_indexs = [i for i, value in enumerate(class_) if value == 1]\n",
    "    words = [text[cut_indexs[i]:cut_indexs[i+1]] for i in range(len(cut_indexs)-1)]\n",
    "    return words"
   ]
  },
  {
   "cell_type": "code",
   "execution_count": 337,
   "metadata": {
    "ExecuteTime": {
     "end_time": "2019-06-30T04:35:47.610544Z",
     "start_time": "2019-06-30T04:35:47.606523Z"
    }
   },
   "outputs": [],
   "source": [
    "input_text = [\n",
    "    'สวัสดีครับผมชื่ออะไรก็ได้โตแล้ว'\n",
    "]"
   ]
  },
  {
   "cell_type": "code",
   "execution_count": 375,
   "metadata": {
    "ExecuteTime": {
     "end_time": "2019-06-30T04:59:16.141106Z",
     "start_time": "2019-06-30T04:59:08.684049Z"
    }
   },
   "outputs": [
    {
     "name": "stdout",
     "output_type": "stream",
     "text": [
      "['การ', 'ข่มขืน', 'โดย', 'กระบวนการ', 'ยุติธรรม', 'นัทมน คงเจริญ', ' ', 'หัวหน้า', 'ศูนย์สตรีศึกษา', ' ', 'คณะสังคมศาสตร์', ' ', 'มหาวิทยาลัยเชียงใหม่', 'สมชาย ปรีชาศิลปกุล', ' ', 'สาขา', 'นิติศาสตร์', ' ', 'คณะสังคมศาสตร์', ' ', 'มหาวิทยาลัยเชียงใหม่', '(', 'บทความนี้', 'ยาว', 'ประมาณ', ' ', '7', ' ', 'หน้า', 'กระดาษ', ' ', 'a', '4', ')', 'ประมวล', 'กฎหมาย', 'อาญา', ' ', 'มาตรา', ' ', '276', ':', ' ', 'ผู้', 'ใด', 'ข่มขืน', 'กระทำ', 'ชำเรา', 'หญิง', 'ซึ่ง', 'มิ', 'ใช่', 'ภริยา', 'ของ', 'ตน', ' ', 'โดย', 'ขู่เข็ญ', 'ด้วย', 'ประการ', 'ใด', 'ๆ', ' ', 'โดย', 'ใช้', 'กำลัง', 'ประทุษร้าย', ' ', 'โดย', 'หญิง', 'อยู่', 'ใน', 'ภาวะ', 'ที่', 'ไม่', 'สามารถ', 'ขัดขืน', 'ได้', ' ', 'หรือ', 'โดย', 'การ', 'ทำ', 'ให้', 'หญิง', 'เข้าใจ', 'ผิด', 'ว่า', 'ตน', 'เป็น', 'บุคคล', 'อื่น', ' ', 'ต้อง', 'ระวาง', 'โทษ', 'จำ', 'คุก', 'ตั้งแต่', 'สี่', 'ปี', 'ถึง', 'ยี่', 'สิบ', 'ปี', ' ', 'และ', 'ปรับ', 'ตั้งแต่', 'แปด', 'พัน', 'บาท', 'ถึง', 'สี่', 'หมื่น', 'บาท', '1', '.', ' ', 'เกริ่น', 'นำ', 'การ', 'ข่มขืน', 'เป็น', 'การ', 'กระทำ', 'ที่', 'กฎหมาย', 'ถือ', 'ว่า', 'เป็น', 'ความ', 'ผิด', 'ฐาน', 'หนึ่ง', ' ', 'ความ', 'เข้าใจ', 'โดย', 'ทั่วไป', 'ของ', 'สาธารณชน', 'ที่', 'มี', 'ต่อ', 'การ', 'กระทำ', 'ผิด', 'ฐาน', 'ข่มขืน', 'คือ', ' ', 'การ', 'ที่', 'ชาย', 'ใด', 'ใช้', 'กำลัง', 'บังคับ', 'หญิง', 'ให้', 'มี', 'เพศสัมพันธ์', 'กับ', 'ตน', ' ', 'โดย', 'ที่', 'หญิง', 'ไม่', 'ได้', 'มี', 'ความ', 'สมัครใจ', 'หรือ', 'ยินยอม', 'แม้', 'จะ', 'ได้', 'มี', 'การ', 'บัญญัติ', 'ถึง', 'ความ', 'ผิด', 'ฐาน', 'ข่มขืน', 'ไว้', 'อย่าง', 'ชัดเจน', ' ', 'และ', 'หาก', 'มี', 'บุคคล', 'ใด', 'ได้', 'กระทำ', 'ผิด', 'ต่อ', 'กฎหมาย', 'ก็', 'จะ', 'ต้อง', 'ได้', 'รับ', 'การ', 'ลง', 'โทษ', 'ตาม', 'ที่', 'กฎหมาย', 'กำหนด', ' ', 'จึง', 'มัก', 'เป็น', 'ที่', 'เข้าใจ', 'กัน', 'ว่า', 'ใน', 'สังคม', 'ไทย', 'ได้', 'มี', 'กฎหมาย', 'เพื่อ', 'ปกป้อง', 'คุ้มครอง', 'สวัสดิภาพ', 'ใน', 'ทาง', 'เพศ', 'ของ', 'หญิง', 'ไว้', 'อย่าง', 'เพียงพอ', ' ', 'หาก', 'มี', 'การ', 'กระทำ', 'ความ', 'ผิด', 'ขึ้น', 'ก็', 'เพียง', 'แต่', 'ดำเนิน', 'การ', 'ตาม', 'ขั้นตอน', 'ของ', 'กฎหมาย', 'เพื่อ', 'ให้', 'ได้', 'ตัว', 'ผู้', 'กระทำ', 'ความ', 'ผิด', 'มา', 'ลง', 'โทษ', 'เท่า', 'นั้น', 'น้อย', 'ครั้ง', 'ที่', 'จะ', 'มี', 'การ', 'ตั้ง', 'คำ', 'ถาม', 'หรือ', 'ข้อ', 'สงสัย', 'กับ', 'ระบบ', 'กฎหมาย', 'ที่', 'เป็นอยู่', 'ว่า', ' ', 'เป็น', 'กฎหมาย', 'ที่', 'มี', 'ประสิทธิภาพ', 'เพียงพอ', 'ต่อ', 'การ', 'คุ้มครอง', 'สวัสดิภาพ', 'ของ', 'หญิง', 'หรือ', 'ไม่', ' ', 'รวม', 'ถึง', 'ใน', 'การ', 'บังคับ', 'ใช้', 'กฎหมาย', 'นั้น', 'มี', 'อคติ', ' ', 'ความ', 'เชื่อ', ' ', 'ของ', 'ผู้', 'บังคับ', 'ใช้', 'กฎหมาย', 'ปะปน', 'เข้า', 'ไป', 'ใน', 'กระบวน', 'การ', 'ตัดสิน', 'หรือ', 'ไม่', 'ใน', 'ประเทศไทย', 'ที่', 'ได้', 'รับ', 'อิทธิพล', 'ทาง', 'กฎหมาย', 'แบบ', 'ประมวล', 'กฎหมาย', ' ', '(', 'civil', ' ', 'law', ')', ' ', 'ระบบ', 'ประมวล', 'กฎหมาย', 'นี้', ' ', 'เป็น', 'ระบบ', 'กฎหมาย', 'ซึ่ง', 'อธิบาย', 'ว่า', ' ', 'กฎหมาย', 'ลายลักษณ์อักษร', 'เป็น', 'ที่', 'มา', 'ที่', 'สำคัญ', 'ที่สุด', 'ของ', 'กฎหมาย', ' ', 'สำหรับ', 'องค์กร', 'ที่', 'มี', 'หน้าที่', 'บังคับ', 'ใช้', 'กฎหมาย', ' ', 'เพียง', 'แต่', 'นำ', 'กฎหมาย', 'มา', 'ปรับ', 'ใช้', 'เข้า', 'กับ', 'คดี', 'เท่า', 'นั้น', ' ', 'ศาล', 'ไม่', 'อาจ', 'สร้าง', 'กฎหมาย', 'ขึ้น', 'ใหม่', 'จาก', 'การ', 'วินิจฉัย', 'ของ', 'ตน', 'เหมือน', 'กับ', 'ที่', 'ศาล', 'ใน', 'ระบบ', 'คอมมอน', 'ลอว์', ' ', '(', 'common', ' ', 'law', ')', ' ', 'สามารถ', 'กระทำ', 'ได้', 'ดัง', 'นั้น', ' ', 'นัก', 'กฎหมาย', 'ส่วน', 'ใหญ่', 'ใน', 'สังคม', 'ไทย', 'จึง', 'เชื่อ', 'กัน', 'มา', 'โดย', 'ตลอด', 'ว่า', ' ', 'การ', 'ใช้', 'อำนาจ', 'ใน', 'การ', 'วินิจฉัย', 'ชี้ขาด', 'ข้อ', 'พิพาท', 'ต่างๆ', ' ', 'เป็น', 'เพียง', 'การ', 'นำ', 'เอา', 'บท', 'บัญญัติ', 'ของ', 'กฎหมาย', 'มา', 'ปรับ', 'ใช้', 'เท่า', 'นั้น', ' ', 'ผู้', 'ชี้ขาด', 'ไม่', 'ได้', 'มี', 'ส่วน', 'ใน', 'การ', 'เสริมแต่ง', ' ', 'แก้ไข', ' ', 'ตัดทอน', ' ', 'ขยาย', 'ความ', ' ', 'เนื้อหา', 'ของ', 'กฎหมาย', 'แต่อย่างใด', 'แต่', 'คำ', 'อธิบาย', 'ใน', 'ลักษณะ', 'ที่', 'กล่าว', 'มา', 'นี้', 'เป็น', 'ความ', 'จริง', 'เสมอ', 'ไป', 'หรือ', 'ไม่', ' ', 'การ', 'บังคับ', 'ใช้', 'กฎหมาย', 'ของ', 'ศาล', 'เป็น', 'เพียง', 'การ', 'นำ', 'เอา', 'บท', 'บัญญัติ', 'มา', 'บังคับ', 'ใช้', 'กับ', 'กรณี', 'เฉพาะ', 'แต่ละ', 'เรื่อง', 'อย่าง', 'ตรงไปตรงมา', ' ', 'โดย', 'ไม่', 'มี', 'การ', 'เปลี่ยนแปลง', 'ความหมาย', 'ของ', 'กฎหมาย', 'เลย', 'จริง', 'หรือ', '2', '.', ' ', 'ข่มขืน', ' ', 'คือ', 'ความ', 'รุนแรง', 'ทาง', 'กายภาพ', 'ระหว่าง', 'ชาย', 'หญิง', '?', 'การ', 'มี', 'เพศสัมพันธ์', 'ระหว่าง', 'ชาย', 'กับ', 'หญิง', 'ที่', 'จะ', 'เป็น', 'ความ', 'ผิด', 'ฐาน', 'ข่มขืน', 'นั้น', ' ', 'ต้อง', 'เกิด', 'ขึ้น', 'ด้วย', 'การ', 'บังคับ', 'โดย', 'ที่', 'ฝ่าย', 'หญิง', 'มิ', 'ได้', 'ยินยอม', ' ', 'แต่', 'ถ้าหาก', 'ฝ่าย', 'หญิง', 'ยินยอม', 'ใน', 'การ', 'มี', 'เพศสัมพันธ์', 'แล้ว', 'ก็', 'จะ', 'ไม่', 'ถือ', 'ว่า', 'เป็น', 'การ', 'ข่มขืน', 'แต่ประการใด', 'หลักการ', 'เรื่อง', 'ความ', 'ยินยอม', 'มี', 'ความ', 'สำคัญ', 'อย่าง', 'มาก', 'ต่อ', 'การ', 'พิจารณา', 'ว่า', ' ', 'การ', 'มี', 'เพศสัมพันธ์', 'ที่', 'เกิด', 'ขึ้น', 'เป็น', 'การ', 'ข่มขืน', 'หรือ', 'ไม่', ' ', 'แต่', 'ใน', 'การ', 'พิจารณา', 'ถึง', 'เหตุการณ์', 'ที่', 'เกิด', 'ขึ้น', 'จริง', ' ', 'คดี', 'ที่', 'เป็น', 'ข้อ', 'พิพาท', 'เรื่อง', 'ข่มขืน', 'ส่วน', 'ใหญ่', 'มัก', 'จะ', 'เกิด', 'ขึ้น', 'ใน', 'สถานที่', 'รโหฐาน', 'หรือ', 'ลับหูลับตา', 'ผู้คน', ' ', 'เช่น', ' ', 'ใน', 'ห้อง', 'พัก', ' ', 'โรง', 'แรม', ' ', 'ป่า', 'ละเมาะ', ' ', 'จึง', 'ไม่', 'ใช่', 'เรื่อง', 'ง่าย', 'ที่', 'จะ', 'รู้', 'ได้', 'ว่า', ' ', 'การ', 'มี', 'เพศสัมพันธ์', 'ที่', 'เกิด', 'ขึ้น', 'เป็น', 'ความ', 'ยินยอมพร้อมใจ', 'ของ', 'ฝ่าย', 'หญิง', 'หรือ', 'เป็น', 'การ', 'ขืนใจ', 'ของ', 'ฝ่าย', 'ชาย', ' ', 'ดัง', 'นั้น', ' ', 'จึง', 'เป็น', 'ปัญหา', 'มิ', 'ใช่', 'น้อย', 'ใน', 'กรณี', 'ที่', 'ฝ่าย', 'หญิง', 'อ้าง', 'ว่า', 'เป็น', 'การ', 'บังคับ', 'ขืนใจ', ' ', 'ส่วน', 'ฝ่าย', 'ชาย', 'ก็', 'อ้าง', 'ว่า', ' ', 'การ', 'มี', 'เพศสัมพันธ์', 'เกิด', 'ขึ้น', 'ด้วย', 'ความ', 'ยินยอม', 'ของ', 'อีก', 'ฝ่าย', 'กรณี', 'ที่', 'มี', 'ข้อ', 'โต้แย้ง', 'เรื่อง', 'ความ', 'ยินยอม', 'นี้', 'หาก', 'ไม่', 'มี', 'ประจักษ์', 'พยาน', 'หรือ', 'พยาน', 'บุคคล', ' ', 'ใน', 'การ', 'วินิจฉัย', 'ว่า', 'เหตุการณ์', 'ที่', 'เกิด', 'ขึ้น', 'เป็น', 'การ', 'ข่มขืน', 'หรือ', 'ไม่', ' ', 'จำเป็น', 'ที่', 'จะ', 'ต้อง', 'มี', 'การ', 'พิเคราะห์', 'ถึง', 'สภาพ', 'แวดล้อม', 'หรือ', 'พยาน', 'หลักฐาน', 'ที่', 'เกิด', 'ขึ้น', 'มา', 'เป็น', 'ปัจจัย', 'บ่งบอก', 'ถึง', 'ความ', 'เป็น', 'ไป', 'ได้', 'พยาน', 'หลักฐาน', 'ที่', 'จะ', 'บ่งชี้', 'ว่า', 'การ', 'มี', 'เพศสัมพันธ์', 'นั้น', 'เป็น', 'การ', 'ข่มขืน', 'ไม่', 'ใช่', 'เป็น', 'ความ', 'ยินยอม', ' ', 'มัก', 'ให้', 'ความ', 'สำคัญ', 'กับ', 'ร่องรอย', 'ที่', 'จะ', 'ปรากฏ', 'ขึ้น', 'กับ', 'ฝ่าย', 'หญิง', 'หรือ', 'กับ', 'ฝ่าย', 'ชาย', 'ผู้', 'กระทำ', ' ', 'เช่น', ' ', 'รอย', 'ฟกช้ำดำเขียว', ' ', 'บาดแผล', 'จาก', 'การ', 'ต่อสู้', ' ', 'หาก', 'ใน', 'คดี', 'หรือ', 'ข้อ', 'พิพาท', 'ใด', 'ที่', 'ฝ่าย', 'หญิง', 'มี', 'ร่องรอย', 'ดัง', 'กล่าว', 'ก็', 'จะ', 'เป็น', 'หลักฐาน', 'ยืนยัน', 'ได้', 'ว่า', 'ตน', 'เอง', 'มิ', 'ได้', 'มี', 'ความ', 'สมัครใจ', 'ใน', 'การ', 'มี', 'เพศสัมพันธ์', ' ', 'ยิ่ง', 'หาก', 'ฝ่าย', 'หญิง', 'เสีย', 'ชีวิต', 'ด้วย', ' ', 'ก็', 'จะ', 'ยิ่ง', 'เป็น', 'การ', 'ชัดเจน', 'ว่า', 'มิ', 'ได้', 'เป็น', 'การ', 'สมยอมพยาน', 'หลักฐาน', 'ใน', 'ลักษณะ', 'เช่น', 'นี้', 'เป็น', 'การ', 'ตอกย้ำ', 'ว่า', ' ', 'การ', 'ข่มขืน', 'ต้อง', 'เกิด', 'ขึ้น', 'พร้อม', 'กับ', 'ความ', 'รุนแรง', ' ', 'และ', 'หาก', 'ฝ่าย', 'หญิง', 'ไม่', 'ได้', 'ยินยอมพร้อมใจ', 'ก็', 'ต้อง', 'มี', 'การ', 'ต่อสู้', 'ขัดขืน', ' ', 'เพื่อ', 'ไม่', 'ให้', 'อีก', 'ฝ่าย', 'สามารถ', 'กระทำ', 'การ', 'ข่มขืน', 'ได้', ' ', 'ยิ่ง', 'หาก', 'เป็น', 'การ', 'กระทำ', 'ใน', 'ที่', 'ใกล้เคียง', 'กับ', 'สาธารณะ', 'ก็', 'ยิ่งยาก', 'ต่อ', 'การ', 'เป็น', 'การ', 'ข่มขืน', 'ความ', 'เชื่อ', 'ว่า', 'การ', 'ข่มขืน', 'ต้อง', 'เกิด', 'ขึ้น', 'พร้อม', 'กับ', 'ความ', 'รุนแรง', 'เช่น', 'นี้', ' ', 'ทำ', 'ให้', 'การ', 'มี', 'เพศสัมพันธ์', 'ที่', 'เกิด', 'ขึ้น', 'ใน', 'หลาย', 'ครั้ง', 'หลาย', 'คดี', 'มิ', 'ใช่', 'เป็น', 'การ', 'ข่มขืน', 'ตาม', 'ความ', 'เชื่อ', 'ความ', 'เข้าใจ', 'ของ', 'ผู้', 'บังคับ', 'ใช้', 'กฎหมาย', ' ', 'เช่น', ' ', 'คำ', 'พิพากษา', 'ฎีกา', 'ที่', ' ', '5176', '/', '2538', ' ', 'ผู้', 'เสียหาย', 'อายุ', ' ', '14', ' ', 'ปี', ' ', '4', ' ', 'เดือน', ' ', 'ถูก', 'ข่มขืน', 'ที่', 'ห้อง', 'ยาม', 'รักษา', 'การณ์', ' ', 'หน้า', 'ห้อง', 'มี', 'ถนน', 'กว้าง', ' ', '2', ' ', 'วา', ' ', 'ตรงข้าม', 'กับ', 'ที่', 'เกิด', 'เหตุ', 'มี', 'ร้าน', 'ขาย', 'ข้าว', 'ต้ม', 'โต้รุ่ง', ' ', 'ห่าง', 'จาก', 'ที่', 'เกิด', 'เหตุ', 'ประมาณ', ' ', '50', ' ', 'เมตร', 'มี', 'ป้อม', 'ยาม', 'และ', 'เจ้าหน้าที่', 'ตำรวจ', 'อยู่', 'ใน', 'ป้อม', 'ยาม', 'ขณะ', 'นั้น', ' ', 'ศาล', 'วินิจฉัย', 'ว่า', 'ถ้า', 'ผู้', 'เสียหาย', 'ขัดขืน', 'ย่อม', 'มี', 'ผู้', 'รู้เห็น', 'จึง', 'เป็น', 'ความ', 'สมัครใจ', 'ร่วม', 'ประเวณี', 'ทั้งที่', 'เมื่อ', 'พิจารณา', 'ใน', 'รายละเอียด', 'พบ', 'ว่า', 'เป็น', 'กรณี', 'ที่', 'ผู้', 'ชาย', ' ', '3', ' ', 'คน', ' ', 'ใช้', 'กำลัง', 'ยึด', 'จับ', 'เด็ก', 'อายุ', ' ', '14', ' ', 'ปี', ' ', 'จึง', 'เป็น', 'เรื่อง', 'ที่', 'ไม่', 'อาจ', 'เกิน', 'ความ', 'คาดหมาย', 'ได้', ' ', 'ใน', 'เมื่อ', 'หลาย', 'ครั้ง', 'การ', 'ข่มขืน', 'เป็น', 'เรื่อง', 'ที่', 'ผู้', 'ชาย', 'เพียง', 'คน', 'เดียว', 'ก็', 'สามารถ', 'กระทำ', 'ได้', 'แล้ว', ' ', 'ยิ่ง', 'หาก', 'พิจารณา', 'ว่า', 'ผู้', 'เสียหาย', 'ใน', 'คดี', 'นี้', 'เป็น', 'เด็ก', 'ก็', 'ยิ่ง', 'คำนึง', 'ถึง', 'ความ', 'อ่อนเยาว์', 'เข้า', 'มา', 'เป็น', 'เหตุผล', 'ประกอบ', 'การ', 'ตัดสิน', ' ', 'แต่', 'คำ', 'พิพากษา', 'กลับ', 'วาง', 'อยู่', 'บน', 'ความ', 'เชื่อ', 'ว่า', 'หาก', 'หญิง', 'ไม่', 'ยินยอม', 'ก็', 'ต้อง', 'ขัดขืน', ' ', 'โดย', 'ไม่', 'คำนึง', 'ถึง', 'แง่มุม', 'จาก', 'ผู้', 'ถูก', 'กระทำ', 'ว่า', ' ', 'ผู้', 'หญิง', 'หวาดกลัว', 'อันตราย', 'ที่', 'อาจ', 'เกิด', 'ขึ้น', 'กับ', 'ชีวิต', 'ของ', 'ตน', 'เอง', ' ', 'เพราะ', 'ฉะนั้น', 'สิ่ง', 'ที่', 'สำคัญ', 'ที่สุด', 'ก็', 'คือ', 'การ', 'ทำ', 'ให้', 'ชีวิต', 'ของ', 'ตน', 'ปลอด', 'ภัย', 'การ', 'พิจารณา', 'ว่า', 'การ', 'ข่มขืน', 'จะ', 'ต้อง', 'เกิด', 'ขึ้น', 'พร้อม', 'กับ', 'การ', 'ต่อสู้', 'ขัดขืน', 'ของ', 'ฝ่าย', 'หญิง', ' ', 'ยัง', 'เป็น', 'ผล', 'ให้', 'มี', 'การ', 'ละเลย', 'ต่อ', 'การ', 'ข่มขืน', 'ที่', 'อาจ', 'ไม่', 'ปรากฏ', 'ร่องรอย', 'ชัดเจน', ' ', 'เช่น', ' ', 'ใน', 'กรณี', 'ที่', 'ผู้', 'ข่มขืน', 'เป็น', 'ผู้', 'ที่', 'มี', 'อำนาจ', 'หรือ', 'พระคุณ', 'เหนือ', 'ฝ่าย', 'หญิง', ' ', 'ไม่ว่า', 'จะ', 'เป็น', 'บุคคล', 'ใน', 'ครอบครัว', ' ', 'ครูบาอาจารย์', ' ', 'นาย', 'จ้าง', ' ', 'ใน', 'กรณี', 'เช่น', 'การ', 'มี', 'เพศสัมพันธ์', 'ที่', 'เกิด', 'ขึ้น', 'แม้', 'ฝ่าย', 'หญิง', 'จะ', 'ไม่', 'ได้', 'สมัครใจ', ' ', 'แต่', 'ก็', 'ไม่', 'อาจ', 'ต่อสู้', 'ขัดขืน', 'ด้วย', 'การ', 'ใช้', 'กำลัง', 'ทาง', 'กายภาพ', 'เพราะ', 'มี', 'เหตุผล', 'อื่น', 'ๆ', ' ', 'ที่', 'ซับซ้อน', 'รองรับ', 'อยู่', 'หรือ', 'ใน', 'กรณี', 'ที่', 'มี', 'การ', 'ข่มขืน', 'แต่', 'ฝ่าย', 'หญิง', 'ใช้', 'เวลา', 'ใน', 'การ', 'ไตร่ตรอง', 'เป็น', 'เวลา', 'นาน', ' ', 'ก่อน', 'ที่', 'จะ', 'ดำเนิน', 'การ', 'ตาม', 'กฎหมาย', ' ', 'แม้', 'ว่า', 'ใน', 'การ', 'ข่มขืน', 'อาจ', 'มี', 'ร่องรอย', 'ปรากฏ', 'อยู่', ' ', 'แต่', 'ระยะ', 'เวลา', 'ที่', 'ผ่าน', 'ไป', 'ก็', 'อาจ', 'ทำ', 'ให้', 'ร่องรอย', 'เหล่า', 'นั้น', 'ลบเลือน', 'ได้', ' ', 'ถึง', 'จะ', 'มี', 'การ', 'เก็บ', 'คราบ', 'อสุจิ', 'เอา', 'ไว้', 'ใน', 'กระดาษ', 'ทิชชู่', 'หรือ', 'ชุด', 'ชั้น', 'ใน', ' ', 'ทั้งหมด', 'เป็น', 'แค่', 'หลักฐาน', 'ของ', 'การ', 'มี', 'เพศสัมพันธ์', ' ', 'แต่', 'ไม่', 'ได้', 'บ่งชี้', 'ว่า', 'เพศสัมพันธ์', 'เกิด', 'ขึ้น', 'โดย', 'การ', 'ใช้', 'กำลัง', 'บังคับ', 'นอก', 'จาก', 'นี้', 'ตาม', 'หลัก', 'กฎหมาย', 'ใน', 'มาตรา', ' ', '276', ' ', 'การ', 'กระทำ', 'ที่', 'เป็น', 'การ', 'ข่มขืน', 'ด้วย', 'การ', 'ใช้', 'กำลัง', 'หรือ', 'อำนาจ', 'บังคับ', 'นั้น', ' ', 'ต้อง', 'เกิด', 'จาก', 'เหตุ', 'อย่าง', 'หนึ่ง', 'อย่าง', 'ใด', ' ', 'ดัง', 'ต่อ', 'ไป', 'นี้', '(', '1', ')', ' ', 'โดย', 'ขู่เข็ญ', 'ด้วย', 'ประการ', 'ใด', 'ๆ', '(', '2', ')', ' ', 'โดย', 'ใช้', 'กำลัง', 'ประทุษร้าย', '(', '3', ')', ' ', 'โดย', 'หญิง', 'อยู่', 'ใน', 'ภาวะ', 'ที่', 'ไม่', 'อาจ', 'ขัดขืน', 'ได้', '(', '4', ')', ' ', 'โดย', 'ทำ', 'ให้', 'หญิง', 'เข้าใจ', 'ผิด', 'ว่า', 'ตน', 'เอง', 'เป็น', 'บุคคล', 'อื่น', 'การ', 'กระทำ', 'ที่', 'จะ', 'เป็น', 'ความ', 'ผิด', 'ตาม', 'มาตรา', 'นี้', 'ได้', 'นั้น', ' ', 'ต้อง', 'เกิด', 'ขึ้น', 'จาก', 'การ', 'กระทำ', 'ที่', 'เข้า', 'ข่าย', 'ใน', 'ลักษณะ', 'ทั้ง', ' ', '4', ' ', 'ประการ', 'ข้าง', 'ต้น', ' ', 'ซึ่ง', 'จาก', 'การ', 'บังคับ', 'ใช้', 'กฎหมาย', 'ของ', 'ศาล', ' ', 'ได้', 'มี', 'การ', 'ตีความ', 'ให้', 'เหตุ', 'ของ', 'การ', 'ใช้', 'กำลัง', 'ประทุษร้าย', 'มี', 'ลักษณะ', 'ที่', 'คับแคบ', ' ', 'โดย', 'ต้อง', 'เกิด', 'ขึ้น', 'อย่าง', 'ชัดเจน', 'จึง', 'จะ', 'ถูก', 'นับ', 'ว่า', 'เป็น', 'เหตุ', 'ตาม', 'ที่', 'กฎหมาย', 'กำหนด', 'ตัวอย่าง', 'ใน', 'คำ', 'พิพากษา', 'ฎีกา', 'ที่', ' ', '3827', '/', '2538', ' ', 'จำเลย', 'ถูก', 'กล่าวหา', 'ว่า', 'กระทำ', 'ชำเรา', 'โดย', 'ใช้', 'อาวุธ', 'ขู่เข็ญ', ' ', 'จาก', 'การ', 'พิจารณา', 'คดี', 'จำเลย', 'ที่', 'เป็น', 'เด็ก', 'นัก', 'ศึกษา', 'อาชีวะ', 'ได้', 'ชัก', 'มีด', 'สปริง', 'ออก', 'มา', 'แต่', 'ไม่', 'ได้', 'ง้าง', 'ออก', ' ', 'ศาล', 'เห็น', 'ว่า', 'เมื่อ', 'ไม่', 'ได้', 'ง้าง', 'ออก', 'มา', 'ก็', 'ไม่', 'สามารถ', 'ใช้', 'ทำร้าย', 'ได้', ' ', 'และ', 'ฝ่าย', 'หญิง', 'ก็', 'ไม่', 'ได้', 'นำสืบ', 'ว่า', 'ได้', 'ใช้', 'ขู่เข็ญ', 'เพื่อ', 'กระทำ', 'ชำเรา', ' ', 'การ', 'กระทำ', 'นี้', 'จึง', 'ไม่', 'ผิด', 'ฐาน', 'ขู่เข็ญ', 'โดย', 'ใช้', 'อาวุธ', 'คดี', 'นี้', 'ผู้', 'เสียหาย', 'เป็น', 'เด็ก', 'หญิง', 'อายุ', ' ', '14', ' ', 'ปี', ' ', 'และ', 'อีก', 'ฝ่าย', 'เป็น', 'นัก', 'เรียน', 'อาชีวะ', ' ', 'หาก', 'พิจารณา', 'ถึง', 'บริบท', 'ทาง', 'สังคม', 'ที่', 'แวดล้อม', 'ก็', 'ย่อม', 'ชวน', 'ให้', 'เกิด', 'ความ', 'กลัว', 'ต่อ', 'การ', 'กระทำ', 'ของ', 'อีก', 'ฝ่าย', ' ', 'การ', 'นำ', 'มีด', 'สปริง', 'ออก', 'มา', 'แม้', 'จะ', 'ไม่', 'ได้', 'ง้าง', 'ใบ', 'มีด', 'ออก', 'มา', 'ก็', 'ย่อม', 'เป็น', 'การ', 'ข่มขู่', 'ได้', 'เช่น', 'กัน', ' ', 'การ', 'ตีความหมาย', 'ของ', 'การ', 'ขู่เข็ญ', 'ด้วย', 'การ', 'ใช้', 'อาวุธ', 'ใน', 'ลักษณะ', 'เช่น', 'นี้', ' ', 'ทำ', 'ให้', 'การ', 'กระทำ', 'ที่', 'จะ', 'เข้า', 'ข่าย', 'เป็น', 'ความ', 'ผิด', 'ต้อง', 'ให้', 'มี', 'การ', 'ง้าง', 'ใบ', 'มี', 'ด', 'ออก', 'มา', 'จ่อ', 'คอ', 'อีก', 'ฝ่าย', 'พร้อม', 'กับ', 'การ', 'กล่าว', 'ข่มขู่', ' ', 'นับ', 'ได้', 'ว่า', 'เป็น', 'การ', 'ตีความ', 'ที่', 'ไม่', 'ได้', 'พิจารณา', 'ถึง', 'ความ', 'หวาดกลัว', 'ที่', 'เกิด', 'ขึ้น', 'กับ', 'ผู้', 'ถูก', 'กระทำ', 'แต่อย่างใด', ' ', 'อัน', 'เป็น', 'การ', 'ตีความ', 'ที่', 'มี', 'ลักษณะ', 'คับแคบ', 'อย่าง', 'มาก', 'หรือ', 'กระทั่ง', 'การ', 'มี', 'เพศสัมพันธ์', 'ใด', 'ที่', 'เกิด', 'ขึ้น', 'แม้', 'โดย', 'ฝ่าย', 'หญิง', 'ไม่', 'ได้', 'สมัครใจ', ' ', 'แต่', 'ถ้าหาก', 'ไม่', 'ได้', 'เป็น', 'ผล', 'มา', 'จาก', 'เหตุ', ' ', '4', ' ', 'ประการ', 'ข้าง', 'ต้น', ' ', 'ก็', 'ไม่', 'อาจ', 'นับ', 'ได้', 'ว่า', 'เป็น', 'การ', 'ข่มขืน', 'ตาม', 'บรรทัดฐาน', 'ของ', 'กฎหมาย', 'ปัจจุบัน', 'คำ', 'พิพากษา', 'ฎีกา', 'ที่', ' ', '638', '/', '2516', ' ', 'หญิง', 'ยอม', 'ให้', 'ชาย', 'มี', 'เพศสัมพันธ์', 'ด้วย', ' ', 'เนื่อง', 'มา', 'จาก', 'ฝ่าย', 'ชาย', 'แบล็คเมล์', 'ว่า', 'หาก', 'ไม่', 'ยินยอม', 'จะ', 'นำ', 'เรื่อง', 'การ', 'มี', 'เพศสัมพันธ์', 'ของ', 'หญิง', 'กับ', 'ชาย', 'อีก', 'คน', 'ไป', 'เปิดเผย', ' ', 'กรณี', 'เช่น', 'นี้', ' ', 'ศาล', 'ก็', 'มี', 'ความ', 'เห็น', 'ว่า', 'ไม่', 'ถือ', 'เป็น', 'การ', 'ข่มขืน', 'จาก', 'ตัวอย่าง', 'นี้', 'ทำ', 'ให้', 'เห็น', 'ได้', 'ว่า', 'การ', 'ตีความ', 'เหตุ', 'แห่ง', 'การ', 'ข่มขืน', 'ตาม', 'กฎหมาย', 'อย่าง', 'เคร่งครัด', ' ', 'ทำ', 'ให้', 'มี', 'ตัวอย่าง', 'อีก', 'เป็น', 'จำนวน', 'มาก', 'ที่', 'ไม่', 'อาจ', 'จัด', 'เข้า', 'ว่า', 'เป็น', 'การ', 'ข่มขืน', 'ได้', ' ', 'ทั้ง', 'ที่', 'ไม่', 'ได้', 'เป็น', 'ความ', 'ยินยอม', 'อย่าง', 'แท้จริง', 'ของ', 'ฝ่าย', 'หญิง', ' ', 'เช่น', ' ', 'การ', 'ยินยอม', 'มี', 'เพศสัมพันธ์', 'เพราะ', 'การ', 'ถูก', 'เข็ญ', 'ว่า', 'จะ', 'ทำ', 'ให้', 'ได้', 'รับ', 'ความ', 'อับอาย', ',', ' ', 'การ', 'หลอกลวง', 'ให้', 'ฝ่าย', 'หญิง', 'เข้าใจ', 'ผิด', 'ว่า', 'จะ', 'แต่งงาน', 'ด้วย', ',', ' ', 'การ', 'ใช้', 'อำนาจ', 'ของ', 'ฝ่าย', 'ชาย', 'ที่', 'มี', 'อำนาจ', 'เหนือ', 'กว่า', 'ฝ่าย', 'หญิง', 'หรือ', 'โดย', 'อาศัย', 'ความ', 'เชื่อถือ', 'ของ', 'บุคคล', 'นั้น', 'ๆ', '3', '.', ' ', 'กระทำ', 'ชำเรา', ' ', ':', ' ', 'เรื่อง', 'ของ', 'เครื่อง', 'เพศ', 'กับ', 'เครื่อง', 'เพศ', 'ใน', 'ประมวล', 'กฎหมาย', 'อาญา', 'ไม่', 'ได้', 'นิยาม', 'ความหมาย', 'ของ', 'การ', 'ชำเรา', 'เอา', 'ไว้', ' ', 'แต่', 'ศาล', 'ได้', 'ให้', 'ความหมาย', 'ของ', 'การ', 'กระทำ', 'ชำเรา', 'เอา', 'ไว้', 'ใน', 'การ', 'ตัดสิน', 'คดี', 'ว่า', ' ', 'คือ', 'การ', 'ร่วม', 'เพศ', 'ระหว่าง', 'ชาย', 'หญิง', ' ', 'โดย', 'อวัยวะ', 'สืบ', 'พันธ์', 'ของ', 'ชาย', 'ล่วงล้ำ', 'เข้า', 'ไป', 'ใน', 'ช่อง', 'คลอด', 'ของ', 'หญิง', 'แม้', 'จะ', 'เพียง', 'เล็กน้อย', 'ก็ตาม', ' ', 'และ', 'ไม่ว่า', 'ฝ่าย', 'ชาย', 'จะ', 'สำเร็จ', 'ความ', 'ใคร่', 'หรือ', 'ไม่', 'ก็ตาม', ' ', '(', 'ตัวอย่าง', 'คำ', 'พิพากษา', 'ฎีกา', 'ที่', 'ให้', 'ความหมาย', 'นี้', ' ', 'เช่น', ' ', 'ฎีกา', 'ที่', ' ', '2752', '/', '2540', ',', ' ', '857', '/', '2536', ',', ' ', '1117', '/', '2524', ',', '1346', '/', '2523', ',', ' ', '1089', '/', '2518', ',', ' ', '85', '/', '2504', ' ', 'เป็นต้น', ')', ' ', 'ซึ่ง', 'ความหมาย', 'ของ', 'การ', 'กระทำ', 'ชำเรา', 'ใน', 'ลักษณะ', 'ที่', 'เป็น', 'เรื่อง', 'ของ', 'เครื่อง', 'เพศ', 'กับ', 'เครื่อง', 'เพศ', ' ', 'ได้', 'ดำรง', 'อยู่', 'มา', 'จนกระทั่ง', 'ปัจจุบัน', 'ก็', 'ยัง', 'ไม่', 'มี', 'ความ', 'เปลี่ยนแปลง', 'นิยาม', 'ความหมาย', 'ใน', 'ลักษณะ', 'เชิงกาย', 'ภาพ', 'อย่าง', 'คับแคบ', 'เช่น', 'นี้', ' ', 'ทำ', 'ให้', 'การ', 'บังคับ', 'ร่วม', 'เพศ', 'ใน', 'หลาย', 'รูปแบบ', 'ไม่', 'เป็น', 'ความ', 'ผิด', 'ใน', 'ความหมาย', 'นี้', ' ', 'ดังเช่น', ' ', 'การ', 'ร่วม', 'เพศ', 'ทาง', 'ทวาร', 'หนัก', ' ', '(', 'คำ', 'พิพากษา', 'ศาลฎีกา', ' ', 'ที่', ' ', '509', '/', '2529', ')', ' ', 'มี', 'ความ', 'ผิด', 'เพียง', 'ฐาน', 'อนาจาร', 'ซึ่ง', 'บท', 'ลง', 'โทษ', 'เบา', 'กว่า', 'ความ', 'ผิด', 'ฐาน', 'ข่มขืน', ' ', 'หรือ', 'การ', 'บังคับ', 'ให้', 'สำเร็จ', 'ความ', 'ใคร่', 'ทาง', 'ปาก', 'โดย', 'หญิง', ' ', 'ก็', 'จะ', 'ไม่', 'ได้', 'เข้า', 'อยู่', 'ใน', 'ความหมาย', 'ของ', 'การ', 'กระทำ', 'ชำเรา', 'เลย', 'หาก', 'พิจารณา', 'จาก', 'แง่มุม', 'ของ', 'ผู้', 'ถูก', 'กระทำ', ' ', 'ไม่ว่า', 'จะ', 'เป็น', 'การ', 'เอา', 'อวัยวะ', 'เพศ', 'สอด', 'ใส่', 'หรือ', 'ใช้', 'สิ่งของ', 'สอดใส่', 'ล้วนแล้ว', 'แต่', 'สร้าง', 'ความ', 'บอบช้ำ', 'ให้', 'กับ', 'ผู้', 'เสียหาย', 'ไม่', 'แตกต่าง', 'กัน', ' ', 'แต่', 'สำหรับ', 'ผู้', 'กระทำ', 'แล้ว', 'กลับ', 'ได้', 'รับ', 'โทษ', 'น้อย', 'ลง', ' ', 'ถ้า', 'ไม่', 'ได้', 'เป็น', 'การ', 'ล่วงล้ำ', 'อวัยวะ', 'เพศ', 'หญิง', 'ด้วย', 'เครื่อง', 'เพศ', 'ของ', 'ตน', 'ได้', 'มี', 'การ', 'เรียกร้อง', 'ให้', 'เกิด', 'การ', 'แก้ไข', 'กำหนด', 'คำ', 'นิยาม', 'ของ', 'การ', 'ร่วม', 'ประเวณี', 'หรือ', 'การ', 'กระทำ', 'ชำเรา', 'ให้', 'มี', 'ความหมาย', 'ที่', 'กว้าง', 'ขึ้น', ' ', 'และ', 'ครอบคลุม', 'ประสบการณ์', 'การ', 'ถูก', 'ทารุณกรรม', 'ทาง', 'เพศ', 'ที่', 'มาก', 'ขึ้น', 'กว่า', 'เดิม', ' ', 'ด้วย', 'การ', 'กำหนด', 'ให้', 'การ', 'ร่วม', 'ประเวณี', 'หมาย', 'ถึง', 'การ', 'สอดใส่', ' ', 'หรือ', 'การ', 'กระทำ', 'ใด', 'ที่', 'เกี่ยวข้อง', 'กับ', 'การ', 'สอดใส่', 'ส่วน', 'หนึ่ง', 'ส่วน', 'ใด', 'ของ', 'ร่างกาย', 'ของ', 'ผู้', 'กระทำ', 'ผิด', ' ', 'ไม่ว่า', 'เป็น', 'นิ้ว', ' ', 'อวัยวะ', 'เพศ', ' ', 'หรือ', 'การ', 'ใช้', 'วัตถุ', 'ใด', 'ๆ', ' ', 'ใส่', 'เข้า', 'ไป', 'ใน', 'ช่อง', 'คลอด', ' ', 'ทวาร', 'หนัก', ' ', 'หรือ', 'ปาก', 'ของ', 'ผู้', 'เสียหาย', ' ', 'รวม', 'ถึง', 'การ', 'ใช้', 'สัตว์', 'ข่มขืน', 'ผู้', 'เสียหาย', 'ด้วย', 'อย่าง', 'ไร', 'ก็ตาม', ' ', 'ข้อ', 'เสนอ', 'นี้', 'ยังคง', 'ไม่', 'มี', 'ความ', 'คืบหน้า', 'มาก', 'ที่', 'ควร', ' ', 'การ', 'กระทำ', 'ชำเรา', 'ใน', 'ทาง', 'กฎหมาย', 'จึง', 'ยังคง', 'เป็น', 'เรื่อง', 'ของ', 'เครื่อง', 'เพศ', 'กับ', 'เครื่อง', 'เพศ', 'เช่น', 'เดิม', '4', '.', ' ', 'หญิง', 'ที่', 'มิ', 'ใช่', 'ภริยา', 'ตน', ' ', 'และ', 'อดีต', 'เมีย', ' ', 'อดีต', 'แฟน', ' ', 'อดีต', 'คน', 'รัก', ' ', 'ฯลฯ', 'การ', 'ข่มขืน', 'กระทำ', 'ชำเรา', 'ตาม', 'ประมวล', 'กฎหมาย', 'อาญา', ' ', 'จะ', 'เป็น', 'ความ', 'ผิด', 'ก็', 'ต่อเมื่อ', 'ได้', 'กระทำ', 'ต่อ', 'หญิง', 'ที่', 'ไม่', 'ใช่', 'ภริยา', 'ของ', 'ตน', 'เอง', 'เท่า', 'นั้น', ' ', 'บท', 'บัญญัติ', 'ของ', 'กฎหมาย', 'ลักษณะ', 'เช่น', 'นี้', ' ', 'ได้', 'ทำ', 'ให้', 'การ', 'บังคับ', 'ให้', 'มี', 'การ', 'ร่วม', 'เพศ', 'ระหว่าง', 'สามี', 'ภรรยา', 'ไม่', 'เป็น', 'ความ', 'ผิด', 'ฐาน', 'ข่มขืน', 'แต่อย่างใด', 'บท', 'บัญญัติ', 'ของ', 'กฎหมาย', 'ใน', 'ลักษณะ', 'นี้', 'ย่อม', 'สะท้อน', 'ให้', 'เห็น', 'ว่า', ' ', 'การ', 'ที่', 'หญิง', 'ตก', 'เป็น', 'ภรรยา', 'ของ', 'ชาย', 'ใด', ' ', 'ทำ', 'ให้', 'หญิง', 'นั้น', 'มี', 'หน้าที่', 'ที่', 'จะ', 'ต้อง', 'มี', 'เพศสัมพันธ์', 'กับ', 'ฝ่าย', 'ชาย', ' ', 'การ', 'มี', 'เพศสัมพันธ์', 'ไม่', 'ใช่', 'สิทธิ', 'ที่', 'หญิง', 'จะ', 'สามารถ', 'เลือก', 'ได้', 'ด้วย', 'ตน', 'เอง', ' ', 'หาก', 'ต้อง', 'คอย', 'ตอบสนอง', 'ต่อ', 'ความ', 'ต้องการ', 'ของ', 'ฝ่าย', 'ชาย', 'เป็น', 'หลัก', ' ', 'ดัง', 'นั้น', 'แม้', 'ว่า', 'ใน', 'บาง', 'ช่วง', 'เวลา', 'ที่', 'หญิง', 'อาจ', 'ไม่', 'อยาก', 'มี', 'เพศสัมพันธ์', ' ', 'เช่น', ' ', 'ระหว่าง', 'มี', 'ประจำ', 'เดือน', ' ', 'หรือ', 'เหน็ดเหนื่อย', 'จาก', 'การ', 'ทำ', 'งาน', ' ', 'หาก', 'ฝ่าย', 'ชาย', 'ใช้', 'กำลัง', 'เพื่อ', 'บังคับ', 'ให้', 'มี', 'การ', 'ร่วม', 'เพศ', ' ', 'การ', 'กระทำ', 'นี้', ' ', 'ก็', 'ไม่', 'เป็น', 'ความ', 'ผิด', 'ฐาน', 'ข่มขืน', 'กระทำ', 'ชำเรา', 'บท', 'บัญญัติ', 'ของ', 'กฎหมาย', 'ใน', 'ลักษณะ', 'เช่น', 'นี้', 'ได้', 'ถูก', 'โต้แย้ง', 'อย่าง', 'กว้างขวาง', 'ใน', 'ปัจจุบัน', ' ', 'ด้วย', 'การ', 'แยกแยะ', 'ให้', 'เห็น', 'ความ', 'แตกต่าง', 'ระหว่าง', 'สิทธิ', 'ใน', 'การ', 'ก่อตั้ง', 'ครอบครัว', ' ', 'กับ', 'สิทธิ', 'ใน', 'การ', 'มี', 'เพศสัมพันธ์', 'ว่า', 'เป็น', 'เรื่อง', 'ที่', 'สามารถ', 'แยก', 'ออก', 'จาก', 'กัน', 'ได้', ' ', 'การ', 'ที่', 'หญิง', 'แต่งงาน', 'กับ', 'ชาย', ' ', 'มี', 'ความหมาย', 'ถึง', 'การ', 'ร่วม', 'กัน', 'ก่อตั้ง', 'ครอบครัว', 'แต่', 'ไม่', 'ได้', 'หมาย', 'ความ', 'ว่า', 'หญิง', 'ได้', 'กลาย', 'เป็น', 'ที่', 'รองรับ', 'ความ', 'ต้องการ', 'ทาง', 'เพศ', 'ของ', 'ฝ่าย', 'ชาย', ' ', 'โดย', 'ไม่', 'คำนึง', 'ถึง', 'อารมณ์', 'ความ', 'รู้สึก', ' ', 'สุขภาพ', ' ', 'ความ', 'ต้องการ', 'ของ', 'ฝ่าย', 'หญิง', 'เลย', 'จึง', 'ได้', 'มี', 'ความ', 'พยายาม', 'ที่', 'จะ', 'เสนอ', 'แก้ไข', 'เนื้อหา', 'ของ', 'กฎหมาย', 'ดัง', 'กล่าว', ' ', 'ด้วย', 'การ', 'ให้', 'ตัด', 'คำ', 'ว่า', ' ', '\"', 'หญิง', 'ที่', 'มิ', 'ใช่', 'ภริยา', 'ของ', 'ตน', '\"', ' ', 'ออก', ' ', 'อัน', 'จะ', 'ทำ', 'ให้', 'การ', 'ข่มขืน', 'ที่', 'กระทำ', 'ต่อ', 'หญิง', 'ใด', 'ก็', 'ล้วนแล้ว', 'แต่', 'มี', 'ความ', 'ผิด', 'ใน', 'ฐาน', 'ข่มขืน', 'กระทำ', 'ชำเรา', 'ได้', 'ทั้งสิ้น', 'ถึงแม้', 'ว่า', 'บท', 'บัญญัติ', 'ใน', 'การ', 'ข่มขืน', 'กระทำ', 'ชำเรา', ' ', 'จะ', 'กำหนด', 'ให้', 'เป็น', 'ความ', 'ผิด', 'หาก', 'ได้', 'กระทำ', 'ต่อ', 'หญิง', 'ที่', 'มิ', 'ใช่', 'ภรรยา', 'ของ', 'ตน', 'เอง', ' ', 'ซึ่ง', 'ก็', 'ควร', 'หมาย', 'ถึง', 'ว่า', 'หาก', 'ชาย', 'ใด', 'บังคับ', 'ขืนใจ', 'หญิง', 'ที่', 'มิ', 'ใช่', 'ภรรยา', 'ก็', 'ควร', 'จะ', 'มี', 'ความ', 'ผิด', 'ฐาน', 'ข่มขืน', 'แต่', 'ใน', 'การ', 'วินิจฉัย', 'คดี', 'เป็น', 'จำนวน', 'มาก', ' ', 'ได้', 'มี', 'การ', 'นับ', 'เอา', 'ความ', 'สัมพันธ์', 'ระหว่าง', 'ชาย', 'หญิง', 'ที่', 'เคย', 'มี', 'อยู่', 'ใน', 'อดีต', 'มา', 'เป็น', 'ประเด็น', 'ใน', 'การ', 'วินิจฉัย', ' ', 'ทำ', 'ให้', 'หญิง', 'จำนวน', 'มาก', 'ที่', 'แม้', 'ไม่', 'ใช่', 'ภรรยา', 'ของ', 'ชาย', 'นั้น', ' ', 'ได้', 'ถูก', 'บังคับ', 'ให้', 'ร่วม', 'เพศ', ' ', 'แต่', 'ก็', 'ไม่', 'ทำ', 'ให้', 'ชาย', 'นั้น', 'มี', 'ความ', 'ผิด', 'ฐาน', 'ข่มขืน', ' ', 'ดัง', 'ใน', 'กรณี', 'ที่', 'หาก', 'หญิง', 'กับ', 'ชาย', 'นั้น', 'เป็น', 'คน', 'ชอบพอ', 'หรือ', 'เป็น', 'คน', 'รัก', ' ', 'หาก', 'มี', 'ข้อ', 'พิพาท', 'ว่า', 'หญิง', 'ถูก', 'ข่มขืน', 'กระทำ', 'ชำเรา', 'จาก', 'ฝ่าย', 'ชาย', ' ', 'ถ้า', 'ฝ่าย', 'ชาย', 'สามารถ', 'นำสืบ', 'ให้', 'เห็น', 'ได้', 'ว่า', 'เป็น', 'คน', 'รัก', 'กัน', 'มา', 'ก่อน', 'หรือ', 'เคย', 'เป็น', 'แฟน', 'กัน', ' ', 'หรือ', 'เข้า', 'ไป', 'ใน', 'ที่', 'ลับหูลับตา', 'ผู้คน', 'ด้วย', 'ความ', 'สมัครใจ', ' ', 'คำ', 'พิพากษา', 'ส่วน', 'ใหญ่', 'ก็', 'จะ', 'ตัดสิน', 'ว่า', 'การ', 'ร่วม', 'เพศ', 'นั้น', 'เกิด', 'ขึ้น', 'ด้วย', 'ความ', 'ยินยอม', 'ของ', 'หญิง', ' ', '(', 'คำ', 'พิพากษา', 'ฎีกา', 'ที่', ' ', '227', '/', '2529', ',', ' ', '2073', '/', '2537', ' ', 'เป็นต้น', ')', 'และ', 'หาก', 'ฝ่าย', 'ชาย', 'สามารถ', 'แสดง', 'ให้', 'เห็น', 'ได้', 'ว่า', 'ตน', 'กับ', 'หญิง', 'นั้น', 'เคย', 'มี', 'ความ', 'สัมพันธ์', 'กัน', 'ทาง', 'เพศ', 'มาก่อน', ' ', 'การ', 'กล่าวหา', 'ที่', 'เกิด', 'ขึ้น', 'ว่า', 'เป็น', 'การ', 'ข่มขืน', 'หรือ', 'ไม่', ' ', 'ก็', 'มัก', 'จะ', 'จบ', 'ลง', 'ด้วย', 'ความ', 'เห็น', 'ที่', 'ว่า', 'หญิง', 'นั้น', 'ยินยอมพร้อมใจ', ' ', '(', '4465', '/', '2530', ')', ' ', 'และ', 'หาก', 'หลัง', 'เหตุการณ์', 'ฝ่าย', 'หญิง', 'เก็บ', 'เรื่องราว', 'ไว้', 'เนิ่นนาน', 'แล้ว', ' ', 'จึง', 'ค่อย', 'มา', 'ดำเนิน', 'การ', 'ทาง', 'กฎหมาย', 'ก็', 'จะ', 'เป็น', 'อีก', 'เหตุ', 'หนึ่ง', 'ที่', 'มัก', 'ถูก', 'หยิบยก', 'มา', 'อ้าง', 'เป็น', 'เหตุผล', 'ใน', 'การ', 'ยก', 'ฟ้อง', ' ', '(', 'ฎีกา', 'ที่', ' ', '2238', '/', '2527', ')', 'การ', 'ตีความ', 'ถึง', 'ข้อ', 'เท็จจริง', 'ใน', 'ลักษณะ', 'นี้', 'ย่อม', 'ชวน', 'ให้', 'ตั้ง', 'คำ', 'ถาม', 'เกิด', 'ขึ้น', 'ได้', 'ว่า', ' ', 'หญิง', 'ที่', 'เป็น', 'แฟน', 'กับ', 'ชาย', 'ที่', 'ยินยอม', 'เข้า', 'ไป', 'ใน', 'ที่', 'รโหฐาน', ' ', 'หมาย', 'ความ', 'ถึง', 'การ', 'ยินยอม', 'ให้', 'อีก', 'ฝ่าย', 'ร่วม', 'เพศ', 'ได้', 'จริง', 'หรือ', ' ', 'แม้กระทั่ง', 'หญิง', 'ที่', 'เคย', 'มี', 'ความ', 'สัมพันธ์', 'ทาง', 'เพศ', 'กับ', 'ชาย', 'มาก่อน', ' ', 'เมื่อ', 'เกิด', 'การ', 'มี', 'เพศสัมพันธ์', 'เกิด', 'ขึ้น', 'ใน', 'ภาย', 'หลัง', 'ฝ่าย', 'หญิง', 'ต้อง', 'ยินยอม', 'ด้วย', 'ทุก', 'ครั้ง', 'เสมอ', 'ไป', 'กระนั้น', 'หรือ', ' ', 'ทั้งๆ ที่', 'ใน', 'ความ', 'เป็น', 'จริง', 'มี', 'ตัวอย่าง', 'ให้', 'เห็น', 'เป็น', 'จำนวน', 'มาก', 'ว่า', ' ', 'ชายหญิง', 'ที่', 'เป็น', 'คน', 'รัก', 'หรือ', 'สามีภริยา', 'กัน', ' ', 'ก็', 'อาจ', 'เปลี่ยน', 'ระดับ', 'ความ', 'สัมพันธ์', 'คู่', 'ของ', 'ตน', 'ได้', ' ', 'ไม่', 'จำเป็น', 'ต้อง', 'มี', 'ความ', 'สัมพันธ์', 'ใน', 'รูปแบบ', 'เดิม', 'ตลอด', 'ไป', 'แนว', 'คำ', 'วินิจฉัย', 'ใน', 'ลักษณะ', 'เช่น', 'นี้', 'ทำ', 'ให้', 'ผู้', 'หญิง', 'ไม่', 'มี', 'ตัวตน', ' ', 'อารมณ์', ' ', 'ความ', 'รู้สึก', 'ของ', 'ตน', 'เอง', 'แม้', 'แต่', 'น้อย', ' ', 'หาก', 'เคย', 'มี', 'เพศสัมพันธ์', 'มา', 'เพียง', 'ครั้ง', ' ', 'ครั้ง', 'ต่อๆไป', 'ก็', 'ต้อง', 'เป็น', 'การ', 'เกิด', 'ขึ้น', 'โดย', 'ความ', 'ยินยอม', 'หรือ', 'ใน', 'บาง', 'คดี', 'ที่', 'ได้', 'ปรากฏ', 'ว่า', 'หญิง', 'กับ', 'ชาย', 'เคย', 'เป็น', 'สามีภรรยา', 'กัน', ' ', 'ต่อ', 'มา', 'แยก', 'กัน', 'อยู่', 'โดย', 'ที่', 'ยัง', 'ไม่', 'ได้', 'หย่า', 'กัน', 'ให้', 'ถูกต้อง', 'ตาม', 'กฎหมาย', ' ', '(', 'ใน', 'คดี', 'นี้', 'ทั้ง', 'คู่', 'เป็น', 'นับถือ', 'ศาสนา', 'อิสลาม', 'และ', 'ยัง', 'ไม่', 'ได้', 'ทำ', 'การ', 'หย่า', 'กัน', 'ตาม', 'หลัก', 'กฎหมาย', 'อิสลาม', ')', ' ', 'ต่อ', 'มา', 'ฝ่าย', 'ชาย', 'ได้', 'ใช้', 'กำลัง', 'บังคับ', 'ร่วม', 'เพศ', 'กับ', 'ฝ่าย', 'หญิง', ' ', 'โดย', 'ที่', 'หญิง', 'ไม่', 'ได้', 'ยินยอม', ' ', 'ศาล', 'เห็น', 'ว่า', 'เป็น', 'การ', 'กระทำ', 'ที่', 'ฝ่าย', 'ชาย', 'กระทำ', 'ไป', 'ด้วย', 'ความ', 'เข้าใจ', 'ผิด', 'ว่า', 'มี', 'สิทธิ', 'กระทำ', 'ได้', 'กับ', 'ภริยา', ' ', 'จึง', 'ไม่', 'เป็น', 'ความ', 'ผิด', 'ฐาน', 'ข่มขืน', ' ', '(', 'คำ', 'พิพากษา', 'ฎีกา', 'ที่', ' ', '430', '/', '2532', ')', 'ดัง', 'นั้น', ' ', 'แม้', 'บท', 'บัญญัติ', 'ของ', 'กฎหมาย', 'จะ', 'เขียน', 'ไว้', 'ว่า', 'การ', 'กระทำ', 'ชำเรา', 'ที่', 'ทำ', 'ต่อ', 'หญิง', 'อื่น', 'อัน', 'มิ', 'ใช่', 'ของ', 'ตน', 'เป็น', 'ความ', 'ผิด', 'ฐาน', 'ข่มขืน', ' ', 'แต่', 'ใน', 'การ', 'บังคับ', 'ใช้', 'กฎหมาย', 'ใน', 'การ', 'วินิจฉัย', 'เห็น', 'ได้', 'อย่าง', 'ชัดเจน', 'ว่า', ' ', 'ได้', 'มี', 'การ', 'ขยาย', 'ความ', 'กว้าง', 'ออก', 'ไป', 'รวม', 'ถึง', 'อดีต', 'คน', 'รัก', ' ', 'หรือ', 'ผู้', 'ที่', 'เคย', 'มี', 'ความ', 'สัมพันธ์', 'กัน', 'มา', 'ก่อน', ' ', 'เพราะ', 'ฉะนั้น', ' ', 'การ', 'กระทำ', 'ชำเรา', 'หญิง', 'ที่', 'เป็น', 'หรือ', 'เคย', 'เป็น', 'แฟน', ' ', 'คน', 'รัก', ' ', 'ภรรยา', ' ', 'ก็', 'ไม่', 'เป็น', 'การ', 'กระทำ', 'ที่', 'เป็น', 'ความ', 'ผิด', 'ฐาน', 'ข่มขืน', 'เช่น', 'กัน', '5', '.', ' ', 'ข่มขืน', 'โดย', 'น้ำมือ', 'ของ', 'กฎหมาย', 'ใน', 'ความ', 'ผิด', 'ฐาน', 'ข่มขืน', 'ตาม', 'ประมวล', 'กฎหมาย', 'อาญา', 'ของ', 'ไทย', ' ', 'แม้', 'จะ', 'ได้', 'มี', 'การ', 'บัญญัติ', 'เนื้อหา', 'ของ', 'กฎหมาย', 'จน', 'ดู', 'ราว', 'กับ', 'ว่า', ' ', 'มี', 'ความ', 'ชัดเจน', 'อย่าง', 'เพียงพอ', 'ต่อ', 'การ', 'กำหนด', 'นิยาม', 'ความ', 'ผิด', 'ฐาน', 'ข่มขืน', ' ', 'อย่าง', 'ไร', 'ก็ตาม', ' ', 'หาก', 'พิจารณา', 'ถึง', 'การ', 'บังคับ', 'ใช้', 'กฎหมาย', 'ใน', 'ความ', 'ผิด', 'ฐาน', 'ข่มขืน', 'ที่', 'ได้', 'เกิด', 'ขึ้น', 'จริง', ' ', 'จะ', 'พบ', 'ได้', 'ว่า', 'เอา', 'เข้า', 'จริง', 'แล้ว', ' ', 'การ', 'บังคับ', 'ใช้', 'กฎหมาย', 'มิ', 'ได้', 'เป็น', 'เพียง', 'การ', 'นำ', 'เอา', 'ตัวบท', 'มา', 'ใช้', 'บังคับ', 'กับ', 'ข้อ', 'พิพาท', 'ที่', 'เกิด', 'ขึ้น', 'เท่า', 'นั้น', 'ตรงกันข้าม', 'ท่ามกลาง', 'กระบวนการ', 'ยุติธรรม', 'ใน', 'การ', 'บังคับ', 'ใช้', 'กฎหมาย', 'แต่ละ', 'ครั้ง', 'ๆ', ' ', 'มี', 'การ', 'สร้าง', 'ความหมาย', 'และ', 'เงื่อนไข', 'ใน', 'การ', 'พิจารณา', 'ถึง', 'ความหมาย', 'ของ', 'การ', ' ', '\"', 'ข่มขืน', '\"', ' ', 'ให้', 'มี', 'ลักษณะ', 'เฉพาะ', 'มาก', 'ขึ้น', ' ', 'ผ่าน', 'การ', 'ตีความ', ' ', 'คำ', 'อธิบาย', ' ', 'คำ', 'วินิจฉัย', ' ', 'ซึ่ง', 'การ', 'สร้าง', 'ความหมาย', 'ใน', 'กระบวนการ', 'ยุติธรรม', 'นี้', 'อัน', 'มี', 'ผล', 'ทำ', 'ให้', 'การ', 'ข่มขืน', 'มี', 'ทั้ง', 'ความหมาย', 'ที่', 'เกิด', 'ขึ้น', 'ใหม่', ' ', 'และ', 'ที่', 'แตกต่าง', 'ไป', 'จาก', 'ที่', 'ปรากฏ', 'อยู่', 'ใน', 'บท', 'บัญญัติ', 'ใน', 'ประมวล', 'กฎหมาย', 'ความหมาย', 'ที่', 'ปรากฏ', 'และ', 'ดำรง', 'อยู่', 'ใน', 'กระบวนการ', 'ยุติธรรม', 'นี้', ' ', 'มี', 'ผล', 'อย่าง', 'มาก', 'ใน', 'การ', 'ทำ', 'ให้', 'ผู้', 'ที่', 'ได้', 'กระทำ', 'ใน', 'สิ่ง', 'ที่', 'ควร', 'เรียก', 'ว่า', ' ', '\"', 'ข่มขืน', '\"', ' ', 'ไม่', 'มี', 'ความ', 'ผิด', 'ฐาน', 'ข่มขืน', 'หรือ', 'หลุดพ้น', 'ไป', 'จาก', 'การ', 'รับ', 'โทษ', ' ', 'และ', 'อีก', 'ด้าน', 'เหยื่อ', 'ของ', 'การ', 'กระทำ', 'ที่', 'ควร', 'ถูก', 'เรียก', 'ว่า', ' ', '\"', 'ข่มขืน', '\"', ' ', 'ก็', 'กลับ', 'มิ', 'ได้', 'เป็น', 'ผู้', 'ที่', 'ถูก', 'ข่มขืน', 'ใน', 'ความหมาย', 'ของ', 'กฎหมาย', 'ประเด็น', 'ที่', 'ควร', 'ให้', 'ความ', 'สำคัญ', 'เป็น', 'อย่าง', 'มาก', 'คือ', ' ', 'การ', 'ตรวจสอบ', 'และ', 'ตั้ง', 'คำ', 'ถาม', 'ต่อ', 'กระบวนการ', 'ยุติธรรม', 'ใน', 'กรณี', 'ความ', 'ผิด', 'เรื่อง', 'การ', 'ข่มขืน', ' ', 'หรือ', 'การ', 'ล่วงละเมิด', 'ทาง', 'เพศ', 'ใน', 'ลักษณะ', 'ต่างๆ', 'นั้น', ' ', 'ตัว', 'กฎหมาย', 'และ', 'ระบบ', ' ', 'เอื้อ', 'ต่อ', 'ผู้', 'ที่', 'ตก', 'เป็น', 'เหยื่อ', 'ของ', 'การ', 'กระทำ', 'ได้', 'ดี', 'เพียง', 'ใด', 'ใช่', 'หรือ', 'ไม่', 'ว่า', ' ', 'ความ', 'ไร้', 'น้ำยา', 'ของ', 'กระบวนการ', 'ยุติธรรม', ' ', 'ทำ', 'ให้', 'ผู้', 'หญิง', 'เป็น', 'จำนวน', 'มาก', 'ต้อง', 'ขบคิด', 'อย่าง', 'หนัก', 'หาก', 'จะ', 'นำ', 'พา', 'ตัว', 'เอง', 'เข้า', 'ไป', 'สู่', 'กระบวนการ', 'ยุติธรรม', 'ทาง', 'กฎหมาย', ' ', 'และ', 'หาก', 'ตัดสินใจ', 'ได้', 'แล้ว', 'ก็', 'ยัง', 'ต้อง', 'เผชิญ', 'กับ', 'คำ', 'ถาม', 'จำนวน', 'มาก', ' ', 'เช่น', ' ', 'ทำไม', 'ไม่', 'มา', 'แจ้ง', 'ความ', 'ทันที', 'ภาย', 'หลัง', 'เหตุการณ์', ',', ' ', 'ต้องการ', 'จะ', 'เรียกร้อง', 'ผล', 'ประโยชน์', 'จาก', 'อีก', 'ฝ่าย', 'หรือ', 'ไม่', ',', ' ', 'มี', 'สติสัมปชัญญะ', 'สมบูรณ์', 'หรือ', 'ไม่', ' ', 'ฯลฯ', 'ไม่', 'ใช่', 'เพียง', 'กับ', 'ผู้คน', ' ', 'สื่อ', 'มวล', 'ชน', ' ', 'หาก', 'ยัง', 'รวม', 'ถึง', 'บุคลากร', 'ใน', 'กระบวนการ', 'ยุติธรรม', 'อีก', 'ด้วย', 'สรุป', 'สิ่ง', 'ที่', 'ได้', 'กล่าว', 'มา', 'มิ', 'ใช่', 'ปัญหา', 'ทั้งหมด', 'ของ', 'กฎหมาย', 'และ', 'กระบวนการ', 'ยุติธรรม', 'ใน', 'คดี', 'ข่มขืน', ' ', 'หาก', 'เป็น', 'เพียง', 'เสี้ยว', 'เล็ก', 'ๆ', ' ', 'ที่', 'สามารถ', 'ชี้', 'ให้', 'เห็น', 'ถึง', 'การ', 'บังคับ', 'ใช้', 'กฎหมาย', 'ว่า', ' ', 'ไม่', 'ใช่', 'เป็น', 'เพียง', 'การ', 'เอา', 'ตัวบท', 'กฎหมาย', 'มา', 'ปรับ', 'ใช้', 'กับ', 'ข้อ', 'พิพาท', 'เท่า', 'นั้น', ' ', 'หาก', 'เต็ม', 'ไป', 'ด้วย', 'อคติ', ' ', 'ความ', 'เชื่อ', 'ที่', 'แอบแฝง', 'อยู่', 'อย่าง', 'แนบแน่น', ' ', 'บาง', 'ส่วน', 'อาจ', 'แก้ไข', 'ได้', 'ด้วย', 'การ', 'ปรับปรุง', 'กฎหมาย', 'ให้', 'รองรับ', 'ต่อ', 'สิ่ง', 'ที่', 'เป็น', 'ประสบการณ์', 'ความ', 'ทุกข์', 'ของ', 'เพศ', 'หญิง', 'ให้', 'กว้างขวาง', 'มาก', 'กว่า', 'เดิม', 'แต่', 'อีก', 'ส่วน', 'หนึ่ง', 'ที่', 'สำคัญ', 'ไม่', 'น้อย', 'ไป', 'กว่า', 'กัน', 'ก็', 'คือ', ' ', 'การ', 'ชี้', 'ให้', 'เห็น', 'ถึง', 'ลักษณะ', 'ของ', 'การ', 'บังคับ', 'ใช้', 'กฎหมาย', 'ใน', 'กระบวนการ', 'ยุติธรรม', 'ที่', 'มี', 'การ', 'ตีความ', ' ', 'ขยาย', ' ', 'ลดทอน', ' ', 'แก้ไข', ' ', 'เปลี่ยนแปลง', 'กฎหมาย', ' ', 'อัน', 'เป็น', 'อุปสรรค', 'อย่าง', 'ยิ่ง', 'ของ', 'เพศ', 'หญิง', 'ใน', 'การ', 'ได้', 'รับ', 'ความ', 'คุ้มครอง', 'สิทธิ', 'โดย', 'กฎหมาย', ' ', 'และ', 'ควร', 'นำ', 'ไป', 'สู่', 'การ', 'ทะลาย', 'อคติ', 'เหล่า', 'นั้น', 'ให้', 'ลด', 'น้อย', 'ลง', 'ทั้งหมด', 'ที่', 'นำ', 'เสนอ', 'นี้', 'ก็', 'เพื่อ', 'ไม่', 'ให้', 'ผู้', 'หญิง', 'ทั้งหลาย', 'ที่', 'ตก', 'เป็น', 'เหยื่อ', 'จาก', 'การ', 'ข่มขืน', 'ทาง', 'กายภาพ', ' ', 'ต้อง', 'ถูก', ' ', '\"', 'ข่มขืน', '\"', ' ', 'ซ้ำ', 'อีก', 'ด้วย', 'น้ำมือ', 'ของ', 'กฎหมาย', 'และ', 'กระบวนการ', 'ยุติธรรม']\n"
     ]
    }
   ],
   "source": [
    "text = texts[0].replace('|', '')\n",
    "\n",
    "words = word_tokenize(text)\n",
    "print(words)"
   ]
  },
  {
   "cell_type": "code",
   "execution_count": null,
   "metadata": {},
   "outputs": [],
   "source": []
  }
 ],
 "metadata": {
  "kernelspec": {
   "display_name": "Python 3",
   "language": "python",
   "name": "python3"
  },
  "language_info": {
   "codemirror_mode": {
    "name": "ipython",
    "version": 3
   },
   "file_extension": ".py",
   "mimetype": "text/x-python",
   "name": "python",
   "nbconvert_exporter": "python",
   "pygments_lexer": "ipython3",
   "version": "3.6.5"
  }
 },
 "nbformat": 4,
 "nbformat_minor": 2
}
