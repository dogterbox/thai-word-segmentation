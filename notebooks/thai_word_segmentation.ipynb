{
 "cells": [
  {
   "cell_type": "markdown",
   "metadata": {},
   "source": [
    "# Thai Word Segmentation using Deep Learning\n",
    "Teerapong Taengmuang (office.taengmuang@gmail.com)"
   ]
  },
  {
   "cell_type": "markdown",
   "metadata": {},
   "source": [
    "## Load Dataset\n",
    "Download dataset from https://www.nectec.or.th/corpus/index.php?league=pm"
   ]
  },
  {
   "cell_type": "code",
   "execution_count": 1,
   "metadata": {
    "ExecuteTime": {
     "end_time": "2019-06-30T19:05:03.902808Z",
     "start_time": "2019-06-30T19:05:03.799085Z"
    }
   },
   "outputs": [],
   "source": [
    "from glob import glob\n",
    "import numpy as np"
   ]
  },
  {
   "cell_type": "markdown",
   "metadata": {},
   "source": [
    "List file path"
   ]
  },
  {
   "cell_type": "code",
   "execution_count": 2,
   "metadata": {
    "ExecuteTime": {
     "end_time": "2019-06-30T19:05:04.542132Z",
     "start_time": "2019-06-30T19:05:04.523182Z"
    }
   },
   "outputs": [
    {
     "name": "stdout",
     "output_type": "stream",
     "text": [
      "Number of files:  506\n"
     ]
    }
   ],
   "source": [
    "files = glob('../BEST I Corpus/*/*')\n",
    "print('Number of files: ', len(files))"
   ]
  },
  {
   "cell_type": "markdown",
   "metadata": {},
   "source": [
    "## Load Dictionary\n",
    "Loading char indices dictionary in to CHAR_INDICES variable"
   ]
  },
  {
   "cell_type": "code",
   "execution_count": 3,
   "metadata": {
    "ExecuteTime": {
     "end_time": "2019-06-30T19:05:05.472661Z",
     "start_time": "2019-06-30T19:05:05.469655Z"
    }
   },
   "outputs": [],
   "source": [
    "import json\n",
    "\n",
    "def read_json(fname, key_int=False):\n",
    "    with open(fname, 'r') as file:\n",
    "        data = file.read()\n",
    "        json_data = json.loads(data)\n",
    "        \n",
    "        if not key_int:\n",
    "            return json_data\n",
    "        \n",
    "        json_data = {int(key): value for key, value in json_data.items()}\n",
    "        return json_data"
   ]
  },
  {
   "cell_type": "code",
   "execution_count": 4,
   "metadata": {
    "ExecuteTime": {
     "end_time": "2019-06-30T19:05:06.098973Z",
     "start_time": "2019-06-30T19:05:06.094984Z"
    }
   },
   "outputs": [],
   "source": [
    "CHAR_INDICES = read_json('../models/CHAR_INDICES.json', key_int=False)"
   ]
  },
  {
   "cell_type": "markdown",
   "metadata": {},
   "source": [
    "## Preprocessing\n",
    "1. Read text from each file\n",
    "2. Remove inappropriate word/char\n",
    "3. Create dataset (sequence data for LSTM)\n",
    "4. Data ecoding (one-hot encoding)"
   ]
  },
  {
   "cell_type": "code",
   "execution_count": 5,
   "metadata": {
    "ExecuteTime": {
     "end_time": "2019-06-30T19:05:09.469128Z",
     "start_time": "2019-06-30T19:05:09.462140Z"
    }
   },
   "outputs": [],
   "source": [
    "def replace(text, wordlist):\n",
    "    for new_word, list_ in wordlist.items():\n",
    "        for old_word in list_:\n",
    "            text = text.replace(old_word.lower(), new_word)\n",
    "    return text\n",
    "\n",
    "    \n",
    "def preprocessing(text, wordlist):\n",
    "    text = text.lower()  # to lower-case\n",
    "    text = replace(text, wordlist)\n",
    "    return text\n",
    "\n",
    "\n",
    "def create_dataset(text, look_back=20):\n",
    "    X, y = [], []\n",
    "    text = '|' + text\n",
    "    data = [CHAR_INDICES['<pad>']] * look_back\n",
    "    for i in range(1, len(text)):\n",
    "        current_char = text[i]\n",
    "        before_char = text[i-1]\n",
    "\n",
    "        if current_char == '|':\n",
    "            continue\n",
    "\n",
    "        data = data[1:] + [CHAR_INDICES[current_char]]  # X data\n",
    "        target = 1 if before_char == '|' else 0  # y data\n",
    "\n",
    "        X.append(data)\n",
    "        y.append(target)\n",
    "    y[-1] = 1  # end text is '|'\n",
    "    return X, y\n",
    "\n",
    "\n",
    "def encode_data(X, y):\n",
    "    sequence_len = len(X[0])\n",
    "    encode_X = np.zeros((len(X), sequence_len, len(CHAR_INDICES)), dtype=np.bool)\n",
    "    encode_y = np.zeros((len(y), 2), dtype=np.bool)\n",
    "    for i, (data, target) in enumerate(zip(X, y)):\n",
    "        for t, char in enumerate(data):\n",
    "            encode_X[i, t, char] = 1\n",
    "        encode_y[i, target] = 1\n",
    "        \n",
    "    return encode_X, encode_y\n",
    "\n",
    "\n",
    "def read_text(file):\n",
    "    return open(file, encoding='utf-8').read()"
   ]
  },
  {
   "cell_type": "markdown",
   "metadata": {},
   "source": [
    "## Train-Test-Validate\n",
    "Random file name for train, test and validate"
   ]
  },
  {
   "cell_type": "code",
   "execution_count": 6,
   "metadata": {
    "ExecuteTime": {
     "end_time": "2019-06-30T19:05:11.035937Z",
     "start_time": "2019-06-30T19:05:11.032945Z"
    }
   },
   "outputs": [],
   "source": [
    "import random\n",
    "\n",
    "def train_test_split(files, test_size=0.3):\n",
    "    random.shuffle(files)\n",
    "    test_size = int(len(files) * test_size)\n",
    "    train, test = files[:-test_size], files[-test_size:]\n",
    "    return train, test"
   ]
  },
  {
   "cell_type": "code",
   "execution_count": 7,
   "metadata": {
    "ExecuteTime": {
     "end_time": "2019-06-30T19:05:12.281975Z",
     "start_time": "2019-06-30T19:05:12.277984Z"
    }
   },
   "outputs": [],
   "source": [
    "file_train, file_test = train_test_split(files, test_size=0.03)\n",
    "file_train, file_validate = train_test_split(file_train, test_size=0.03)"
   ]
  },
  {
   "cell_type": "code",
   "execution_count": 8,
   "metadata": {
    "ExecuteTime": {
     "end_time": "2019-06-30T19:05:14.357206Z",
     "start_time": "2019-06-30T19:05:14.352250Z"
    }
   },
   "outputs": [
    {
     "name": "stdout",
     "output_type": "stream",
     "text": [
      "Number of file for traing: 477\n",
      "Number of file for validate: 14\n",
      "Number of file for test: 15\n"
     ]
    }
   ],
   "source": [
    "print('Number of file for traing:', len(file_train))\n",
    "print('Number of file for validate:',len(file_validate))\n",
    "print('Number of file for test:', len(file_test))"
   ]
  },
  {
   "cell_type": "markdown",
   "metadata": {},
   "source": [
    "## Create Model"
   ]
  },
  {
   "cell_type": "code",
   "execution_count": 9,
   "metadata": {
    "ExecuteTime": {
     "end_time": "2019-06-30T19:05:19.170021Z",
     "start_time": "2019-06-30T19:05:16.578864Z"
    }
   },
   "outputs": [
    {
     "name": "stderr",
     "output_type": "stream",
     "text": [
      "Using TensorFlow backend.\n"
     ]
    }
   ],
   "source": [
    "from keras.models import Sequential\n",
    "from keras.layers import Dense\n",
    "from keras.layers import LSTM, Dropout, Bidirectional\n",
    "from keras.utils.vis_utils import plot_model\n",
    "from IPython.display import Image\n",
    "import copy"
   ]
  },
  {
   "cell_type": "markdown",
   "metadata": {},
   "source": [
    "Count number of each dataset (train, test ,validate)"
   ]
  },
  {
   "cell_type": "code",
   "execution_count": 44,
   "metadata": {
    "ExecuteTime": {
     "end_time": "2019-07-01T04:40:02.083557Z",
     "start_time": "2019-07-01T04:40:02.078569Z"
    }
   },
   "outputs": [
    {
     "name": "stdout",
     "output_type": "stream",
     "text": [
      "Number of data on train set:  19531501\n",
      "Number of data on validate set:  654259\n",
      "Number of data on test set:  583377\n",
      "Number of all data:  20769137\n"
     ]
    }
   ],
   "source": [
    "wordlist = {\n",
    "    '': ['<AB>', '</AB>', '<NE>', '</NE>', '\\n'],\n",
    "}\n",
    "\n",
    "wordlist2 = copy.deepcopy(wordlist)\n",
    "wordlist2[''].append('|')\n",
    "\n",
    "nb_data_train = sum(len(preprocessing(read_text(file), wordlist2)) for file in file_train)\n",
    "nb_data_validate = sum(len(preprocessing(read_text(file), wordlist2)) for file in file_validate)\n",
    "nb_data_test = sum(len(preprocessing(read_text(file), wordlist2)) for file in file_test)\n",
    "\n",
    "print('Number of data on train set: ', nb_data_train)\n",
    "print('Number of data on validate set: ', nb_data_validate)\n",
    "print('Number of data on test set: ', nb_data_test)\n",
    "print('Number of all data: ', sum([nb_data_train, nb_data_validate, nb_data_test]))"
   ]
  },
  {
   "cell_type": "markdown",
   "metadata": {},
   "source": [
    "Config var"
   ]
  },
  {
   "cell_type": "code",
   "execution_count": 11,
   "metadata": {
    "ExecuteTime": {
     "end_time": "2019-06-30T19:05:21.666615Z",
     "start_time": "2019-06-30T19:05:21.663648Z"
    }
   },
   "outputs": [],
   "source": [
    "LOOK_BACK = 20\n",
    "batch_size = 1024\n",
    "steps_per_epoch = int(nb_data_train / batch_size)\n",
    "validation_steps = int(nb_data_train / (batch_size * 10))"
   ]
  },
  {
   "cell_type": "code",
   "execution_count": 12,
   "metadata": {
    "ExecuteTime": {
     "end_time": "2019-06-30T19:05:26.468836Z",
     "start_time": "2019-06-30T19:05:26.463847Z"
    }
   },
   "outputs": [],
   "source": [
    "def define_model(input_shape):\n",
    "    model = Sequential()\n",
    "    model.add(\n",
    "        Bidirectional(LSTM(input_shape[1]//2, input_shape=input_shape,\n",
    "                           return_sequences=False),\n",
    "                      merge_mode='sum',\n",
    "                      weights=None,\n",
    "                      input_shape=input_shape))\n",
    "    model.add(Dense(input_shape[1]//4, activation='linear'))\n",
    "    model.add(Dense(2, activation='softmax'))\n",
    "    model.compile(loss='categorical_crossentropy', optimizer='rmsprop', metrics=['accuracy'])  # compile\n",
    "    \n",
    "    print('Total params: ', model.count_params())\n",
    "    return model"
   ]
  },
  {
   "cell_type": "markdown",
   "metadata": {},
   "source": [
    "Build model and plot model"
   ]
  },
  {
   "cell_type": "code",
   "execution_count": 13,
   "metadata": {
    "ExecuteTime": {
     "end_time": "2019-06-30T19:05:28.036718Z",
     "start_time": "2019-06-30T19:05:27.376507Z"
    }
   },
   "outputs": [
    {
     "name": "stdout",
     "output_type": "stream",
     "text": [
      "WARNING:tensorflow:From C:\\Anaconda3\\lib\\site-packages\\tensorflow\\python\\framework\\op_def_library.py:263: colocate_with (from tensorflow.python.framework.ops) is deprecated and will be removed in a future version.\n",
      "Instructions for updating:\n",
      "Colocations handled automatically by placer.\n",
      "Total params:  199307\n"
     ]
    },
    {
     "data": {
      "image/png": "[encoded data removed]",
      "text/plain": [
       "<IPython.core.display.Image object>"
      ]
     },
     "metadata": {},
     "output_type": "display_data"
    }
   ],
   "source": [
    "input_shape = (LOOK_BACK, len(CHAR_INDICES))\n",
    "model = define_model(input_shape)  # define model\n",
    "\n",
    "# plot model\n",
    "image_name = '../images/model.png'\n",
    "plot_model(model, image_name, show_shapes=True, show_layer_names=False)\n",
    "display(Image(filename=image_name))"
   ]
  },
  {
   "cell_type": "markdown",
   "metadata": {},
   "source": [
    "Create *GENERATOR* for training **LARGE dataset**"
   ]
  },
  {
   "cell_type": "code",
   "execution_count": 14,
   "metadata": {
    "ExecuteTime": {
     "end_time": "2019-06-30T19:05:29.432012Z",
     "start_time": "2019-06-30T19:05:29.427006Z"
    }
   },
   "outputs": [],
   "source": [
    "import math\n",
    "\n",
    "def generator(files, wordlist, batch_size=1024, look_back=20, mode='Training', display_=False):\n",
    "    while True:\n",
    "        copy_files = files.copy()\n",
    "        random.shuffle(copy_files)\n",
    "\n",
    "        for file in copy_files:\n",
    "            if display_ is True:\n",
    "                print(f'\\n{mode} file: ' + file)\n",
    "\n",
    "            text = read_text(file)\n",
    "            text = preprocessing(text, wordlist)\n",
    "            X_data, y_data = create_dataset(text, look_back)\n",
    "            X_data, y_data = encode_data(X_data, y_data)\n",
    "\n",
    "            samples_per_epoch  = len(X_data)\n",
    "            number_of_batches = int(math.ceil(samples_per_epoch / batch_size))\n",
    "\n",
    "            for counter in range(number_of_batches):\n",
    "                X_batch = np.array(X_data[batch_size*counter:batch_size*(counter+1)])\n",
    "                y_batch = np.array(y_data[batch_size*counter:batch_size*(counter+1)])\n",
    "                yield X_batch, y_batch"
   ]
  },
  {
   "cell_type": "code",
   "execution_count": 15,
   "metadata": {
    "ExecuteTime": {
     "end_time": "2019-06-30T19:05:30.279727Z",
     "start_time": "2019-06-30T19:05:30.275740Z"
    }
   },
   "outputs": [
    {
     "name": "stdout",
     "output_type": "stream",
     "text": [
      "steps per epoch 19073\n",
      "validation steps 1907\n"
     ]
    }
   ],
   "source": [
    "# Generators\n",
    "training_generator = generator(file_train, \n",
    "                               wordlist, \n",
    "                               batch_size, \n",
    "                               look_back=LOOK_BACK, \n",
    "                               mode='Training')\n",
    "\n",
    "validation_generator = generator(file_validate, \n",
    "                                 wordlist, \n",
    "                                 batch_size, \n",
    "                                 look_back=LOOK_BACK, \n",
    "                                 mode='Validation')\n",
    "\n",
    "print('steps per epoch', steps_per_epoch)\n",
    "print('validation steps', validation_steps)"
   ]
  },
  {
   "cell_type": "markdown",
   "metadata": {},
   "source": [
    "### Callbacks  \n",
    "Callback config  \n",
    "- checkpoint\n",
    "- step decay"
   ]
  },
  {
   "cell_type": "code",
   "execution_count": 19,
   "metadata": {
    "ExecuteTime": {
     "end_time": "2019-06-30T19:05:49.710568Z",
     "start_time": "2019-06-30T19:05:49.541021Z"
    }
   },
   "outputs": [],
   "source": [
    "from keras.callbacks import ModelCheckpoint, LearningRateScheduler\n",
    "from matplotlib import pyplot as plt"
   ]
  },
  {
   "cell_type": "code",
   "execution_count": 17,
   "metadata": {
    "ExecuteTime": {
     "end_time": "2019-06-30T19:05:33.774383Z",
     "start_time": "2019-06-30T19:05:33.771390Z"
    }
   },
   "outputs": [],
   "source": [
    "# checkpoint\n",
    "filepath=\"../models/weights-improvement-{epoch:03d}-{val_acc:.3f}.hdf5\"\n",
    "checkpoint = ModelCheckpoint(filepath, monitor='val_acc', verbose=1, save_best_only=True, mode='max')"
   ]
  },
  {
   "cell_type": "code",
   "execution_count": 25,
   "metadata": {
    "ExecuteTime": {
     "end_time": "2019-07-01T04:11:43.639119Z",
     "start_time": "2019-07-01T04:11:43.517412Z"
    }
   },
   "outputs": [
    {
     "data": {
      "image/png": "[encoded data removed]",
      "text/plain": [
       "<matplotlib.figure.Figure at 0x280d1675518>"
      ]
     },
     "metadata": {},
     "output_type": "display_data"
    }
   ],
   "source": [
    "# step decay\n",
    "\n",
    "def step_decay(epoch):\n",
    "    initial_lrate = 0.001\n",
    "    min_lrat = 0.0001\n",
    "    drop_per_epoch = (initial_lrate - min_lrat) / NB_EPOCH\n",
    "    lrate = initial_lrate - (drop_per_epoch * epoch)\n",
    "    return lrate\n",
    "\n",
    "NB_EPOCH = 20\n",
    "lrate = LearningRateScheduler(step_decay)\n",
    "\n",
    "plt.plot([step_decay(i) for i in range(NB_EPOCH)]);\n",
    "plt.savefig('../images/step-decay.png')"
   ]
  },
  {
   "cell_type": "code",
   "execution_count": 21,
   "metadata": {
    "ExecuteTime": {
     "end_time": "2019-06-30T19:05:53.399651Z",
     "start_time": "2019-06-30T19:05:53.395680Z"
    }
   },
   "outputs": [],
   "source": [
    "callbacks_list = [checkpoint, lrate]"
   ]
  },
  {
   "cell_type": "code",
   "execution_count": 22,
   "metadata": {
    "ExecuteTime": {
     "end_time": "2019-07-01T03:00:31.277614Z",
     "start_time": "2019-06-30T19:05:55.791029Z"
    },
    "scrolled": true
   },
   "outputs": [
    {
     "name": "stdout",
     "output_type": "stream",
     "text": [
      "WARNING:tensorflow:From C:\\Anaconda3\\lib\\site-packages\\tensorflow\\python\\ops\\math_ops.py:3066: to_int32 (from tensorflow.python.ops.math_ops) is deprecated and will be removed in a future version.\n",
      "Instructions for updating:\n",
      "Use tf.cast instead.\n",
      "Epoch 1/20\n",
      "19073/19073 [==============================] - 1429s 75ms/step - loss: 0.0930 - acc: 0.9647 - val_loss: 0.0879 - val_acc: 0.9687\n",
      "\n",
      "Epoch 00001: val_acc improved from -inf to 0.96866, saving model to ../models/weights-improvement-001-0.969.hdf5\n",
      "Epoch 2/20\n",
      "19073/19073 [==============================] - 1423s 75ms/step - loss: 0.0596 - acc: 0.9792 - val_loss: 0.0668 - val_acc: 0.9766\n",
      "\n",
      "Epoch 00002: val_acc improved from 0.96866 to 0.97656, saving model to ../models/weights-improvement-002-0.977.hdf5\n",
      "Epoch 3/20\n",
      "19073/19073 [==============================] - 1420s 74ms/step - loss: 0.0523 - acc: 0.9818 - val_loss: 0.0650 - val_acc: 0.9768\n",
      "\n",
      "Epoch 00003: val_acc improved from 0.97656 to 0.97678, saving model to ../models/weights-improvement-003-0.977.hdf5\n",
      "Epoch 4/20\n",
      "19073/19073 [==============================] - 1420s 74ms/step - loss: 0.0488 - acc: 0.9832 - val_loss: 0.0596 - val_acc: 0.9795\n",
      "\n",
      "Epoch 00004: val_acc improved from 0.97678 to 0.97951, saving model to ../models/weights-improvement-004-0.980.hdf5\n",
      "Epoch 5/20\n",
      "19073/19073 [==============================] - 1418s 74ms/step - loss: 0.0467 - acc: 0.9840 - val_loss: 0.0589 - val_acc: 0.9795\n",
      "\n",
      "Epoch 00005: val_acc did not improve from 0.97951\n",
      "Epoch 6/20\n",
      "19073/19073 [==============================] - 1421s 74ms/step - loss: 0.0452 - acc: 0.9846 - val_loss: 0.0636 - val_acc: 0.9775\n",
      "\n",
      "Epoch 00006: val_acc did not improve from 0.97951\n",
      "Epoch 7/20\n",
      "19073/19073 [==============================] - 1423s 75ms/step - loss: 0.0439 - acc: 0.9850 - val_loss: 0.0567 - val_acc: 0.9807\n",
      "\n",
      "Epoch 00007: val_acc improved from 0.97951 to 0.98074, saving model to ../models/weights-improvement-007-0.981.hdf5\n",
      "Epoch 8/20\n",
      "19073/19073 [==============================] - 1421s 75ms/step - loss: 0.0433 - acc: 0.9852 - val_loss: 0.0534 - val_acc: 0.9813\n",
      "\n",
      "Epoch 00008: val_acc improved from 0.98074 to 0.98132, saving model to ../models/weights-improvement-008-0.981.hdf5\n",
      "Epoch 9/20\n",
      "19073/19073 [==============================] - 1425s 75ms/step - loss: 0.0423 - acc: 0.9855 - val_loss: 0.0596 - val_acc: 0.9794\n",
      "\n",
      "Epoch 00009: val_acc did not improve from 0.98132\n",
      "Epoch 10/20\n",
      "19073/19073 [==============================] - 1424s 75ms/step - loss: 0.0420 - acc: 0.9856 - val_loss: 0.0554 - val_acc: 0.9811\n",
      "\n",
      "Epoch 00010: val_acc did not improve from 0.98132\n",
      "Epoch 11/20\n",
      "19073/19073 [==============================] - 1424s 75ms/step - loss: 0.0409 - acc: 0.9860 - val_loss: 0.0510 - val_acc: 0.9820\n",
      "\n",
      "Epoch 00011: val_acc improved from 0.98132 to 0.98199, saving model to ../models/weights-improvement-011-0.982.hdf5\n",
      "Epoch 12/20\n",
      "19073/19073 [==============================] - 1425s 75ms/step - loss: 0.0405 - acc: 0.9861 - val_loss: 0.0525 - val_acc: 0.9822\n",
      "\n",
      "Epoch 00012: val_acc improved from 0.98199 to 0.98219, saving model to ../models/weights-improvement-012-0.982.hdf5\n",
      "Epoch 13/20\n",
      "19073/19073 [==============================] - 1423s 75ms/step - loss: 0.0409 - acc: 0.9861 - val_loss: 0.0522 - val_acc: 0.9819\n",
      "\n",
      "Epoch 00013: val_acc did not improve from 0.98219\n",
      "Epoch 14/20\n",
      "19073/19073 [==============================] - 1426s 75ms/step - loss: 0.0397 - acc: 0.9864 - val_loss: 0.0515 - val_acc: 0.9825\n",
      "\n",
      "Epoch 00014: val_acc improved from 0.98219 to 0.98255, saving model to ../models/weights-improvement-014-0.983.hdf5\n",
      "Epoch 15/20\n",
      "19073/19073 [==============================] - 1425s 75ms/step - loss: 0.0397 - acc: 0.9864 - val_loss: 0.0536 - val_acc: 0.9824\n",
      "\n",
      "Epoch 00015: val_acc did not improve from 0.98255\n",
      "Epoch 16/20\n",
      "19073/19073 [==============================] - 1425s 75ms/step - loss: 0.0387 - acc: 0.9866 - val_loss: 0.0506 - val_acc: 0.9830\n",
      "\n",
      "Epoch 00016: val_acc improved from 0.98255 to 0.98296, saving model to ../models/weights-improvement-016-0.983.hdf5\n",
      "Epoch 17/20\n",
      "19073/19073 [==============================] - 1426s 75ms/step - loss: 0.0396 - acc: 0.9865 - val_loss: 0.0524 - val_acc: 0.9819\n",
      "\n",
      "Epoch 00017: val_acc did not improve from 0.98296\n",
      "Epoch 18/20\n",
      "19073/19073 [==============================] - 1426s 75ms/step - loss: 0.0388 - acc: 0.9867 - val_loss: 0.0518 - val_acc: 0.9827\n",
      "\n",
      "Epoch 00018: val_acc did not improve from 0.98296\n",
      "Epoch 19/20\n",
      "19073/19073 [==============================] - 1426s 75ms/step - loss: 0.0384 - acc: 0.9868 - val_loss: 0.0531 - val_acc: 0.9827\n",
      "\n",
      "Epoch 00019: val_acc did not improve from 0.98296\n",
      "Epoch 20/20\n",
      "19073/19073 [==============================] - 1423s 75ms/step - loss: 0.0388 - acc: 0.9868 - val_loss: 0.0485 - val_acc: 0.9833\n",
      "\n",
      "Epoch 00020: val_acc improved from 0.98296 to 0.98328, saving model to ../models/weights-improvement-020-0.983.hdf5\n"
     ]
    }
   ],
   "source": [
    "# training\n",
    "history = model.fit_generator(generator=training_generator,\n",
    "                    validation_data=validation_generator,\n",
    "                    steps_per_epoch=steps_per_epoch,\n",
    "                    validation_steps=validation_steps,\n",
    "                    epochs=NB_EPOCH,\n",
    "                    verbose=1,\n",
    "                    callbacks=callbacks_list)\n",
    "\n",
    "# # save model\n",
    "# model.save('thai-word-segmentation-model.hdf5')"
   ]
  },
  {
   "cell_type": "markdown",
   "metadata": {},
   "source": [
    "Model history plot\n",
    "- loss\n",
    "- acc"
   ]
  },
  {
   "cell_type": "code",
   "execution_count": 23,
   "metadata": {
    "ExecuteTime": {
     "end_time": "2019-07-01T04:07:59.523720Z",
     "start_time": "2019-07-01T04:07:58.885251Z"
    }
   },
   "outputs": [
    {
     "name": "stdout",
     "output_type": "stream",
     "text": [
      "history key:  ['val_loss', 'val_acc', 'loss', 'acc', 'lr']\n"
     ]
    },
    {
     "data": {
      "image/png": "[encoded data removed]",
      "text/plain": [
       "<matplotlib.figure.Figure at 0x280d168a400>"
      ]
     },
     "metadata": {},
     "output_type": "display_data"
    },
    {
     "data": {
      "image/png": "[encoded data removed]",
      "text/plain": [
       "<matplotlib.figure.Figure at 0x280c89dd2e8>"
      ]
     },
     "metadata": {},
     "output_type": "display_data"
    }
   ],
   "source": [
    "plot_pathsave = '../images/history-{}.png'\n",
    "\n",
    "# keys of history\n",
    "print('history key: ', list(history.history.keys()))\n",
    "\n",
    "# summarize history for accuracy\n",
    "plt.plot(history.history['acc'])\n",
    "plt.plot(history.history['val_acc'])\n",
    "plt.title('model accuracy')\n",
    "plt.ylabel('accuracy')\n",
    "plt.xlabel('epoch')\n",
    "plt.legend(['train', 'test'], loc='upper left')\n",
    "plt.savefig(plot_pathsave.format('acc'))  # save to image\n",
    "plt.show()\n",
    "\n",
    "# summarize history for loss\n",
    "plt.plot(history.history['loss'])\n",
    "plt.plot(history.history['val_loss'])\n",
    "plt.title('model loss')\n",
    "plt.ylabel('loss')\n",
    "plt.xlabel('epoch')\n",
    "plt.legend(['train', 'test'], loc='upper left')\n",
    "plt.savefig(plot_pathsave.format('loss'))  # save to image\n",
    "plt.show()"
   ]
  },
  {
   "cell_type": "markdown",
   "metadata": {},
   "source": [
    "## Evaluate\n",
    "Evaluate each file on test and calculate mean score.  \n",
    "Loading best model (best **acc score** on validate set).\n",
    "\n",
    "Metrics\n",
    "- precision\n",
    "- recall\n",
    "- fscore\n",
    "\n",
    "Using sklearn\n",
    "- precision_recall_fscore_support: average='binary'\n",
    "- accuracy_score"
   ]
  },
  {
   "cell_type": "code",
   "execution_count": 27,
   "metadata": {
    "ExecuteTime": {
     "end_time": "2019-07-01T04:16:43.418188Z",
     "start_time": "2019-07-01T04:16:42.076694Z"
    }
   },
   "outputs": [],
   "source": [
    "from sklearn.metrics import accuracy_score, precision_recall_fscore_support\n",
    "from keras.models import load_model"
   ]
  },
  {
   "cell_type": "code",
   "execution_count": 28,
   "metadata": {
    "ExecuteTime": {
     "end_time": "2019-07-01T04:16:57.340552Z",
     "start_time": "2019-07-01T04:16:54.030144Z"
    }
   },
   "outputs": [
    {
     "name": "stdout",
     "output_type": "stream",
     "text": [
      "../models\\weights-improvement-020-0.983.hdf5\n"
     ]
    }
   ],
   "source": [
    "best_model_checkpoint = sorted(glob('../models/*'))[-1]\n",
    "print(best_model_checkpoint)\n",
    "\n",
    "best_model = load_model(best_model_checkpoint)  # load Model"
   ]
  },
  {
   "cell_type": "code",
   "execution_count": 29,
   "metadata": {
    "ExecuteTime": {
     "end_time": "2019-07-01T04:18:07.347596Z",
     "start_time": "2019-07-01T04:18:07.342577Z"
    }
   },
   "outputs": [],
   "source": [
    "def pred_preprocessing(text, sequence_len=20):\n",
    "    # create dataset\n",
    "    X = []\n",
    "    data = [CHAR_INDICES['<pad>']] * sequence_len\n",
    "    for char in text:\n",
    "        char = char if char in CHAR_INDICES else '<unk>'  # check char in dictionary\n",
    "        data = data[1:] + [CHAR_INDICES[char]]  # X data\n",
    "        X.append(data)\n",
    "        \n",
    "    # data encoding\n",
    "    encode_X = np.zeros((len(X), sequence_len, len(CHAR_INDICES)), dtype=np.bool)\n",
    "    for i, data in enumerate(X):\n",
    "        for t, char in enumerate(data):\n",
    "            encode_X[i, t, char] = 1\n",
    "    return encode_X\n",
    "\n",
    "\n",
    "def predict(model, text_encode):\n",
    "    preds = model.predict(text_encode)\n",
    "    class_ = [np.argmax(pred) for pred in preds]\n",
    "    return class_"
   ]
  },
  {
   "cell_type": "code",
   "execution_count": 31,
   "metadata": {
    "ExecuteTime": {
     "end_time": "2019-07-01T04:27:50.978643Z",
     "start_time": "2019-07-01T04:23:26.195619Z"
    },
    "scrolled": true
   },
   "outputs": [
    {
     "name": "stdout",
     "output_type": "stream",
     "text": [
      "1/15:  ../BEST I Corpus\\article\\article_00013.txt\n",
      "precision:  0.959\n",
      "recall:  0.978\n",
      "fscore:  0.968\n",
      "accuracy:  0.983\n",
      "Number of data:  21598\n",
      "--------------------------------------------------\n",
      "2/15:  ../BEST I Corpus\\article\\article_00055.txt\n",
      "precision:  0.96\n",
      "recall:  0.983\n",
      "fscore:  0.971\n",
      "accuracy:  0.984\n",
      "Number of data:  39442\n",
      "--------------------------------------------------\n",
      "3/15:  ../BEST I Corpus\\article\\article_00179.txt\n",
      "precision:  0.984\n",
      "recall:  0.989\n",
      "fscore:  0.986\n",
      "accuracy:  0.993\n",
      "Number of data:  21500\n",
      "--------------------------------------------------\n",
      "4/15:  ../BEST I Corpus\\article\\article_00184.txt\n",
      "precision:  0.98\n",
      "recall:  0.989\n",
      "fscore:  0.984\n",
      "accuracy:  0.992\n",
      "Number of data:  31541\n",
      "--------------------------------------------------\n",
      "5/15:  ../BEST I Corpus\\article\\article_00005.txt\n",
      "precision:  0.961\n",
      "recall:  0.984\n",
      "fscore:  0.973\n",
      "accuracy:  0.984\n",
      "Number of data:  27474\n",
      "--------------------------------------------------\n",
      "6/15:  ../BEST I Corpus\\novel\\novel_00043.txt\n",
      "precision:  0.962\n",
      "recall:  0.976\n",
      "fscore:  0.969\n",
      "accuracy:  0.982\n",
      "Number of data:  42014\n",
      "--------------------------------------------------\n",
      "7/15:  ../BEST I Corpus\\encyclopedia\\encyclopedia_00001.txt\n",
      "precision:  0.983\n",
      "recall:  0.979\n",
      "fscore:  0.981\n",
      "accuracy:  0.989\n",
      "Number of data:  51766\n",
      "--------------------------------------------------\n",
      "8/15:  ../BEST I Corpus\\encyclopedia\\encyclopedia_00017.txt\n",
      "precision:  0.976\n",
      "recall:  0.982\n",
      "fscore:  0.979\n",
      "accuracy:  0.99\n",
      "Number of data:  40406\n",
      "--------------------------------------------------\n",
      "9/15:  ../BEST I Corpus\\novel\\novel_00023.txt\n",
      "precision:  0.97\n",
      "recall:  0.973\n",
      "fscore:  0.972\n",
      "accuracy:  0.983\n",
      "Number of data:  27979\n",
      "--------------------------------------------------\n",
      "10/15:  ../BEST I Corpus\\article\\article_00061.txt\n",
      "precision:  0.965\n",
      "recall:  0.981\n",
      "fscore:  0.973\n",
      "accuracy:  0.985\n",
      "Number of data:  16058\n",
      "--------------------------------------------------\n",
      "11/15:  ../BEST I Corpus\\article\\article_00154.txt\n",
      "precision:  0.97\n",
      "recall:  0.987\n",
      "fscore:  0.978\n",
      "accuracy:  0.988\n",
      "Number of data:  9767\n",
      "--------------------------------------------------\n",
      "12/15:  ../BEST I Corpus\\encyclopedia\\encyclopedia_00023.txt\n",
      "precision:  0.922\n",
      "recall:  0.962\n",
      "fscore:  0.942\n",
      "accuracy:  0.968\n",
      "Number of data:  67479\n",
      "--------------------------------------------------\n",
      "13/15:  ../BEST I Corpus\\news\\news_00025.txt\n",
      "precision:  0.959\n",
      "recall:  0.986\n",
      "fscore:  0.972\n",
      "accuracy:  0.986\n",
      "Number of data:  84600\n",
      "--------------------------------------------------\n",
      "14/15:  ../BEST I Corpus\\novel\\novel_00016.txt\n",
      "precision:  0.971\n",
      "recall:  0.972\n",
      "fscore:  0.971\n",
      "accuracy:  0.983\n",
      "Number of data:  80018\n",
      "--------------------------------------------------\n",
      "15/15:  ../BEST I Corpus\\article\\article_00009.txt\n",
      "precision:  0.979\n",
      "recall:  0.991\n",
      "fscore:  0.985\n",
      "accuracy:  0.992\n",
      "Number of data:  21735\n",
      "--------------------------------------------------\n"
     ]
    }
   ],
   "source": [
    "avg = {\n",
    "    'precision': [],\n",
    "    'recall': [],\n",
    "    'fscore': [],\n",
    "    'acc': []\n",
    "}\n",
    "\n",
    "for i, fpath in enumerate(file_test):\n",
    "    print(f'{i+1}/{len(file_test)}: ', fpath)\n",
    "    \n",
    "    _, y_true = create_dataset(preprocessing(read_text(fpath), wordlist), look_back=LOOK_BACK)\n",
    "    y_pred = predict(best_model, pred_preprocessing(preprocessing(read_text(fpath), wordlist2)))\n",
    "    \n",
    "    precision, recall, fscore, _ = precision_recall_fscore_support(y_true, y_pred, average='binary')\n",
    "    acc = accuracy_score(y_true, y_pred)\n",
    "    \n",
    "    avg['precision'].append(precision)\n",
    "    avg['recall'].append(recall)\n",
    "    avg['fscore'].append(fscore)\n",
    "    avg['acc'].append(acc)\n",
    "    \n",
    "    print('precision: ', round(precision, 3))\n",
    "    print('recall: ', round(recall, 3))\n",
    "    print('fscore: ', round(fscore, 3))\n",
    "    print('accuracy: ' , round(acc, 3))\n",
    "    print('Number of data: ', len(y_pred))\n",
    "    print('-' * 50)"
   ]
  },
  {
   "cell_type": "code",
   "execution_count": 32,
   "metadata": {
    "ExecuteTime": {
     "end_time": "2019-07-01T04:27:57.091996Z",
     "start_time": "2019-07-01T04:27:57.086013Z"
    }
   },
   "outputs": [
    {
     "name": "stdout",
     "output_type": "stream",
     "text": [
      "mean precision:  0.967\n",
      "mean recall:  0.981\n",
      "mean fscore:  0.974\n",
      "mean accuracy:  0.974\n"
     ]
    }
   ],
   "source": [
    "# mean value\n",
    "\n",
    "precision = round(np.mean(avg['precision']), 3)\n",
    "recall = round(np.mean(avg['recall']), 3)\n",
    "fscore = round(np.mean(avg['fscore']), 3)\n",
    "acc = round(np.mean(avg['fscore']), 3)\n",
    "\n",
    "print('mean precision: ', round(precision, 3))\n",
    "print('mean recall: ', round(recall, 3))\n",
    "print('mean fscore: ', round(fscore, 3))\n",
    "print('mean accuracy: ', round(acc, 3))"
   ]
  },
  {
   "cell_type": "markdown",
   "metadata": {},
   "source": [
    "## Make Thai Word Tokenizer"
   ]
  },
  {
   "cell_type": "code",
   "execution_count": 33,
   "metadata": {
    "ExecuteTime": {
     "end_time": "2019-07-01T04:28:09.582491Z",
     "start_time": "2019-07-01T04:28:09.579494Z"
    }
   },
   "outputs": [],
   "source": [
    "def word_tokenize(model, text):\n",
    "    input_text_encode = pred_preprocessing(text)\n",
    "    class_ = predict(model, input_text_encode) + [1]\n",
    "    cut_indexs = [i for i, value in enumerate(class_) if value == 1]\n",
    "    words = [text[cut_indexs[i]:cut_indexs[i+1]] for i in range(len(cut_indexs)-1)]\n",
    "    return words"
   ]
  },
  {
   "cell_type": "markdown",
   "metadata": {},
   "source": [
    "Sample text input from test set"
   ]
  },
  {
   "cell_type": "code",
   "execution_count": 34,
   "metadata": {
    "ExecuteTime": {
     "end_time": "2019-07-01T04:28:10.652762Z",
     "start_time": "2019-07-01T04:28:10.645780Z"
    }
   },
   "outputs": [
    {
     "data": {
      "text/plain": [
       "'บทวิจารณ์ - จากมุมมองทางจริยธรรมส.ศิวรักษ์ : ศูนย์บันเทิงครบวงจรของรัฐบาลทักษิณสุลักษณ์ ศิวรักษ์ - นักวิชาการพุทธศาสนาบทความนี้ยาวประมาณ 10 หน้ากระดาษ a4เผยแพร่ครั้งแรกบทเว็ปมหาวิทยาลัยเที่ยงคืน วันที่ 31 มกราคม 2547ผลกระทบนโยบายศูนย์บันเทิงครบวงจรของรัฐบาลทักษิณต่อการพัฒนาแก้ไขปัญหาความยากจน : จากมุมมองทางจริยธรรม-๑-ประการแรก ขอยืนยันว่ามุมมองหรือทัศนะทางจริยธรรมนั้น ไม่ได้อยู่ในสายตาของนายกรัฐมนตรีทักษิณ ชินวัตรเอาเลย แม้เขาจะอ้างว่าเป็นพุทธศาสนิก นั่นเป็นคำลวง ที่เขาหลอกตนเองและมหาชน จนเขาเองก็เชื่อตามคำลวงของเขา นักการเมือง นักการค้าและนักโฆษณาชวนเชื่อทั้งหลาย ชอบใช้ถ้อยคำที่เป็นมุสาวาทอยู่เนืองนิตย์จนเชื่อในถ้อยคำนั้นๆเอาเลย ดังคนที่คุ้นอยู่กับความรุนแรง ย่อมยากที่จะเข้าใจได้ในหนทางของสันติภาวะ หรือคนที่คุ้นอยู่กับความโลภ ย่อมยากที่จะเข้าใจได้ในเรื่องของสันโดษพระภิกษุรูปหนึ่งเขียนบทความลงมติชน รายวัน ฉบับวันที่ ๔ ธันวาคม ๒๕๔๖ อย่างน่ารับฟังมาก หากไม่มีปฏิกิริยาใดๆจากคนในรัฐบาลปัจจุบันเอาเลย จึงขอนำเอามาอ่านให้ฟังกันดังต่อไปนี้พ.ต.ท.ทักษิณ ชินวัตร นั้นประสบความสำเร็จอย่างสูงตามกรอบคิดและทฤษฎีเศรษฐศาสตร์ทุนนิยม พิสูจน์ได้จากผลประกอบการและโครงสร้างของกำไรกิจการที่ท่านริเริ่ม ก่อตั้ง และบริหาร ก่อนการเข้ารับตำแหน่งหรือแสดงบทบาททางการเมือง กระทั่งสามารถใช้ความสำเร็จ เหล่านั้น เป็นบาทฐานเข้ายึดกุมอำนาจรัฐด้วยกลไกการเลือกตั้งสำเร็จในที่สุดอาจนับได้ว่า นี่เป็นประวัติศาสตร์ความสำเร็จของฝ่ายทุน ที่รวดเร็วและเบ็ดเสร็จเด็ดขาดยิ่ง โดยที่มิได้ใช้กลไกกองทัพ ระบบราชการ หรือทำการปฏิวัติ-รัฐประหาร แต่อย่างใดคงปฏิเสธได้ยาก ว่าอำนาจเบ็ดเสร็จเด็ดขาดทั้งทางตรงและทางอ้อม ผ่านกลไกต่างๆ ของ พ.ต.ท.ทักษิณ ชินวัตร นั้น ณ วินาทีนี้ ตลอดจนที่จะเกิดขึ้นหลังจากการเลือกตั้งในอนาคตอันใกล้ ยังไม่มีนายกรัฐมนตรีจากการเลือกตั้งคนใดเคยมีหรือทำได้มาก่อนความสำเร็จทางธุรกิจด้วยระยะเวลาอันสั้น จนสามารถมีทุนทรัพย์ระดับหลายหมื่นหลายแสนล้านบาท ด้วยระยะเวลาเพียงสองทศวรรษเศษ ในระบบทุนนิยม อาจถือได้ว่าเป็นเรื่อง \"ความสามารถ\" ในการแสวงหากำไรสูงสุดแต่ต้องไม่ลืมว่า \"กำไรสูงสุด\" นั้น แม้จะถูกกฎหมาย (หรือกฎหมายยังเอาผิดไม่ได้?) ก็มิใช่จะหมายความว่ากระทำไปในทิศทางเดียวกับ \"ทำนองคลองธรรม\"บ่อยครั้งที่ความสำเร็จทางธุรกิจการค้าแบบสัมปทานผูกขาด หรือซื้อถูกมาก-ขายแพงมาก จะมีลักษณะมิจฉาอาชีวะ คือการเลี้ยงชีพผิด หาเลี้ยงชีพในทางทุจริต ผิดวินัย หรือผิดศีลธรรมอยู่เสมอกล่าวกันมาแม้ในชาดกว่า ความสำเร็จอันรวดเร็วและยิ่งใหญ่ เมื่อผสานเข้ากับอำนาจเบ็ดเสร็จเด็ดขาดด้วยแล้ว หากผู้นั้นไม่มีธรรม ไม่มีการเจริญสติ หรือมีการภาวนาเพียงพอ ก็ง่ายที่จะเกิดความสำคัญมั่นหมายในตน ด้วยอหังการ-มมังการ มีมิจฉาทิฐิ นำพาตนเองและพวกพ้องออกนอกลู่นอกทางธรรมยิ่งๆ ขึ้นประวัติศาสตร์อินเดีย หรือแม้ในพระไตรปิฎกจึงกล่าวไว้ว่า \"เศรษฐี\" ครั้งพุทธกาลนั้น ต้องประกาศและผ่านการรับรองจากสมาชิกในชุมชน ว่าเป็น \"คนดี\" เพื่อมิให้คนชั่วหยาบแอบแฝงเข้ามาใช้ \"วิชามาร\" ช่วงชิงพื้นที่และสิทธิของสมาชิกอื่นนายกรัฐมนตรีคนปัจจุบันกล่าวด้วยความภาคภูมิใจอยู่เสมอว่า ตนเชื่อมั่นในตัวเอง เป็นคน \"คิดนอกกรอบ\" พร้อมที่จะหา \"ลู่ทางใหม่ๆ\" มาแก้ปัญหาหลายครั้งที่ พ.ต.ท.ทักษิณ ชินวัตร กล่าวกับสื่อมวลชน หรือกับผู้ฟังกลุ่มอื่นๆ ทำนองว่า \"กฎหมายนั้นเป็นเพียงเครื่องมือ มีได้ก็แก้ได้ เพื่อเป้าหมายที่วางไว้\"จะว่าไปแล้ว ความข้อนี้ไม่ใช่เรื่องแปลก โดยเฉพาะอย่างยิ่ง หากเราหลงลืมคำกล่าวที่ว่า \"กฎหมายออกโดยชนชั้นใด ย่อมรับใช้ชนชั้นนั้น\"แต่ตรรกะเช่นนี้ไม่สามารถใช้ได้กับ \"หลักศาสนธรรม\" หรือเนื้อแท้ในพระธรรมคำสอนของทุกศาสนา ยิ่งกับ \"หลักศีลธรรม-จริยธรรม\" อันเป็นแก่นแกนของวิถีแห่งความสงบร่มเย็นของมนุษยชาติด้วยแล้ว แม้ว่าถึงที่สุดสิ่งผิดกฎหมายจะได้รับการแก้กฎหมายให้กลับเป็นถูกต้อง ก็มิใช่จะถูกทำนองคลองธรรมเสมอไปกรณี \"หวยรัฐ\" หรือการจะให้มีแหล่งบันเทิงครบวงจรซึ่งมีบ่อนการพนันอยู่ในนั้น เป็นตัวอย่างที่ชัดเจนที่สุดในขณะนี้ กล่าวคือ แม้รัฐบาลจะใช้อำนาจบริหาร พรรครัฐบาลใช้เสียงข้างมากในสภามาเปลี่ยนดำเป็นขาว เปลี่ยนผิด (กฎหมาย) ให้เป็นถูกได้ตามอำเภอใจ แต่รัฐบาลหรือ นายกรัฐมนตรีก็ไม่สามารถเปลี่ยนกฎศีลธรรม หรือเปลี่ยนหลักธรรมคำสอนได้ ไม่ว่าจะใช้ทฤษฎี \"คิดนอกกรอบ\" หรือ \"กฎหมายออกได้ ก็แก้ได้\" หรือทฤษฎี \"กำไรสูงสุด คือคำตอบสุดท้าย\" หรือข้ออ้างอะไรอื่น ๆ ก็ตามและไม่ว่าจะเอากำไร \"บางส่วน\" มาแจกจ่ายคนจน หรือมีเทคนิคทางการเมืองใดๆ มากำราบ หรือกดดันผู้ไม่เห็นด้วย แต่ถึงที่สุดแล้ว หากผู้มีอำนาจมีมโนธรรมสำนึก ก็มิอาจปฏิเสธได้ว่า ตนกำลังมอมเมาประชาชนในอาณัติ และใช้อำนาจเหยียบย่ำทำลายศีลธรรมอันดีของประชาชนเสียเองมิพักจะต้องกล่าวว่า โดยทฤษฎีรัฐศาสตร์และเศรษฐศาสตร์อันยั่งยืนนั้น การมอมเมาให้ผู้ด้อยอำนาจทางเศรษฐกิจ ผู้ใช้แรงงานหรือคนยากคนจน ซึ่งมักเป็นลูกค้ารายใหญ่ของอบายมุข ในระยะยาวย่อมไม่เป็นผลดีต่อเศรษฐกิจการเมืองโดยรวมของประเทศในอนาคตจะเกิดอะไรขึ้นกับประเทศชาติ พระศาสนา และประชาชน อาจคาดเดาได้ไม่ยากนัก หากรัฐและผู้นำรัฐมุ่งถือเอาผลประโยชน์ทางการเมืองในระยะสั้นเป็นที่ตั้ง มุ่งนำพาอาณาประชาราษฎร์ไปสู่ระบบทุนนิยม บริโภคนิยม ที่คนจำนวนน้อยใช้ความได้เปรียบตักตวง \"กำไรสูงสุด\" แต่ฝ่ายเดียวมิหนำซ้ำ ยังหลอกล่อให้คนด้อยโอกาสมัวเมาอยู่กับ \"ช่องทางแห่งความเสื่อม\" คือ \"อบายมุข\" ประเภทต่างๆ อยู่ซ้ำแล้วซ้ำเล่าพ.ต.ท.ทักษิณ ชินวัตร เคยกล่าวหลายครั้ง ว่าตนเองเป็นพุทธศาสนิกชน มิหนำซ้ำ ยังศึกษาพระธรรมคำสอนของพระพุทธองค์ ตลอดจนพระเถรานุเถระร่วมสมัยอยู่มิได้ขาด เชื่อได้ว่า หากมีเวลาที่จะยั้งคิด ได้ใช้สติปัญญาที่มีอยู่ โดยมีธรรมะเป็นดั่งเครื่องมือทำลายอวิชชา ตลอดจนรับฟังคำท้วงติงของกัลยาณมิตรให้มากขึ้นแล้ว ความตั้งใจที่ดีย่อมช่วยให้เห็นเป้าหมายถูกต้องได้ในที่สุด\"ช่องทางแห่งความเสื่อม\" นั้นประกอบไปด้วย ๑) ติดสุราและของมึนเมา ๒) ชอบเที่ยวกลางคืน ๓) ชอบเที่ยวดูการละเล่น ๔) เล่นการพนัน ๕) คบคนชั่วเป็นมิตร ๖) เกียจคร้านการงาน เชื่อว่าการที่ พ.ต.ท.ทักษิณ ชินวัตร ประสบความสำเร็จมาได้ถึงขนาดนี้ ก็ย่อมจะปฏิเสธและหลีกหนีทั้ง ๖ ข้อ อยู่เป็นปกติจึงได้แต่หวังว่า การที่ประชาชนลงคะแนนเลือกตั้งท่านและคณะ ทั้งที่ผ่านมาและกำลังจะเกิดขึ้น ถึงที่สุดแล้วจะไม่เป็นไปตาม \"อบายมุข\" ข้อที่ ๕ คือ การคบคนชั่วเป็นมิตร ในบั้นปลาย...ขอเน้นที่สองวรรคข้างบน ดังจะเอามาอ่านให้ฟังอีกครั้ง คือ\\\\(๑) หลายครั้งที่ พ.ต.ท.ทักษิณ ชินวัตร กล่าวกับสื่อมวลชน หรือกับผู้ฟังกลุ่มอื่นๆ ทำนองว่า \"กฎหมายนั้นเป็นเพียงเครื่องมือ มีได้ก็แก้ได้ เพื่อเป้าหมายที่วางไว้\"ความข้อนี้ ทำให้นึกถึงคำของมายเยอร์ แอมแชล รอตส์ไชลด์ ผู้ตั้งจักรวรรดิทางด้านทุนของเครือข่ายในสกุลของตนขึ้น ก่อนสกุลชินวัตรหลายร้อยปี เขากล่าวว่า \"ขอให้ฉันได้คุมระบบเงินตราของประเทศใดก็ได้ ส่วนใครจะออกกฎหมายในประเทศนั้น ไม่สำคัญดอก\" กล่าวคือ ถ้าเราถือกุญแจที่คุมอาหารอย่างสำคัญไว้ได้แล้วไซร้ นั่นคือการวางระบบโครงสร้างทางด้านการเป็นเจ้าของทรัพย์สมบัติต่างๆขึ้นมาทันที โดยที่คนส่วนใหญ่ไม่รู้เสียด้วยซ้ำว่าแม้จนบัดนี้แล้ว ราคาทองคำที่ขึ้นลงกันทุกวันนี้นั้น ตัดสินกันที่บริษัทรอดส์ไชลด์ ในกรุงลอนดอนในกรณีของทักษิณ เขาไม่แต่ควบคุมระบบของเงินตราอยู่เบื้องหลังการคุมอำนาจ หากเขายังคุมสื่อสารมวลชนกระแสหลักอีกด้วย ดังที่เขาอ้างว่าเขายินดีรับฟังประชามติที่จะให้มหาชนตัดสินในเรื่องนโยบายศูนย์บันเทิงครบวงจร ที่เน้นทางด้านการพนันอย่างถูกกฎหมายนั้น เขาย่อมรู้ดีอยู่แล้ว ว่าเขาปั่นประชามติได้ ดังที่เขาปั่นการเลือกตั้งให้เขาคุมรัฐสภาอยู่อย่างเกือบเบ็ดเสร็จก็ยังได้ มิใยว่าวุฒิสภานั้น ตามเจตจำนงของรัฐธรรมนูญ ต้องการให้ปลอดไปจากการควบคุมของพรรคการเมืองหนึ่งใดก็ตาม แต่ถ้าทักษิณต้องการฟังเสียงมหาชนจริงๆ เขาก็ย่อมรู้ดีว่า กรรมการของสภาที่ปรึกษาเศรษฐกิจและสังคมแห่งชาตินั้น มาจากการเลือกตั้ง และสมาชิกส่วนใหญ่ของสภานี้ไม่เห็นด้วยกับทัศนะของเขา โดยเฉพาะก็ในเรื่องนโยบายศูนย์บันเทิงครบวงจร(๒) พระภิกษุผู้เขียนบทความที่ยกมาอ่านให้ฟังนั้น คัดค้านว่านโยบายของนายกรัฐมนตรีในเรื่องนี้ไม่สามารถใช้ได้กับ \"หลักศาสนธรรม\" หรือเนื้อแท้ในพระธรรมคำสอนของทุกศาสนา ยิ่งกับ \"หลักศีลธรรม-จริยธรรม\" อันเป็นแก่นแกนของวิถีแห่งความสงบร่มเย็นของมนุษยชาติด้วยแล้ว แม้ว่าถึงที่สุดสิ่งผิดกฎหมายจะได้รับการแก้กฎหมายให้กลับเป็นถูกต้อง ก็มิใช่จะถูกทำนองคลองธรรมเสมอไปความข้อนี้ทักษิณไม่สนใจเอาเลย เขาฉลาดพอๆกับมิคาอาเวลลี หรืออย่างน้อยก็ไม่อับอายที่จะเดินตามกระแสของหมอนั่น ที่เห็นว่าเศรษฐกิจและการเมืองนั้น จะไยไพไปทำไมกันกับคำสั่งสอนทางศาสนธรรมหรือจริยธรรม ศีลธรรมและศาสนธรรมมีไว้ให้เราอ้างในการมอมเมาประชาชนต่างหาก ไม่ได้มีไว้ให้เราประพฤติปฏิบัติ-๒-ขอให้สังเกตได้ว่านโยบายในเรื่องนี้ นายกรัฐมนตรีใช้ภาษาอังกฤษเป็นสื่อและยกตัวอย่างจากต่างประเทศเป็นประการสำคัญ ดังคำของเขาว่าลักษณะของกาสิโนดังกล่าว จะเป็นคอมเพล็กซ์ เอ็นเตอร์เทนเมนท์ จะไม่ใช่ลักษณะการให้ใบอนุญาตไปเปิดกาสิโน เพราะจะดูไม่ดี โดยเอกชนจะเป็นผู้ลงทุน เนื่องจากรัฐบาลไม่มีความชำนาญ และจะทำคล้ายกับลาสเวกัส ที่สหรัฐอเมริกา หรือคราวน์ ที่ออสเตรเลีย เกนติ้ง ที่มาเลเซีย หรือที่ซันชิตี้ ซึ่งรายได้ส่วนใหญ่จะมาจากภาคบันเทิง เอ็นเตอร์เทนเมนท์ และการขายสินค้าประมาณ ๗๐% โดยมีรายได้จากกาสิโนเพียง ๓๐% กาสิโนจะไม่ใช่เรื่องหลัก เป็นเพียงตัวประกอบเท่านั้นประโยคหลังเป็นคำลวง ที่ว่าการพนันไม่ใช่ประเด็นหลัก หากการขายสินค้าสำคัญกว่า ตามความเป็นจริงแล้ว มีบ่อนที่ไหนบ้าง ที่ถือการพนันเป็นตัวรองโดยที่ความคิดทั้งหมดของทักษิณนั้น เป็นไปในกระแสหลักของจักรวรรดินิยมอเมริกัน ที่เน้นไปในทางความรุนแรง เช่นการโจมตีและยึดครองอาฟกานิสถาน และ อิรัก ดังที่ไทยก็ส่งทหารไปร่วมตายด้วยที่นั่น เพื่อแสดงว่าไทยแลนด์เดินตามพี่เบิ้มอย่างเซื่องๆ อย่างหมดศักดิ์ศรี ดังที่เดินตามจีน แม้จนองค์ทะไลลามะก็ไม่ยอมให้เข้าราชอาณาจักร ซึ่งมีองค์พระประมุขเป็นพุทธมามกะและเอกอัครศาสนูปถัมภก โดยคนส่วนใหญ่ก็นับถือพระพุทธศาสนาทั้งนี้ก็เพราะสหรัฐอเมริกาและจีนเป็นยักษ์ใหญ่ในทางเศรษฐกิจ ซึ่งผูกสนิทกับชินคอป และให้ประโยชน์กับชินคอป ยิ่งกว่ากับประเทศไทย ดังที่รัฐบาลไทยเข้าไปเอาใจเผด็จการทหารพม่า อย่างปราศจากจุดยืนทางจริยธรรมหรือสิทธิมนุษยชน ก็เพื่อหวังผลประโยชน์ให้กับบริษัทในเครือของสกุลชินวัตร ยิ่งกว่าจะเห็นประโยชน์ของประเทศชาติหรือราษฎรชาวสยามนั้นแล โดยที่รัฐบาลใช้งบประมาณจากภาษีอากรของราษฎรไปอย่างสาดเสียเนื่องในการประชุม apec เมื่อเร็วๆนี้นั้น ผลได้ในทางคุณประโยชน์ของบ้านเมืองก็แทบไม่มีเลย หากสร้างฐานทางอำนาจเศรษฐกิจให้เครือของบริษัทในสกุลชินวัตรได้แผ่กระจายออกไป ไม่แต่ในภูมิภาคนี้ หากยังกระจายไปยังภูมิภาคอื่นๆในโลกอีกด้วย โดยที่บรรษัทข้ามชาติอย่างเจริญโภคภัณฑ์นั้นก็สัมพันธ์กันอย่างใกล้ชิดยิ่งนักกับพวกชินวัตร จนลูกเขยในสกุลนั้นเข้ามาเป็นรัฐมนตรีเอาเลยด้วยซ้ำการที่รัฐบาลอ้างว่าจะเอารายได้จากการพนันไปใช้ประโยชน์ทางการกุศลนั้น นายกรัฐมนตรีไม่รู้เอาเลยหรือว่า วัดคณิกาผล ที่ยายแฟงแกเอาเงินที่แกเก็บค่าหัวจากโสเภณี หรือนางคณิกา มาสร้างวัดนั้น วัดดังกล่าวยังเป็นอนุสาวรีย์ที่ขายความอายให้แกอยู่จนทุกวันนี้ ยังเด็กที่ได้รับทุนการศึกษาจากการพนันนั้น เขาจะมีความภูมิใจละหรือ หรือว่านี่เป็นการสร้างให้เยาวชนเห็นคุณค่าว่ามิจฉาอาชีวะ ก็ไม่เป็นไร ขอให้ได้ไต่เต้าไปในทางเศรษฐกิจ สังคม และการเมือง เป็นใช้ได้ดังให้ดูตัวอย่างได้จากคนอย่างทักษิณ ชินวัตร ก็ยังได้ โดยที่ก่อนหน้านี้ เราก็มีสฤษดิ์ ธนะรัชต์ และเผ่า ศรียานนท์มาแล้ว โดยที่บุคคลทั้งสองนี้มีอนุสาวรีย์ที่ทำด้วยทองผสมไว้ขายความอายเอาไว้ทั้งคู่เช่นกัน หรืออนุสาวรีย์อันอุจาดนี้ ไม่เห็นเป็นข้อเสียหาย ดังต่อเมื่อทางด่วนที่สร้างค้างไว้ คนที่กินสินบนในเรื่องนี้ก็ไม่รู้สึกอับอาย ตายแล้วยังได้เข้าโกศ คนส่วนใหญ่ก็ไม่นำพา คือเราช่วยกันสำทับให้เห็นกงจักรเป็นดอกบัว ให้ไม่จำต้องเห็นพลังของสัจจะ ของธรรมะ หรือความอยุติธรรมในสังคมทักษิณไม่สำเหนียกเลยหรือว่าลาสเวกัส เป็นสัญลักษณ์แห่งความอัปยศของสหรัฐ เฉกเช่น คราวน์ที่ออสเตรเลีย และเกนติ้งที่มาเลเซียนั้นเอง มิใยต้องเอ่ยถึงบ่อนทางชายแดนของเรา ที่ล้ำเข้าไปในกัมพูชา และพม่า โดยที่นักการเมืองของเราก็เข้าไปมีเอี่ยวอยู่ด้วยกันแทบทั้งนั้น อย่างปราศจากหิริโอตตัปปะใดๆทั้งสิ้นถ้าทักษิณหรือคนรอบตัวเขาจะสำเหนียกสักนิด เขาน่าจะฟังคำของศาสตราจารย์โยฮัน กัลตุง แห่งนอรเวย์ ซึ่งเตือนสาธุชนว่าอำนาจนิยมและทุนนิยมที่สหรัฐเป็นใหญ่อยู่ในเวลานี้ จะมีอายุยืนนานไปได้อีกเพียง ๒ ทศวรรษเท่านั้น ดังจักรวรรดิอังกฤษเองล่มจมมาแต่สิ้นสงครามโลกครั้งที่ ๑ แล้ว หากมาฟุบแฟบอย่างไม่ฟื้นภายหลังสงครามโลกครั้งที่ ๒ ดังจะเห็นได้ว่านายกรัฐมนตรีอังกฤษคนปัจจุบันเป็นดังสุนัขรับใช้ของนายบุชเอาเลยก็ว่าได้ แล้วทักษิณต้องการเป็นเช่นนั้นด้วยละหรือเขาเองไม่เห็นละหรือว่า เวรนั้นระงับไม่ได้ด้วยการจองเวร โภคทรัพย์และความอยู่ดีกินดีของราษฎรเป็นไปไม่ได้จากมิจฉาอาชีวะและการพนัน แม้จะเลี่ยงไปเรียกว่า การบันเทิงครบวงจรก็ตาม หากวงจรที่ว่านี้เป็นวัฏสงสารแห่งความทุกข์ ถ้าใครเป็นพุทธศาสนิก ควรจะรู้ว่าเป้าหมายของเราอยู่ที่การออกจากวงวัฏดังกล่าว เพื่อความเย็น เพื่อความสงบ เพื่อความสุขที่แท้ ไม่ใช่ความสุขที่หลอกลวงและเลวร้าย-๓-ทักษิณและที่ปรึกษาของเขา ไม่เคยอ่านพระนิพนธ์ของสมเด็จกรมพระยาดำรงราชานุภาพเสียเลยหรือ โดยเฉพาะก็ตำนานการเลิกหวยและบ่อนเบี้ย ถ้านายกรัฐมนตรีมีกำพืดทางความเป็นไทย รู้เรื่องอดีตและความเป็นมาของบ้านเมือง แทนที่จะเพียงหลับตาเดินตามฝรั่ง ที่อ้างว่าคือความทันสมัย ความก้าวหน้าและโลกาภิวัตน์แล้วไซร้ เขาควรตระหนักว่า ที่เขาจะเลือกพื้นที่หรือภาค ให้มีบ่อนกาสิโน หรือศูนย์บันเทิงครบวงจรนั้น ถ้าเขารู้อะไรๆในทางประวัติศาสตร์บ้าง เขาน่าจะตระหนักว่าในรัชกาลพระเจ้าบรมโกศ แห่งกรุงศรีอยุธยานั้น ปรากฎความว่า ในปีพ.ศ. ๒๒๙๙ขุนทิพกับหมื่นรุดอักษร ยื่นเรื่องราวให้กราบบังคมทูล ขอตั้งบ่อนเบี้ยขึ้นในแขวงเมืองราชบุรี เมืองสมุทรสงคราม เมืองสมุทรปราการ รับจะประมูลเงินหลวงขึ้นเสมอปีละ ๓๗๑ ชั่ง (๒๙๖๘๐ บาท) ทรงพระราชดำริว่า หัวเมืองทั้ง ๓ นั้น เป็นที่ใกล้สวนบางช้าง อันเงินอากรสวนนั้น ขึ้นพระคลังอยู่เป็นอันมาก และได้มีกฎรับสั่งห้ามอยู่แต่ก่อน ว่ามิให้ตั้งบ่อนเบี้ยในหัวเมืองเหล่านั้น ซึ่งผู้มีชื่อมายื่นเรื่องราวให้กราบบังคมทูลดังนี้ ผิดอย่างทำเนียม และจะกระทำให้ไพร่ฟ้าอาณาประชาราษฎรทั้งปวง ได้รับความเดือดร้อนขัดสนต่อไป จึงมีพระราชโองการสั่งแก่ออกญารัตนาธิเบศร์ ผู้ว่าราชการที่สมุหมนเทียรบาล ให้เอาตัวผู้กราบทูลขอประมูล ลงพระราชอาญาถ้านายกรัฐมนตรีจงรักภักดีจริง ต่อระบบการปกครองในระบอบประชาธิปไตย ที่มีพระมหากษัตริย์เป็นประมุข ทำไมไม่กราบบังคมทูลพระกรุณา ขอรับฟังพระบรมราโชวาทบ้างเล่า เพราะในระบอบการปกครองดังกล่าว พระมหากษัตริย์ทรงอยู่ในพระสถานะที่จะ \\\\(๑) เตือน (๒) แนะนำ และ (๓) ห้ามปราม อย่างน้อยในสมัยปัจจุบันทักษิณ ชินวัตร ไม่ถึงกับต้องถูกลงพระราชอาญาดอก และถ้อยคำของขุนหลวงในสมัยกรุงเก่านั้น ล้าสมัยไปแล้วหรือ ที่ว่า จะกระทำให้ไพร่ฟ้าอาณาประชาราษฎรทั้งปวง ได้รับความเดือดร้อนขัดสนต่อไปอนึ่ง ประกาศของหอรัษฎากรพิพัฒน์ ในรัชกาลที่ ๕ ก็มีข้อความที่น่าสนใจยิ่งนัก จึงขอนำมาอ่านให้ฟังดังนี้ทรงพระกรุณาโปรดเกล้าฯสั่งว่า การเล่นพนันต่างๆ ซึ่งชาวสยามเคยเล่นเป็นการสนุก และแข่งขันพนันกันด้วยทรัพย์สมบัติพัสดุเงินทองต่างๆนั้น ที่เป็นการพนันของชาวสยามแท้ ก็มีแต่วิ่งม้า วิ่งวัว ชนนก ชนไก่ ชนปลาและไพ่ต่างๆ เหล่านี้เป็นต้น การเล่นโป ถั่วนั้น เป็นวิชาพนันของจีน พวกจีนพากันเข้ามาพึ่งพระบรมเดชานุภาพ อาศัยทำมาหากินอยู่ในกรุงสยาม ได้ความผาสุก หากินอยู่ตามภูมิลำเนาแล้ว พากันก่อการเล่นโปถั่ว ซึ่งเป็นวิชาถนัดของตนขึ้น ชักชวนคนไทยให้หลงไปด้วย ทำให้เป็นการเสียทรัพย์ เสียเวลา เสียประโยชน์ การค้าขาย และทำให้สันดานหมกมุ่นไปในสิ่งซึ่งหาประโยชน์มิได้ เป็นการร้ายแรงยิ่งกว่าการเล่น ซึ่งชาวสยามเคยเล่นกันมา เพราะฉะนั้น โป ถั่ว วิชาของจีนนี้ เป็นวิชาอุปเท่ห์ที่มาชวนคนไทยให้เสียประโยชน์ที่พูดกันพล่อยๆว่าคนไทยชอบการพนันจนเป็นนิสัยสันดานนั้น คนพวกนี้มีกำพืดเดิมเป็นจีน หาไม่ก็นิยมการพนันอย่างจีน ดังที่หันตามแฟชั่นอย่างฝรั่ง ในสมัยหลังๆนี้เอง จนหลายคนลืมความเป็นไทยไปได้ง่ายๆแล้วกระมัง ยิ่งตั้งตัวจนร่ำรวยขึ้นจากมิจฉาอาชีวะด้วยแล้ว จะเข้าใจเรื่องทานเรื่องศีลเรื่องภาวนา ได้อย่างไรกัน เพียงแต่ปากก็เพ้อไปกันเท่านั้นเองอากรหวย ก.ข.แรกตั้งขึ้นในเมืองไทย ในรัชกาลที่ ๓ จากความคิดของเจ๊สัวหง เลิกได้เบ็ดเสร็จในรัชกาลที่ ๖ มีอายุเวลาทั้งหมด ๘๑ ปี นี่เจ๊สัวตั๊ก หรือเจ๊สัวชินจะให้เริ่มขึ้นอีกละหรือ เพื่อจะได้ศรีวิไลอย่างสหรัฐ โดยเขาลืมไปว่าที่ในประเทศนั้นจำนวนคนอยู่ในคุกรวมกันแล้ว มากกว่าชาวไร่ชาวนาคนเล็กคนน้อยที่มีอาชีพทางเกษตรกรรม เขาต้องการให้บ้านเมืองเราเป็นเช่นนั้นละหรือ โดยที่บัดนี้บริษัทเจริญโภคภัณฑ์ก็คุมการค้าไก่ ค้าสุกร และเมล็ดพันธุ์พืชอย่างน่ากลัวเพียงใดแล้วก็ตาม โดยที่ชาวไร่ชาวนาต่อแต่นี้ไปอาจต้องซื้อเมล็ดมาทำการเกษตร ผลไม้ก็มีเมล็ดที่ทำพันธุ์ไม่ได้ ต้องไปซื้อเมล็ดพันธุ์มาจากบริษัทอย่างเช่นเจริญโภคภัณฑ์ต่อไป ชาวไร่ชาวนาอาจต้องซื้อน้ำมาทำการเกษตรเสียด้วยซ้ำ แล้วเจ๊สัวชินยังจะเอานโยบายศูนย์บันเทิงครบวงจรมามอมเมาประชาราษฎรให้หมดเนื้อขายตัวไปยิ่งกว่านี้อีกละหรือข้าพเจ้าขออ่านพระนิพนธ์ของสมเด็จกรมพระยาดำรงราชานุภาพ ในตอนสุดท้ายของปาฐกถานี้จะกล่าวแถมท้ายถึงคุณและโทษของหวย และบ่อนเบี้ยต่อไปอีกสักหน่อย อากรทั้งสองอย่างนั้น เป็นการทำความชั่วก็จริง แต่ถ้าจะค้นหาข้อที่เป็นคุณ ก็มีอยู่บ้าง จะว่าแต่ที่เป็นข้อสำคัญ คือ ที่เป็นอุบายการเก็บภาษีจากราษฎรอย่างหมดจด (ที่ว่าหมดจดนั้น ไม่ได้หมายความว่า ดี) ถ้าหากว่าประสงค์แต่จะให้ได้เงินเป็นประมาณแล้ว ไม่มีวิธีเก็บภาษาอย่างอื่นจะสะดวกยิ่งกว่าอากรหวยและบ่อนเบี้ย เพราะรัฐบาลไม่ต้องตั้งพิกัดอัตราเรียกเร่งรบกวนให้ราษฎรบ่นว่าเดือดร้อน ราษฎรก็พากันสมัครหาเงินมาเสียให้รัฐบาล แม้จนสิ้นเนื้อประดาตัว ที่สุดถึงต้องขายสมบัติ บ้านช่อง ตลอดจนขายตัวเอง ก็ยังเต็มใจที่จะเสียภาษีโดยทางบ่อนเบี้ยและอากรหวย ไม่มีคนเสียคนใดที่จะบ่นว่าเดือดร้อน เพราะมีบ่อนเบี้ยหรือมีโรงหวย อย่างว่า เวลาโทมนัส เมื่อเล่นหวยเล่นเบี้ยเสียทรัพย์มาก ก็โทษตัวเองว่า เพราะคิดไม่ถูก หรือเคราะห์ไม่ดี ที่จะโทษหวยและบ่อนเบี้ยนั้นหามีไม่ ส่วนคุณของหวย และบ่อนเบี้ยเห็นมีอยู่เท่านี้แต่ส่วนโทษนั้น มีเป็นเอนกปริยาย ว่าโดยย่อก็คือเป็นเหตุที่ทำให้ไพร่บ้านพลเมืองยากจน ไม่มีกำลังที่จะประกอบการให้ตนเองและบ้านเมืองมีความเจริญประการหนึ่ง เป็นเหตุให้ไพร่บ้านพลเมืองเกิดนิสัยเป็นคนพาลสันดานชั่ว ประการหนึ่ง แต่ถ้าจะพิจารณาต่อไปว่า หวยกับบ่อนเบี้ยให้โทษผิดกันอย่างไร เห็นว่าบ่อนเบี้ยให้โทษแก่คนชั้นต่ำเป็นพื้น เพราะการเล่นเบี้ยต้องไปถึงบ่อน จึงมักไปเล่นแต่คนชั้นต่ำ คนชั้นสูงที่ไปเล่นเบี้ยถึงบ่อนโดยตรง หรือลักเล่นเบี้ยตามบ้านเรือนมีไม่มากมายเท่าใดนัก ส่วนหวยนั้นให้โทษแก่คนชั้นสูงมากกว่าคนชั้นต่ำ เพราะอาจจะเล่นได้ในที่ลับ ไม่ต้องออกหน้าไปแทงถึงโรงหวย ผู้ดีจึงชอบเล่น กระบวนทางได้เสียก็ผิดกัน เล่นเบี้ยนั้นมีทุนไปเท่าใด ก็มักเล่นหมดพกในเวลาเดียว แต่เล่นหวยชักทุนทีละน้อย ค่อยเล่นค่อยเปลืองไป ถ้าจะอุปมาคนเล่นเบี้ย เหมือนเป็นอหิวาตกโรค คนเล่นหวยเหมือนเป็นวัณโรค ใครลงได้เป็นแล้ว ก็มักตายผิดกัน แต่อย่างหนึ่งตายเร็ว อีกอย่างหนึ่งตายช้าที่นักเลงเล่นเบี้ยหรือเล่นหวย คนใดจะเล่นรวย จนถึงตั้งตัวได้เพราะการเล่นเบี้ยเล่นหวยนั้น ยังไม่ปรากฎตัวเลย กล่าวกันว่าพระภาษี เล็ก ตั้งตัวได้จนถึงได้สร้างวัด ด้วยเล่นเบี้ย มีอยู่คนหนึ่งแต่ก็มิใช่รวยเพราะแทงถั่วโป หรือแทงหวย ที่ตั้งตัวได้เพราะรับผูกอากรบ่อนเบี้ยและทำภาษีอากรอย่างอื่นด้วย จึงได้รวย จนได้สร้างวัดภาวนาภิรตาราม อันปรากฎอยู่ในคลองบางกอกน้อยนั้น แต่ถึงจะมีบ้างก็ไม่ถึงหนึ่งในหมื่นในแสนของจำนวนคนที่เสียทรัพย์ เสียตัวป่นปี้ไป เพราะหลงเล่นเบี้ย และเล่นหวย เพราะฉะนั้น ที่สมเด็จพระเจ้าอยู่หัว ได้ทรงพยายามมาทั้งสองรัชกาลจนได้เลิกหวยและบ่อนเบี้ยหมดสิ้นสยามประเทศนี้ ควรคนทั้งหลายจะระลึกถึงพระเดชพระคุณเป็นล้นเกล้าฯทั่วกันถ้าตาใครมีแวว ก็จะเข้าใจเนื้อหาสาระแห่งพระนิพนธ์นี้ แล้วนำมาประยุกต์ใช้ให้เหมาะสม และถ้าเขาคนนั้นจงรักภักดีต่อสถาบันพระมหากษัตริย์จริงๆ เขาย่อมรู้ได้ถึงพระคุณของในหลวงรัชกาลที่ ๕ และที่ ๖ ซึ่งทรงยอมเสียสละรายได้ของแผ่นดินจากอากรการพนัน โดยหันไปทำนุบำรุงบ้านเมือง อย่างที่ไม่แปดเปื้อนไปกับอบายมุขแต่ถ้าเขาคนนั้นเป็นนักฉวยโอกาส นโยบายศูนย์บันเทิงครบวงจรที่ว่านี้ ย่อมนำหายนะมาให้ราษฎรไทย ไม่แต่ในทางจริยธรรม หากในทางเศรษฐกิจและสังคมอีกด้วย ที่นโยบายดังกล่าวจะแก้ไขปัญหาความยากจนได้นั้น อย่าได้พึงหวัง ดังธนาคารโลก มีคติติดไว้ว่าจะขจัดความยากจนให้หมดไปจากโลกนั้น ธนาคารนี้ตั้งมากว่ากึ่งศตวรรษแล้ว ในช่วงเวลาดังกล่าว ช่องว่างระหว่างคนรวยกับคนจนห่างกันยิ่งๆขึ้นทุกที คนยากจนข้นแค้นลงไปอย่างแสนสาหัส และนโยบายการพัฒนาที่อ้างถึงความทันสมัย ที่ใช้เทคโนโลยีล่าสุดต่างๆนั้น นอกจากทำร้ายธรรมชาติอย่างเลวร้ายแล้ว ยังทำลายคุณภาพแห่งชีวิตของคนยากคนจนจำนวนมหาศาลเป็นอย่างมากอีกด้วยความข้อนี้คนอย่างทักษิณ ชินวัตรและนักเศรษฐศาสตร์ นักการเมืองในกระแสหลัก ย่อมไม่อาจสามารถจะเข้าใจได้ หาไม่ไหนเลย นโยบายในเรื่องเขื่อนที่ปากมูล นโยบายในเรื่องเหมืองแร่โปตาซที่อุดร ซึ่งบริษัทเจริญโภคภัณฑ์เข้ามามีเอี่ยว และนโยบายในเรื่องท่อแก๊สไทยมาเลเซีย ซึ่งบริษัทยูโนแคลเข้ามาคุม จะสร้างความเลวร้ายให้ราษฎรอย่างเหลือเชื่อผู้เชี่ยวชาญอย่างเดียวไม่เพียงพอ หากธนาคารนี้เริ่มฟังคนยากคนจน แม้จนรับฟังทัศนะจากนักการศึกษา และนักสังคมวิทยา มานุษยวิทยา และนำเอาปัญหาทางจริยธรรม ศาสนธรรม และวัฒนธรรมท้องถิ่น ตลอดจนภูมิปัญญาชาวบ้าน แล้วหันมาประมวลเพื่อเป็นองค์คุณแห่งความรู้ ความเข้าใจ ก่อนจะตัดสินใจทำอะไรๆลงไป ดังธนาคารโลกถอนตัวออกจากการอุดหนุนโครงการสร้างเขื่อนอย่างใหญ่หลายต่อหลายแห่งแล้วเราจะหวังภูมิปัญญาเช่นนี้จากนายกรัฐมนตรีไทยคนปัจจุบันเป็นไปได้ไหม ถ้าไม่ได้ เราต้องหาทางกดดันอย่างสันติ รวมพลังกันอย่างมีสติปัญญา และสามัคคีธรรม เอาชนะมิจฉาอาชีวะ ให้ปลาสนาการไปให้จงได้ แม้จะเรียกมันว่าศูนย์บันเทิงครบวงจร แต่มันเป็นความบันเทิง บนกองไฟแห่งความทุกข์แท้ทีเดียว-๔-ขอพูดแถมท้ายอีกนิดว่านโยบายของทักษิณนั้นไม่มีอะไรใหม่ เป็นการใช้ธนาธิปไตยแบบกึ่งดิบกึ่งดี ที่มีความเป็นเผด็จการซ่อนเงื่อนอยู่ภายในรูปแบบของการเลือกตั้งและรัฐสภา เขาสามารถควบคุมสื่อมวลชนอย่างได้ผล คล้ายๆมาเลเซีย และถ้าเป็นไปได้ ไทยแลนด์ก็จะเป็นอย่างสิงคโปร์ คือผู้คนขาดเสรีภาพไปทุกๆทาง และที่จะกินดีอยู่ดีอย่างสิงคโปร์ก็น่าสงสัย ยังบริษัทบริวารที่รับใช้เขา ก็ล้วนขาดความเป็นตัวของตัวเอง ได้แต่รับฟังคำสั่งจากนายเหนือหัวอย่างปราศจากวิจารณญาณ ยิ่งระบบงานที่เรียกว่า ceo ด้วยแล้ว นั่นคือการบริหารงานอย่างริดรอนสิทธิและศักดิ์ศรีของข้าราชการประจำในทุกๆทาง ใครที่มีกึ๋นหรือมีความกล้าหาญทางจริยธรรม ย่อมดำรงคงอยู่ในระบบได้ยาก หากจะมีลูกขุนพลอยพยักเพิ่มยิ่งๆขึ้นอนึ่ง นโยบายแบบจักรวรรดินิยมตามทางของสหรัฐ ที่เปิดโอกาสให้มือใครยาวสาวได้สาวเอา โดยใช้ความรุนแรงด้วยประการต่างๆเพื่อเอาชนะฝ่ายตรงกันข้ามนั้น แม้จะเรียกว่าโลกาภิวัตน์ ก็เป็นการสร้างระบบเวรกรรม ให้ทำลายล้างกันต่อๆ ไปอย่างไม่จบสิ้นวิกฤตการณ์ ๑๑ กันยายน ๒๕๔๔ ที่สหรัฐ เป็นผลพวงมาจากการก่อการร้ายของรัฐบาลอเมริกันแต่สมัยสงครามเย็นภายหลังสงครามโลกครั้งที่สองเป็นต้นมา อีกฝ่ายเขาสู้ซึ่งๆหน้าไม่ได้ เขาก็ต้องใช้วิธีการอันรุนแรง อย่างยอมพลีชีวิตเพื่อท้าทายวิธีการก่อการร้ายแบบสหรัฐ ซึ่งแพร่ไปยังทุกมุมโลก รวมทั้งเวียดนาม กัมพูชา ลาวและไทยในสมัยก่อนที่รัฐบาลทักษิณเอาอย่างมาทำกับการฆ่าตัดตอน โดยใช้กฎหมายหรือไม่ก็ตาม ที่ว่าจะเอาชนะยาเสพติดนั้น ก็คือมาตรการเวรที่ไม่ระงับด้วยการจองเวรนั้นแล ยิ่งส่งทหารไทยไปตายในอิรักด้วยแล้ว ฝ่ายที่อยู่ตรงข้ามกับบุช ซึ่งมีอยู่ลับๆทั่วโลก ย่อมรุมเล่นงานฝ่ายรัฐบาลทักษิณ ด้วยขยายวงการก่อเวรก่อกรรมในทางพิฆาตฆ่ายิ่งๆขึ้น ทั้งนี้มีผลจากกรณีที่รัฐบาลทำร้ายราษฎรที่ต่อต้านท่อแก๊สทางสงขลาและอื่นๆด้วยวินาศกรรมที่เกิดขึ้นทางปักษ์ใต้ในเวลานี้ มีอนุสนธิมาแต่นโยบายของรัฐบาลทักษิณที่ไม่คำนึงถึงจริยธรรมและศาสนธรรม โดยเฉพาะก็ของมุสลิมนั้นแลเป็นประการสำคัญ ยิ่งรัฐบาลประกาศมาตรการใช้ความรุนแรงเพิ่มขึ้น การตอบโต้อย่างเลวร้ายและรุนแรงก็จะเพิ่มขึ้น โดยอาจจู่โจมเข้าถึงตัวเขาและครอบครัวเขาเอาเลยด้วยซ้ำที่ว่ามานี้ ข้าพเจ้าเตือนด้วยหวังดี ดังเช่นกรณีอบายมุขที่เรียกว่าศูนย์บันเทิงครบวงจร ก็รวมอยู่ในข่ายแห่งความเลวร้ายด้วยเช่นกัน ถ้านายกรัฐมนตรีมีสติ น่าจะมีมนสิการ แก้ไขนโยบายเสียที่ขั้นพื้นฐาน เลิกอาการอันรุนแรงที่อิงความโลภ โกรธ หลงด้วยประการต่างๆ และหันมาหาทางสมานฉันท์อย่างสันติวิธี แม้นี่จะล่าช้าไปมากแล้ว ก็ยังพอจะเยียวยาได้เกรงแต่ว่าคำเตือนเช่นนี้ คนอย่างทักษิณคงรับไม่ได้ เฉกเช่นบุชกับพวกที่ควบคุมอยู่ข้างหลังเขานั้นแล จึงไม่มีทางอื่น นอกเสียแต่ว่าเราต้องสร้างวัฒนธรรมแห่งการตื่น วัฒนธรรมแห่งการให้ และวัฒนธรรมแห่งสันติวิธีให้ได้ในหมู่มหาชน โดยเฉพาะก็เยาวชน โดยที่ทุกศาสนาต้องหาทางร่วมมือกันอย่างแท้จริง--------- สุลักษณ์ ศิวรักษ์บรรยายในการสัมมนาและประชุมประจำปีของชมรมคริสเตียนเพื่อการพัฒนาในประเทศไทย (cfdt) วันที่ ๓๐ มกราคม ๒๕๔๗ ณ ห้องประชุมพันธกิจการศึกษา สำนักงานพันธกิจการศึกษาของสภาคริสตจักร'"
      ]
     },
     "metadata": {},
     "output_type": "display_data"
    }
   ],
   "source": [
    "text = preprocessing(read_text(file_test[0]), wordlist2)\n",
    "display(text)"
   ]
  },
  {
   "cell_type": "code",
   "execution_count": 36,
   "metadata": {
    "ExecuteTime": {
     "end_time": "2019-07-01T04:29:15.463760Z",
     "start_time": "2019-07-01T04:29:05.844455Z"
    },
    "scrolled": true
   },
   "outputs": [
    {
     "name": "stdout",
     "output_type": "stream",
     "text": [
      "บท|วิจารณ์| |-| |จาก|มุมมอง|ทาง|จริยธรรม|ส.ศิวรักษ์| |:| |ศูนย์บันเทิง|ครบ|วงจร|ของ|รัฐบาล|ทักษิณ|สุลักษณ์| |ศิวรักษ์| |-| |นัก|วิชาการ|พุทธศาสนา|บทความ|นี้|ยาว|ประมาณ| |10| |หน้า|กระดาษ| |a|4|เผยแพร่|ครั้ง|แรก|บท|เว็ปมหาวิทยาลัย|เที่ยงคืน| |วัน|ที่| |31| |มกราคม| |2547|ผล|กระทบ|นโยบาย|ศูนย์|บันเทิง|ครบ|วงจร|ของ|รัฐบาล|ทักษิณ|ต่อ|การ|พัฒนา|แก้ไข|ปัญหา|ความ|ยากจน| |:| |จาก|มุมมอง|ทาง|จริยธรรม|-|๑|-|ประการ|แรก| |ขอ|ยืนยัน|ว่า|มุมมอง|หรือ|ทัศนะ|ทาง|จริยธรรม|นั้น| |ไม่|ได้|อยู่|ใน|สายตา|ของ|นายก|รัฐมนตรี|ทักษิณ| ชินวัตร|เอา|เลย| |แม้|เขา|จะ|อ้าง|ว่า|เป็น|พุทธศาสนิก| |นั่น|เป็น|คำ|ลวง| |ที่|เขา|หลอก|ตน|เอง|และ|มหาชน| |จน|เขา|เอง|ก็|เชื่อ|ตาม|คำ|ลวง|ของ|เขา| |นัก|การ|เมือง| |นัก|การ|ค้า|และ|นัก|โฆษณา|ชวน|เชื่อ|ทั้งหลาย| |ชอบ|ใช้|ถ้อยคำ|ที่|เป็น|มุสาวาท|อยู่|เนืองนิตย์|จน|เชื่อ|ใน|ถ้อยคำ|นั้น|ๆ|เอา|เลย| |ดัง|คน|ที่|คุ้น|อยู่|กับ|ความ|รุนแรง| |ย่อม|ยาก|ที่|จะ|เข้าใจ|ได้|ใน|หนทาง|ของ|สันติภาวะ| |หรือ|คน|ที่|คุ้นอยู่|กับ|ความ|โลภ| |ย่อม|ยาก|ที่|จะ|เข้าใจ|ได้|ใน|เรื่อง|ของ|สัน|โดษ|พระภิกษุรูป|หนึ่ง|เขียน|บทความ|ลง|มติ|ชน| |ราย|วัน| |ฉบับ|วัน|ที่| |๔| |ธันวาคม| |๒๕๔๖| |อย่าง|น่า|รับฟัง|มาก| |หาก|ไม่|มี|ปฏิกิริยา|ใด|ๆ|จาก|คน|ใน|รัฐบาล|ปัจจุบัน|เอา|เลย| |จึง|ขอ|นำ|เอา|มา|อ่าน|ให้|ฟัง|กัน|ดัง|ต่อ|ไป|นี้|พ.ต.ท.ทักษิณ| ชินวัตร| |นั้น|ประสบ|ความ|สำเร็จ|อย่าง|สูง|ตาม|กรอบ|คิด|และ|ทฤษฎี|เศรษฐศาสตร์|ทุนนิยม| |พิสูจน์|ได้|จาก|ผล|ประกอบ|การ|และ|โครงสร้าง|ของ|กำไร|กิจการ|ที่|ท่าน|ริเริ่ม| |ก่อตั้ง| |และ|บริหาร| |ก่อน|การ|เข้า|รับ|ตำแหน่ง|หรือ|แสดง|บทบาท|ทาง|การ|เมือง| |กระทั่ง|สามารถ|ใช้|ความ|สำเร็จ| |เหล่า|นั้น| |เป็น|บาท|ฐาน|เข้า|ยึด|กุม|อำนาจ|รัฐ|ด้วย|กลไก|การ|เลือกตั้ง|สำเร็จ|ใน|ที่สุด|อาจ|นับ|ได้|ว่า| |นี่|เป็น|ประวัติศาสตร์|ความ|สำเร็จ|ของ|ฝ่าย|ทุน| |ที่|รวดเร็ว|และ|เบ็ดเสร็จ|เด็ดขาด|ยิ่ง| |โดย|ที่|มิ|ได้|ใช้|กลไก|กอง|ทัพ| |ระบบ|ราชการ| |หรือ|ทำ|การ|ปฏิวัติ|-|รัฐประหาร| |แต่|อย่างใด|คง|ปฏิเสธ|ได้|ยาก| |ว่า|อำนาจ|เบ็ดเสร็จ|เด็ดขาด|ทั้ง|ทาง|ตรง|และ|ทาง|อ้อม| |ผ่าน|กลไก|ต่างๆ| |ของ| |พ.ต.ท.ทักษิณ| ชินวัตร| |นั้น| |ณ| |วินาที|นี้| |ตลอดจน|ที่|จะ|เกิด|ขึ้น|หลัง|จาก|การ|เลือกตั้ง|ใน|อนาคต|อัน|ใกล้| |ยัง|ไม่|มี|นายก|รัฐมนตรี|จาก|การ|เลือกตั้ง|คน|ใด|เคย|มี|หรือ|ทำได้|มาก่อน|ความ|สำเร็จ|ทาง|ธุรกิจ|ด้วย|ระยะ|เวลา|อัน|สั้น| |จน|สามารถ|มี|ทุน|ทรัพย์|ระดับ|หลาย|หมื่น|หลาย|แสน|ล้าน|บาท| |ด้วย|ระยะ|เวลา|เพียง|สอง|ทศวรรษ|เศษ| |ใน|ระบบ|ทุนนิยม| |อาจ|ถือ|ได้|ว่า|เป็น|เรื่อง| |\"|ความ|สามารถ|\"| |ใน|การ|แสวงหา|กำไร|สูง|สุด|แต่|ต้อง|ไม่|ลืม|ว่า| |\"|กำไร|สูง|สุด|\"| |นั้น| |แม้|จะ|ถูก|กฎหมาย| |(|หรือ|กฎหมาย|ยัง|เอา|ผิด|ไม่|ได้|?|)| |ก็|มิ|ใช่|จะ|หมาย|ความ|ว่า|กระทำ|ไป|ใน|ทิศทาง|เดียว|กับ| |\"|ทำนอง|คลองธรรม|\"|บ่อย|ครั้ง|ที่|ความ|สำเร็จ|ทาง|ธุรกิจ|การ|ค้า|แบบ|สัมปทาน|ผูกขาด| |หรือ|ซื้อ|ถูก|มาก|-|ขาย|แพง|มาก| |จะ|มี|ลักษณะ|มิจฉา|อาชีวะ| |คือ|การ|เลี้ยง|ชีพ|ผิด| |หา|เลี้ยงชีพ|ใน|ทาง|ทุจริต| |ผิด|วินัย| |หรือ|ผิด|ศีลธรรม|อยู่|เสมอ|กล่าว|กัน|มา|แม้|ใน|ชาด|กว่า| |ความ|สำเร็จ|อัน|รวดเร็ว|และ|ยิ่งใหญ่| |เมื่อ|ผสาน|เข้า|กับ|อำนาจ|เบ็ดเสร็จ|เด็ดขาด|ด้วย|แล้ว| |หาก|ผู้|นั้น|ไม่|มี|ธรรม| |ไม่|มี|การ|เจริญ|สติ| |หรือ|มี|การ|ภาวนา|เพียงพอ| |ก็|ง่าย|ที่|จะ|เกิด|ความ|สำคัญ|มั่น|หมาย|ใน|ตน| |ด้วย|อหังการ|-|มมังการ| |มี|มิ|จฉาทิฐิ| |นำ|พา|ตน|เอง|และ|พวก|พ้อง|ออก|นอก|ลู่|นอก|ทาง|ธรรมยิ่ง|ๆ| |ขึ้น|ประวัติศาสตร์|อินเดีย| |หรือ|แม้|ใน|พระไตรปิฎก|จึง|กล่าว|ไว้|ว่า| |\"|เศรษฐี|\"| |ครั้ง|พุทธกาล|นั้น| |ต้อง|ประกาศ|และ|ผ่าน|การ|รับรอง|จาก|สมาชิก|ใน|ชุมชน| |ว่า|เป็น| |\"|คน|ดี|\"| |เพื่อ|มิ|ให้|คน|ชั่ว|หยาบแอบ|แฝง|เข้า|มา|ใช้| |\"|วิชา|มาร|\"| |ช่วง|ชิง|พื้นที่|และ|สิทธิ|ของ|สมาชิก|อื่น|นายก|รัฐมนตรี|คน|ปัจจุบัน|กล่าว|ด้วย|ความ|ภาคภูมิใจ|อยู่|เสมอ|ว่า| |ตน|เชื่อมั่น|ใน|ตัว|เอง| |เป็น|คน| |\"|คิด|นอก|กรอบ|\"| |พร้อม|ที่|จะ|หา| |\"|ลู่ทาง|ใหม่|ๆ|\"| |มา|แก้|ปัญหา|หลาย|ครั้ง|ที่| |พ.ต.ท.ทักษิณ| ชินวัตร| |กล่าว|กับ|สื่อ|มวล|ชน| |หรือ|กับ|ผู้|ฟัง|กลุ่ม|อื่น|ๆ| |ทำนอง|ว่า| |\"|กฎหมาย|นั้น|เป็น|เพียง|เครื่องมือ| |มี|ได้|ก็|แก้ได้| |เพื่อ|เป้าหมาย|ที่|วาง|ไว้|\"|จะ|ว่า|ไป|แล้ว| |ความ|ข้อ|นี้|ไม่|ใช่|เรื่อง|แปลก| |โดย|เฉพาะ|อย่าง|ยิ่ง| |หาก|เรา|หลงลืม|คำ|กล่าว|ที่|ว่า| |\"|กฎหมาย|ออก|โดย|ชน|ชั้น|ใด| |ย่อม|รับ|ใช้|ชน|ชั้นนั้น|\"|แต่|ตรรกะ|เช่น|นี้|ไม่|สามารถ|ใช้|ได้|กับ| |\"|หลัก|ศาสนธรรม|\"| |หรือ|เนื้อ|แท้|ใน|พระธรรม|คำ|สอน|ของ|ทุก|ศาสนา| |ยิ่ง|กับ| |\"|หลัก|ศีลธรรม|-|จริยธรรม|\"| |อัน|เป็น|แก่น|แกน|ของ|วิถี|แห่ง|ความ|สงบ|ร่ม|เย็น|ของ|มนุษยชาติ|ด้วย|แล้ว| |แม้|ว่า|ถึง|ที่สุด|สิ่ง|ผิด|กฎหมาย|จะ|ได้|รับ|การ|แก้|กฎหมาย|ให้|กลับ|เป็น|ถูกต้อง| |ก็|มิ|ใช่|จะ|ถูก|ทำนอง|คลองธรรมเสมอ|ไป|กรณี| |\"|หวย|รัฐ|\"| |หรือ|การ|จะ|ให้|มี|แหล่ง|บันเทิง|ครบ|วงจร|ซึ่ง|มี|บ่อน|การ|พนัน|อยู่|ใน|นั้น| |เป็นตัว|อย่าง|ที่|ชัดเจน|ที่สุด|ใน|ขณะ|นี้| |กล่าว|คือ| |แม้|รัฐบาล|จะ|ใช้|อำนาจ|บริหาร| |พรรค|รัฐบาล|ใช้|เสียง|ข้าง|มาก|ใน|สภา|มา|เปลี่ยน|ดำเป็น|ขาว| |เปลี่ยน|ผิด| |(|กฎหมาย|)| |ให้|เป็น|ถูก|ได้|ตาม|อำเภอใจ| |แต่|รัฐบาล|หรือ| |นายก|รัฐมนตรี|ก็|ไม่|สามารถ|เปลี่ยน|กฎ|ศีลธรรม| |หรือ|เปลี่ยน|หลัก|ธรรม|คำ|สอน|ได้| |ไม่ว่า|จะ|ใช้|ทฤษฎี| |\"|คิด|นอก|กรอบ|\"| |หรือ| |\"|กฎหมาย|ออก|ได้| |ก็|แก้ได้|\"| |หรือ|ทฤษฎี| |\"|กำไร|สูง|สุด| |คือ|คำ|ตอบ|สุดท้าย|\"| |หรือ|ข้อ|อ้าง|อะไร|อื่น| |ๆ| |ก็|ตาม|และ|ไม่ว่า|จะ|เอา|กำไร| |\"|บาง|ส่วน|\"| |มา|แจกจ่าย|คน|จน| |หรือ|มี|เทคนิค|ทาง|การ|เมือง|ใด|ๆ| |มากำราบ| |หรือ|กดดัน|ผู้|ไม่|เห็น|ด้วย| |แต่|ถึง|ที่สุด|แล้ว| |หาก|ผู้|มี|อำนาจ|มี|มโนธรรม|สำนึก| |ก็|มิ|อาจ|ปฏิเสธ|ได้|ว่า| |ตน|กำลัง|มอม|เมา|ประชาชน|ใน|อาณัติ| |และ|ใช้|อำนาจ|เหยียบย่ำ|ทำลาย|ศีลธรรม|อันดี|ของ|ประชาชน|เสีย|เอง|มิพัก|จะ|ต้อง|กล่าว|ว่า| |โดย|ทฤษฎี|รัฐศาสตร์|และ|เศรษฐศาสตร์|อัน|ยั่งยืน|นั้น| |การ|มอม|เมา|ให้|ผู้|ด้อย|อำนาจ|ทาง|เศรษฐกิจ| |ผู้|ใช้|แรงงาน|หรือ|คน|ยาก|คน|จน| |ซึ่ง|มัก|เป็น|ลูก|ค้า|ราย|ใหญ่|ของ|อบายมุข| |ใน|ระยะ|ยาว|ย่อม|ไม่|เป็น|ผล|ดี|ต่อ|เศรษฐกิจ|การ|เมือง|โดย|รวม|ของ|ประเทศ|ใน|อนาคต|จะ|เกิด|อะไร|ขึ้น|กับ|ประเทศชาติ| |พระศาสนา| |และ|ประชาชน| |อาจ|คาดเดา|ได้|ไม่|ยาก|นัก| |หาก|รัฐ|และ|ผู้|นำ|รัฐมุ่ง|ถือ|เอา|ผล|ประโยชน์|ทาง|การ|เมือง|ใน|ระยะ|สั้น|เป็น|ที่|ตั้ง| |มุ่ง|นำ|พา|อาณาประชาราษฎร์|ไป|สู่|ระบบ|ทุนนิยม| |บริโภค|นิยม| |ที่|คน|จำนวน|น้อย|ใช้|ความ|ได้|เปรียบ|ตักตวง| |\"|กำไร|สูง|สุด|\"| |แต่|ฝ่าย|เดียว|มิ|หนำซ้ำ| |ยัง|หลอกล่อ|ให้|คน|ด้อย|โอกาส|มัวเมา|อยู่|กับ| |\"|ช่องทาง|แห่ง|ความ|เสื่อม|\"| |คือ| |\"|อบายมุข|\"| |ประเภท|ต่างๆ| |อยู่|ซ้ำแล้วซ้ำเล่า|พ.ต.ท.ทักษิณ| ชินวัตร| |เคย|กล่าวหลาย|ครั้ง| |ว่า|ตน|เอง|เป็น|พุทธศาสนิกชน| |มิหนำซ้ำ| |ยัง|ศึกษา|พระธรรม|คำ|สอน|ของ|พระพุทธองค์| |ตลอดจน|พระเถรานุเถระร่วม|สมัย|อยู่|มิ|ได้|ขาด| |เชื่อ|ได้|ว่า| |หาก|มี|เวลา|ที่|จะ|ยั้ง|คิด| |ได้|ใช้|สติปัญญา|ที่|มี|อยู่| |โดย|มี|ธรรมะ|เป็น|ดั่ง|เครื่อง|มือ|ทำลาย|อวิชชา| |ตลอดจน|รับฟัง|คำ|ท้วง|ติง|ของ|กัลยาณมิตร|ให้|มาก|ขึ้น|แล้ว| |ความ|ตั้งใจ|ที่|ดี|ย่อม|ช่วย|ให้|เห็น|เป้าหมาย|ถูกต้อง|ได้|ใน|ที่สุด|\"|ช่องทาง|แห่ง|ความ|เสื่อม|\"| |นั้น|ประกอบ|ไป|ด้วย| |๑|)| |ติด|สุรา|และ|ของ|มึนเมา| |๒|)| |ชอบ|เที่ยว|กลาง|คืน| |๓|)| |ชอบ|เที่ยว|ดู|การ|ละเล่น| |๔|)| |เล่น|การ|พนัน| |๕|)| |คบคน|ชั่ว|เป็น|มิตร| |๖|)| |เกียจคร้าน|การงาน| |เชื่อ|ว่า|การ|ที่| |พ.ต.ท.ทักษิณ| ชินวัตร| |ประสบ|ความ|สำเร็จ|มา|ได้|ถึง|ขนาด|นี้| |ก็|ย่อม|จะ|ปฏิเสธ|และ|หลีกหนี|ทั้ง| |๖| |ข้อ| |อยู่|เป็น|ปกติ|จึง|ได้|แต่|หวัง|ว่า| |การ|ที่|ประชาชน|ลง|คะแนน|เลือกตั้ง|ท่าน|และ|คณะ| |ทั้ง|ที่|ผ่าน|มา|และ|กำลัง|จะ|เกิด|ขึ้น| |ถึง|ที่สุด|แล้ว|จะ|ไม่|เป็น|ไป|ตาม| |\"|อบายมุข|\"| |ข้อ|ที่| |๕| |คือ| |การ|คบคน|ชั่ว|เป็น|มิตร| |ใน|บั้นปลาย|...|ขอ|เน้น|ที่|สอง|วรรค|ข้าง|บน| |ดัง|จะ|เอา|มา|อ่าน|ให้|ฟัง|อีก|ครั้ง| |คือ|\\|(|๑|)| |หลาย|ครั้ง|ที่| |พ.ต.ท.ทักษิณ| ชินวัตร| |กล่าว|กับ|สื่อ|มวล|ชน| |หรือ|กับ|ผู้|ฟัง|กลุ่ม|อื่น|ๆ| |ทำนอง|ว่า| |\"|กฎหมาย|นั้น|เป็น|เพียง|เครื่องมือ| |มี|ได้|ก็|แก้ได้| |เพื่อ|เป้าหมาย|ที่|วาง|ไว้|\"|ความ|ข้อ|นี้| |ทำ|ให้|นึก|ถึง|คำ|ของ|มา|ยเยอร์| |แอมแชล| |รอตส์|ไชลด์| |ผู้|ตั้ง|จักรวรรดิ|ทาง|ด้าน|ทุน|ของ|เครือข่าย|ใน|สกุล|ของ|ตน|ขึ้น| |ก่อน|สกุล|ชินวัตร|หลาย|ร้อย|ปี| |เขา|กล่าว|ว่า| |\"|ขอ|ให้|ฉัน|ได้|คุม|ระบบ|เงิน|ตรา|ของ|ประเทศ|ใด|ก็|ได้| |ส่วน|ใคร|จะ|ออก|กฎหมาย|ใน|ประเทศ|นั้น| |ไม่|สำคัญ|ดอก|\"| |กล่าว|คือ| |ถ้า|เรา|ถือ|กุญแจ|ที่|คุม|อาหาร|อย่าง|สำคัญ|ไว้|ได้|แล้ว|ไซร้| |นั่น|คือ|การ|วาง|ระบบ|โครงสร้าง|ทาง|ด้าน|การ|เป็น|เจ้าของ|ทรัพย์สมบัติ|ต่างๆ|ขึ้น|มา|ทันที| |โดย|ที่|คน|ส่วน|ใหญ่|ไม่|รู้|เสีย|ด้วยซ้ำ|ว่า|แม้|จน|บัด|นี้|แล้ว| |ราคา|ทอง|คำ|ที่|ขึ้น|ลง|กัน|ทุก|วัน|นี้|นั้น| |ตัดสิน|กัน|ที่|บริษัท|รอดส์|ไชลด์| |ใน|กรุงลอนดอน|ใน|กรณี|ของ|ทักษิณ| |เขา|ไม่|แต่|ควบคุม|ระบบ|ของ|เงิน|ตรา|อยู่|เบื้องหลัง|การ|คุม|อำนาจ| |หาก|เขา|ยังคุม|สื่อสาร|มวล|ชน|กระแส|หลัก|อีก|ด้วย| |ดัง|ที่|เขา|อ้าง|ว่า|เขา|ยินดี|รับฟัง|ประชามติ|ที่|จะ|ให้|มหาชน|ตัดสินใน|เรื่อง|นโยบาย|ศูนย์บันเทิง|ครบ|วงจร| |ที่|เน้น|ทาง|ด้าน|การ|พนัน|อย่าง|ถูก|กฎหมาย|นั้น| |เขา|ย่อม|รู้|ดี|อยู่แล้ว| |ว่า|เขา|ปั่นประชามติ|ได้| |ดัง|ที่|เขา|ปั่น|การ|เลือกตั้ง|ให้|เขา|คุม|รัฐ|สภา|อยู่|อย่าง|เกือบ|เบ็ดเสร็จ|ก็|ยัง|ได้| |มิ|ใย|ว่า|วุฒิสภา|นั้น| |ตาม|เจตจำนง|ของ|รัฐธรรมนูญ| |ต้องการ|ให้|ปลอด|ไป|จาก|การ|ควบคุม|ของ|พรรค|การ|เมือง|หนึ่ง|ใด|ก็ตาม| |แต่|ถ้า|ทักษิณ|ต้องการ|ฟัง|เสียง|มหาชน|จริง|ๆ| |เขา|ก็|ย่อม|รู้|ดี|ว่า| |กรรมการ|ของ|สภาที่|ปรึกษา|เศรษฐกิจ|และ|สังคม|แห่งชาติ|นั้น| |มา|จาก|การ|เลือกตั้ง| |และ|สมาชิก|ส่วน|ใหญ่|ของ|สภานี้|ไม่|เห็น|ด้วย|กับ|ทัศนะ|ของ|เขา| |โดย|เฉพาะ|ก็|ใน|เรื่อง|นโยบาย|ศูนย์บันเทิง|ครบ|วงจร|(|๒|)| |พระภิกษุ|ผู้|เขียน|บทความ|ที่|ยก|มา|อ่าน|ให้|ฟัง|นั้น| |คัดค้าน|ว่า|นโยบาย|ของ|นายก|รัฐมนตรี|ใน|เรื่อง|นี้|ไม่|สามารถ|ใช้|ได้|กับ| |\"|หลัก|ศาสนธรรม|\"| |หรือ|เนื้อ|แท้|ใน|พระธรรม|คำ|สอน|ของ|ทุก|ศาสนา| |ยิ่ง|กับ| |\"|หลัก|ศีลธรรม|-|จริยธรรม|\"| |อัน|เป็น|แก่น|แกน|ของ|วิถี|แห่ง|ความ|สงบ|ร่ม|เย็น|ของ|มนุษยชาติ|ด้วย|แล้ว| |แม้|ว่า|ถึง|ที่สุด|สิ่ง|ผิด|กฎหมาย|จะ|ได้|รับ|การ|แก้|กฎหมาย|ให้|กลับ|เป็น|ถูกต้อง| |ก็|มิ|ใช่|จะ|ถูก|ทำนอง|คลองธรรมเสมอ|ไป|ความ|ข้อ|นี้|ทักษิณ|ไม่|สนใจ|เอา|เลย| |เขา|ฉลาด|พอ|ๆ|กับ|มิ|คา|อาเวลลี| |หรือ|อย่าง|น้อย|ก็|ไม่|อับอาย|ที่|จะ|เดิน|ตาม|กระแส|ของ|หมอนั่น| |ที่|เห็น|ว่า|เศรษฐกิจ|และ|การ|เมือง|นั้น| |จะ|ไย|ไพ|ไป|ทำไม|กัน|กับ|คำ|สั่งสอน|ทาง|ศาสนธรรม|หรือ|จริยธรรม| |ศีลธรรม|และ|ศาสนธรรม|มี|ไว้|ให้|เรา|อ้าง|ใน|การ|มอม|เมา|ประชาชน|ต่างหาก| |ไม่|ได้|มี|ไว้|ให้|เรา|ประพฤติ|ปฏิบัติ|-|๒|-|ขอ|ให้|สังเกต|ได้|ว่า|นโยบาย|ใน|เรื่อง|นี้| |นายก|รัฐมนตรี|ใช้|ภาษา|อังกฤษ|เป็น|สื่อ|และ|ยก|ตัวอย่าง|จาก|ต่าง|ประเทศ|เป็น|ประการ|สำคัญ| |ดัง|คำ|ของ|เขา|ว่า|ลักษณะ|ของ|กาสิโนดัง|กล่าว| |จะ|เป็น|คอมเพล็กซ์| |เอ็นเตอร์|เทนเมนท์| |จะ|ไม่|ใช่|ลักษณะ|การ|ให้|ใบ|อนุญาต|ไป|เปิด|กาสิโน| |เพราะ|จะ|ดู|ไม่|ดี| |โดย|เอกชน|จะ|เป็น|ผู้|ลง|ทุน| |เนื่อง|จาก|รัฐบาล|ไม่|มี|ความ|ชำนาญ| |และ|จะ|ทำ|คล้าย|กับ|ลา|สเวกัส| |ที่|สหรัฐอเมริกา| |หรือ|คราว|น์| |ที่|ออสเตรเลีย| |เกนติ้ง| |ที่|มา|เลเซีย| |หรือ|ที่|ซัน|ชิตี้| |ซึ่ง|ราย|ได้|ส่วน|ใหญ่|จะ|มา|จาก|ภาค|บันเทิง| |เอ็นเตอร์|เทนเมนท์| |และ|การ|ขาย|สินค้า|ประมาณ| |๗๐|%| |โดย|มี|ราย|ได้|จาก|กาสิโน|เพียง| |๓๐|%| |กาสิโน|จะ|ไม่|ใช่|เรื่อง|หลัก| |เป็น|เพียง|ตัว|ประกอบ|เท่า|นั้น|ประโยค|หลัง|เป็น|คำ|ลวง| |ที่|ว่า|การ|พนัน|ไม่|ใช่|ประเด็น|หลัก| |หาก|การ|ขาย|สินค้า|สำคัญ|กว่า| |ตาม|ความ|เป็น|จริง|แล้ว| |มี|บ่อน|ที่|ไหน|บ้าง| |ที่|ถือ|การ|พนัน|เป็น|ตัว|รอง|โดย|ที่|ความ|คิด|ทั้งหมด|ของ|ทักษิณ|นั้น| |เป็น|ไป|ใน|กระแส|หลัก|ของ|จักรวรรดินิยม|อเมริกัน| |ที่|เน้น|ไป|ใน|ทาง|ความ|รุนแรง| |เช่น|การ|โจมตี|และ|ยึดครอง|อาฟกานิสถาน| |และ| |อิรัก| |ดัง|ที่|ไทย|ก็|ส่ง|ทหาร|ไป|ร่วม|ตาย|ด้วย|ที่|นั่น| |เพื่อ|แสดง|ว่า|ไทย|แลนด์|เดิน|ตาม|พี่|เบิ้ม|อย่าง|เซื่อง|ๆ| |อย่าง|หมด|ศักดิ์ศรี| |ดัง|ที่|เดิน|ตาม|จีน| |แม้|จน|องค์|ทะไลลามะ|ก็|ไม่|ยอม|ให้|เข้า|ราชอาณาจักร| |ซึ่ง|มี|องค์|พระประมุข|เป็น|พุทธมามกะและ|เอกอัครศาสนูปถัมภก| |โดย|คน|ส่วน|ใหญ่|ก็|นับถือ|พระพุทธศาสนา|ทั้งนี้|ก็|เพราะ|สหรัฐอเมริกา|และ|จีน|เป็น|ยักษ์ใหญ่|ใน|ทาง|เศรษฐกิจ| |ซึ่ง|ผูก|สนิท|กับ|ชินคอ|ป| |และ|ให้|ประโยชน์|กับ|ชินคอ|ป| |ยิ่ง|กว่า|กับ|ประเทศไทย| |ดัง|ที่|รัฐบาล|ไทย|เข้า|ไป|เอาใจ|เผด็จการ|ทหาร|พม่า| |อย่าง|ปราศจาก|จุดยืน|ทาง|จริยธรรม|หรือ|สิทธิ|มนุษยชน| |ก็|เพื่อ|หวัง|ผล|ประโยชน์|ให้|กับ|บริษัท|ใน|เครือของ|สกุล|ชินวัตร| |ยิ่ง|กว่า|จะ|เห็น|ประโยชน์|ของ|ประเทศชาติ|หรือ|ราษฎร|ชาว|สยาม|นั้น|แล| |โดย|ที่|รัฐบาล|ใช้|งบ|ประมาณ|จาก|ภาษี|อากร|ของ|ราษฎร|ไป|อย่าง|สาด|เสีย|เนื่อง|ใน|การ|ประชุม| |apec| |เมื่อ|เร็ว|ๆ|นี้|นั้น| |ผลได้|ใน|ทาง|คุณ|ประโยชน์|ของ|บ้านเมือง|ก็|แทบ|ไม่|มี|เลย| |หาก|สร้าง|ฐาน|ทาง|อำนาจ|เศรษฐกิจ|ให้|เครือของ|บริษัท|ใน|สกุล|ชินวัตร|ได้|แผ่กระจาย|ออก|ไป| |ไม่|แต่|ใน|ภูมิภาค|นี้| |หาก|ยัง|กระจาย|ไป|ยัง|ภูมิภาค|อื่น|ๆ|ใน|โลก|อีก|ด้วย| |โดย|ที่|บรรษัท|ข้าม|ชาติ|อย่าง|เจริญโภคภัณฑ์|นั้น|ก็|สัมพันธ์|กัน|อย่าง|ใกล้ชิด|ยิ่ง|นัก|กับ|พวก|ชินวัตร| |จน|ลูก|เขย|ใน|สกุล|นั้น|เข้า|มา|เป็น|รัฐมนตรี|เอา|เลย|ด้วยซ้ำ|การ|ที่|รัฐบาล|อ้าง|ว่า|จะ|เอา|ราย|ได้|จาก|การ|พนัน|ไป|ใช้|ประโยชน์|ทาง|การ|กุศล|นั้น| |นายก|รัฐมนตรี|ไม่|รู้|เอา|เลย|หรือ|ว่า| |วัด|คณิกาผล| |ที่|ยาย|แฟง|แก|เอา|เงิน|ที่|แก|เก็บ|ค่า|หัว|จาก|โสเภณี| |หรือ|นางคณิกา| |มา|สร้าง|วัด|นั้น| |วัด|ดัง|กล่าว|ยัง|เป็น|อนุสาวรีย์|ที่|ขาย|ความ|อาย|ให้|แก|อยู่|จน|ทุก|วัน|นี้| |ยัง|เด็ก|ที่|ได้|รับ|ทุน|การ|ศึกษา|จาก|การ|พนัน|นั้น| |เขา|จะ|มี|ความ|ภูมิใจ|ละหรือ| |หรือ|ว่า|นี่|เป็น|การ|สร้าง|ให้|เยาวชน|เห็น|คุณค่า|ว่า|มิจฉา|อาชีวะ| |ก็|ไม่|เป็น|ไร| |ขอ|ให้|ได้|ไต่|เต้า|ไป|ใน|ทาง|เศรษฐกิจ| |สังคม| |และ|การ|เมือง| |เป็น|ใช้|ได้|ดัง|ให้|ดู|ตัวอย่าง|ได้|จาก|คน|อย่าง|ทักษิณ| ชินวัตร| |ก็|ยัง|ได้| |โดย|ที่|ก่อนหน้า|นี้| |เรา|ก็|มี|สฤษดิ์| |ธนะรัชต์| |และ|เผ่า| |ศรียานนท์|มา|แล้ว| |โดย|ที่|บุคคล|ทั้ง|สอง|นี้|มี|อนุสาวรีย์|ที่|ทำ|ด้วย|ทอง|ผสม|ไว้|ขาย|ความ|อาย|เอา|ไว้|ทั้ง|คู่|เช่น|กัน| |หรือ|อนุสาวรีย์|อัน|อุจาด|นี้| |ไม่|เห็น|เป็น|ข้อ|เสียหาย| |ดัง|ต่อเมื่อ|ทาง|ด่วน|ที่|สร้าง|ค้าง|ไว้| |คน|ที่|กิน|สินบน|ใน|เรื่อง|นี้|ก็|ไม่|รู้สึก|อับอาย| |ตาย|แล้ว|ยัง|ได้|เข้า|โกศ| |คน|ส่วน|ใหญ่|ก็|ไม่|นำ|พา| |คือ|เรา|ช่วย|กัน|สำทับ|ให้|เห็น|กงจักร|เป็น|ดอก|บัว| |ให้|ไม่|จำ|ต้อง|เห็น|พลัง|ของ|สัจจะ| |ของ|ธรรมะ| |หรือ|ความ|อยุติธรรม|ใน|สังคม|ทักษิณ|ไม่|สำเหนียก|เลย|หรือ|ว่า|ลา|สเวกัส| |เป็น|สัญลักษณ์|แห่ง|ความ|อัปยศ|ของ|สหรัฐ| |เฉกเช่น| |คราว|น์|ที่|ออสเตรเลีย| |และ|เกนติ้ง|ที่|มา|เลเซีย|นั้น|เอง| |มิ|ใย|ต้อง|เอ่ย|ถึง|บ่อน|ทาง|ชาย|แดน|ของ|เรา| |ที่|ล้ำเข้า|ไป|ใน|กัมพูชา| |และ|พม่า| |โดย|ที่|นัก|การ|เมือง|ของ|เรา|ก็|เข้า|ไป|มี|เอี่ยว|อยู่|ด้วย|กัน|แทบ|ทั้งนั้น| |อย่าง|ปราศจาก|หิริโอตตัปปะ|ใด|ๆ|ทั้งสิ้น|ถ้า|ทักษิณ|หรือ|คน|รอบ|ตัว|เขา|จะ|สำเหนียก|สัก|นิด| |เขา|น่า|จะ|ฟัง|คำ|ของ|ศาสตราจารย์โยฮัน |กัลตุง| |แห่ง|นอรเวย์| |ซึ่ง|เตือน|สาธุชนว่า|อำนาจ|นิยม|และ|ทุนนิยม|ที่|สหรัฐ|เป็น|ใหญ่|อยู่|ใน|เวลา|นี้| |จะ|มี|อายุ|ยืน|นาน|ไป|ได้|อีก|เพียง| |๒| |ทศวรรษ|เท่า|นั้น| |ดัง|จักรวรรดิ|อังกฤษ|เอง|ล่ม|จม|มา|แต่|สิ้นสงคราม|โลก|ครั้ง|ที่| |๑| |แล้ว| |หาก|มา|ฟุบ|แฟบ|อย่าง|ไม่|ฟื้น|ภาย|หลัง|สงคราม|โลก|ครั้ง|ที่| |๒| |ดัง|จะ|เห็น|ได้|ว่า|นายก|รัฐมนตรี|อังกฤษ|คน|ปัจจุบัน|เป็น|ดัง|สุนัข|รับ|ใช้|ของ|นายบุช|เอา|เลย|ก็|ว่า|ได้| |แล้ว|ทักษิณ|ต้องการ|เป็น|เช่น|นั้น|ด้วย|ละหรือ|เขา|เอง|ไม่|เห็น|ละ|หรือ|ว่า| |เวรนั้น|ระงับ|ไม่|ได้|ด้วย|การ|จอง|เวร| |โภค|ทรัพย์|และ|ความ|อยู่|ดีกินดี|ของ|ราษฎร|เป็น|ไป|ไม่|ได้|จาก|มิ|จฉา|อาชีวะ|และ|การ|พนัน| |แม้|จะ|เลี่ยง|ไป|เรียก|ว่า| |การ|บันเทิง|ครบ|วงจร|ก็ตาม| |หาก|วงจร|ที่|ว่า|นี้|เป็น|วัฏ|สงสาร|แห่ง|ความ|ทุกข์| |ถ้า|ใคร|เป็น|พุทธศาสนิก| |ควร|จะ|รู้|ว่า|เป้าหมาย|ของ|เรา|อยู่|ที่|การ|ออก|จาก|วงวัฏ|ดัง|กล่าว| |เพื่อ|ความ|เย็น| |เพื่อ|ความ|สงบ| |เพื่อ|ความ|สุข|ที่|แท้| |ไม่|ใช่|ความ|สุข|ที่|หลอกลวง|และ|เลวร้าย|-|๓|-|ทักษิณ|และ|ที่|ปรึกษา|ของ|เขา| |ไม่|เคย|อ่าน|พระนิพนธ์|ของ|สมเด็จกรมพระยาดำรงราชานุภาพ|เสีย|เลย|หรือ| |โดย|เฉพาะ|ก็|ตำนาน|การ|เลิก|หวย|และ|บ่อน|เบี้ย| |ถ้า|นายก|รัฐมนตรี|มี|กำพืด|ทาง|ความ|เป็น|ไทย| |รู้|เรื่อง|อดีต|และ|ความ|เป็น|มา|ของ|บ้านเมือง| |แทน|ที่|จะ|เพียง|หลับ|ตา|เดิน|ตาม|ฝรั่ง| |ที่|อ้าง|ว่า|คือ|ความ|ทัน|สมัย| |ความ|ก้าวหน้า|และ|โลกาภิวัตน์|แล้ว|ไซร้| |เขา|ควร|ตระหนัก|ว่า| |ที่|เขา|จะ|เลือก|พื้นที่|หรือ|ภาค| |ให้|มี|บ่อน|กาสิโน| |หรือ|ศูนย์บันเทิง|ครบ|วงจร|นั้น| |ถ้า|เขา|รู้|อะไร|ๆ|ใน|ทาง|ประวัติศาสตร์|บ้าง| |เขา|น่า|จะ|ตระหนัก|ว่า|ใน|รัชกาล|พระเจ้าบรมโกศ| |แห่ง|กรุงศรีอยุธยา|นั้น| |ปรากฎ|ความ|ว่า| |ใน|ปี|พ.ศ.| |๒๒๙๙|ขุนทิพกับ|หมื่น|รุด|อักษร| |ยื่น|เรื่องราว|ให้|กราบบังคมทูล| |ขอ|ตั้ง|บ่อน|เบี้ย|ขึ้น|ใน|แขวงเมือง|ราชบุรี| |เมืองสมุทรสงคราม| |เมือง|สมุทรปราการ| |รับ|จะ|ประมูล|เงิน|หลวง|ขึ้น|เสมอ|ปี|ละ| |๓๗๑| |ชั่ง| |(|๒๙๖๘๐| |บาท|)| |ทรง|พระราชดำริ|ว่า| |หัวเมือง|ทั้ง| |๓| |นั้น| |เป็น|ที่|ใกล้|สวน|บาง|ช้าง| |อัน|เงิน|อากร|สวน|นั้น| |ขึ้น|พระคลัง|อยู่|เป็น|อัน|มาก| |และ|ได้|มี|กฎรับ|สั่ง|ห้าม|อยู่แต่|ก่อน| |ว่า|มิ|ให้|ตั้ง|บ่อน|เบี้ย|ใน|หัวเมือง|เหล่า|นั้น| |ซึ่ง|ผู้|มี|ชื่อ|มา|ยื่น|เรื่อง|ราว|ให้|กราบบังคมทูล|ดัง|นี้| |ผิด|อย่าง|ทำ|เนียม| |และ|จะ|กระทำ|ให้|ไพร่|ฟ้า|อาณาประชาราษฎร|ทั้ง|ปวง| |ได้|รับ|ความ|เดือดร้อน|ขัดสนต่อ|ไป| |จึง|มี|พระราชโองการ|สั่ง|แก่|ออก|ญารัตนาธิเบศร์| |ผู้|ว่าราชการ|ที่|สมุหมน|เทียรบาล| |ให้|เอา|ตัว|ผู้|กราบ|ทูล|ขอ|ประมูล| |ลง|พระราชอาญา|ถ้า|นายกรัฐมนตรี|จงรักภักดี|จริง| |ต่อ|ระบบ|การ|ปกครอง|ใน|ระบอบ|ประชาธิปไตย| |ที่|มี|พระมหากษัตริย์|เป็น|ประมุข| |ทำไม|ไม่|กราบบังคมทูล|พระกรุณา| |ขอรับฟัง|พระบรมราโชวาทบ้าง|เล่า| |เพราะ|ใน|ระบอบ|การ|ปกครอง|ดัง|กล่าว| |พระมหากษัตริย์|ทรง|อยู่|ใน|พระสถานะ|ที่|จะ| |\\|(|๑|)| |เตือน| |(|๒|)| |แนะนำ| |และ| |(|๓|)| |ห้าม|ปราม| |อย่าง|น้อย|ใน|สมัย|ปัจจุบัน|ทักษิณ| ชินวัตร| |ไม่|ถึง|กับ|ต้อง|ถูก|ลง|พระราชอาญา|ดอก| |และ|ถ้อยคำ|ของ|ขุน|หลวง|ใน|สมัย|กรุงเก่า|นั้น| |ล้า|สมัย|ไป|แล้ว|หรือ| |ที่|ว่า| |จะ|กระทำ|ให้|ไพร่ฟ้า|อาณาประชาราษฎร|ทั้ง|ปวง| |ได้|รับ|ความ|เดือดร้อน|ขัดสนต่อ|ไป|อนึ่ง| |ประกาศ|ของ|หอรัษฎากร|พิพัฒน์| |ใน|รัชกาล|ที่| |๕| |ก็|มี|ข้อความ|ที่|น่า|สนใจ|ยิ่ง|นัก| |จึง|ขอ|นำ|มา|อ่าน|ให้|ฟัง|ดัง|นี้|ทรง|พระกรุณา|โปรดเกล้า|ฯ|สั่ง|ว่า| |การ|เล่น|พนัน|ต่างๆ| |ซึ่ง|ชาว|สยาม|เคย|เล่น|เป็น|การ|สนุก| |และ|แข่งขัน|พนัน|กัน|ด้วย|ทรัพย์สมบัติ|พัสดุ|เงิน|ทอง|ต่างๆ|นั้น| |ที่|เป็น|การ|พนัน|ของ|ชาว|สยาม|แท้| |ก็|มี|แต่|วิ่ง|ม้า| |วิ่ง|วัว| |ชน|นก| |ชน|ไก่| |ชน|ปลา|และ|ไพ่|ต่างๆ| |เหล่า|นี้|เป็น|ต้น| |การ|เล่น|โป| |ถั่วนั้น| |เป็น|วิชา|พนัน|ของ|จีน| |พวก|จีน|พากัน|เข้า|มา|พึ่งพระบรมเดชานุภาพ| |อาศัย|ทำมา|หากิน|อยู่|ใน|กรุงสยาม| |ได้|ความ|ผาสุก| |หากิน|อยู่|ตาม|ภูมิลำเนา|แล้ว| |พา|กัน|ก่อ|การ|เล่น|โป|ถั่ว| |ซึ่ง|เป็น|วิชา|ถนัด|ของ|ตน|ขึ้น| |ชักชวน|คน|ไทย|ให้|หลง|ไป|ด้วย| |ทำ|ให้|เป็น|การ|เสียทรัพย์| |เสียเวลา| |เสีย|ประโยชน์| |การ|ค้า|ขาย| |และ|ทำ|ให้|สันดาน|หมกมุ่น|ไป|ใน|สิ่ง|ซึ่ง|หา|ประโยชน์|มิ|ได้| |เป็น|การ|ร้ายแรง|ยิ่ง|กว่า|การ|เล่น| |ซึ่ง|ชาว|สยาม|เคย|เล่น|กัน|มา| |เพราะ|ฉะนั้น| |โป| |ถั่ว| |วิชา|ของ|จีน|นี้| |เป็น|วิชา|อุปเท่ห์|ที่|มา|ชวน|คน|ไทย|ให้|เสีย|ประโยชน์|ที่|พูด|กัน|พล่อย|ๆ|ว่า|คน|ไทย|ชอบ|การ|พนัน|จน|เป็น|นิสัย|สันดาน|นั้น| |คน|พวก|นี้|มี|กำพืด|เดิม|เป็น|จีน| |หา|ไม่|ก็|นิยม|การ|พนัน|อย่าง|จีน| |ดัง|ที่|หันตาม|แฟชั่น|อย่าง|ฝรั่ง| |ใน|สมัย|หลัง|ๆ|นี้|เอง| |จน|หลาย|คน|ลืม|ความ|เป็น|ไทย|ไป|ได้|ง่าย|ๆ|แล้ว|กระมัง| |ยิ่ง|ตั้ง|ตัว|จน|ร่ำรวย|ขึ้น|จาก|มิจฉา|อาชีวะ|ด้วย|แล้ว| |จะ|เข้าใจ|เรื่อง|ทาน|เรื่อง|ศีลเรื่อง|ภาวนา| |ได้|อย่าง|ไร|กัน| |เพียง|แต่|ปาก|ก็|เพ้อ|ไป|กัน|เท่า|นั้น|เอง|อากร|หวย| |ก|.|ข.|แรก|ตั้ง|ขึ้น|ใน|เมืองไทย| |ใน|รัชกาล|ที่| |๓| |จาก|ความ|คิด|ของ|เจ๊สัว|หง| |เลิก|ได้|เบ็ดเสร็จ|ใน|รัชกาล|ที่| |๖| |มี|อายุ|เวลา|ทั้งหมด| |๘๑| |ปี| |นี่|เจ๊สัว|ตั๊ก| |หรือ|เจ๊สัว|ชิน|จะ|ให้|เริ่ม|ขึ้น|อีก|ละ|หรือ| |เพื่อ|จะ|ได้|ศรีวิไลอย่าง|สหรัฐ| |โดย|เขา|ลืม|ไป|ว่า|ที่|ใน|ประเทศ|นั้น|จำนวน|คน|อยู่|ใน|คุกรวม|กัน|แล้ว| |มาก|กว่า|ชาว|ไร่|ชาว|นา|คน|เล็ก|คน|น้อย|ที่|มี|อาชีพ|ทาง|เกษตรกรรม| |เขา|ต้องการ|ให้|บ้านเมือง|เรา|เป็น|เช่น|นั้น|ละ|หรือ| |โดย|ที่|บัด|นี้|บริษัท|เจริญโภคภัณฑ์|ก็|คุม|การ|ค้า|ไก่| |ค้า|สุกร| |และ|เมล็ด|พันธุ์|พืช|อย่าง|น่า|กลัว|เพียง|ใด|แล้ว|ก็ตาม| |โดย|ที่|ชาว|ไร่|ชาว|นา|ต่อ|แต่|นี้|ไป|อาจ|ต้อง|ซื้อ|เมล็ด|มา|ทำ|การ|เกษตร| |ผลไม้|ก็|มี|เมล็ด|ที่|ทำ|พันธุ์|ไม่|ได้| |ต้อง|ไป|ซื้อ|เมล็ด|พันธุ์|มา|จาก|บริษัท|อย่าง|เช่น|เจริญโภคภัณฑ์|ต่อ|ไป| |ชาว|ไร่|ชาว|นา|อาจ|ต้อง|ซื้อ|น้ำมา|ทำ|การ|เกษตร|เสียด้วยซ้ำ| |แล้ว|เจ๊สัว|ชิน|ยัง|จะ|เอา|นโยบาย|ศูนย์บันเทิง|ครบ|วงจร|มา|มอม|เมา|ประชาราษฎร|ให้|หมด|เนื้อ|ขาย|ตัว|ไป|ยิ่ง|กว่า|นี้|อีก|ละหรือ|ข้าพเจ้า|ขอ|อ่าน|พระนิพนธ์|ของ|สมเด็จกรมพระยาดำรงราชานุภาพ| |ใน|ตอน|สุดท้าย|ของ|ปาฐกถา|นี้|จะ|กล่าว|แถม|ท้าย|ถึง|คุณและ|โทษ|ของ|หวย| |และ|บ่อนเบี้ย|ต่อ|ไป|อีก|สัก|หน่อย| |อากร|ทั้ง|สอง|อย่าง|นั้น| |เป็น|การ|ทำ|ความ|ชั่ว|ก็|จริง| |แต่|ถ้า|จะ|ค้นหา|ข้อ|ที่|เป็น|คุณ| |ก็|มี|อยู่|บ้าง| |จะ|ว่า|แต่|ที่|เป็น|ข้อ|สำคัญ| |คือ| |ที่|เป็น|อุบาย|การ|เก็บ|ภาษี|จาก|ราษฎร|อย่าง|หมดจด| |(|ที่|ว่า|หมด|จด|นั้น| |ไม่|ได้|หมาย|ความ|ว่า| |ดี|)| |ถ้า|หาก|ว่า|ประสงค์|แต่|จะ|ให้|ได้|เงิน|เป็น|ประมาณ|แล้ว| |ไม่|มี|วิธี|เก็บ|ภาษา|อย่าง|อื่น|จะ|สะดวก|ยิ่ง|กว่า|อากร|หวย|และ|บ่อน|เบี้ย| |เพราะ|รัฐบาล|ไม่|ต้อง|ตั้ง|พิกัด|อัตรา|เรียก|เร่งรบกวน|ให้|ราษฎร|บ่น|ว่า|เดือดร้อน| |ราษฎร|ก็|พา|กัน|สมัคร|หา|เงิน|มา|เสีย|ให้|รัฐบาล| |แม้|จน|สิ้น|เนื้อ|ประดาตัว| |ที่|สุด|ถึง|ต้อง|ขาย|สมบัติ| |บ้านช่อง| |ตลอดจน|ขาย|ตัว|เอง| |ก็|ยัง|เต็มใจ|ที่|จะ|เสีย|ภาษี|โดย|ทาง|บ่อน|เบี้ย|และ|อากร|หวย| |ไม่|มี|คน|เสีย|คน|ใด|ที่|จะ|บ่น|ว่า|เดือดร้อน| |เพราะ|มี|บ่อน|เบี้ยหรือ|มี|โรง|หวย| |อย่าง|ว่า| |เวลา|โทม|นัส| |เมื่อ|เล่น|หวย|เล่น|เบี้ย|เสียทรัพย์|มาก| |ก็|โทษ|ตัว|เอง|ว่า| |เพราะ|คิด|ไม่|ถูก| |หรือ|เคราะห์|ไม่|ดี| |ที่|จะ|โทษ|หวย|และ|บ่อน|เบี้ยนั้น|หา|มี|ไม่| |ส่วน|คุณของ|หวย| |และ|บ่อนเบี้ย|เห็น|มี|อยู่|เท่า|นี้|แต่|ส่วน|โทษ|นั้น| |มี|เป็น|เอน|กปริยาย| |ว่า|โดย|ย่อก็|คือ|เป็น|เหตุ|ที่|ทำ|ให้|ไพร่|บ้าน|พลเมือง|ยากจน| |ไม่|มี|กำลัง|ที่|จะ|ประกอบ|การ|ให้|ตน|เอง|และ|บ้านเมือง|มี|ความ|เจริญ|ประการ|หนึ่ง| |เป็น|เหตุ|ให้|ไพร่|บ้าน|พลเมือง|เกิด|นิสัย|เป็น|คน|พา|ล|สันดาน|ชั่ว| |ประการ|หนึ่ง| |แต่|ถ้า|จะ|พิจารณา|ต่อ|ไป|ว่า| |หวย|กับ|บ่อน|เบี้ย|ให้|โทษ|ผิด|กัน|อย่าง|ไร| |เห็น|ว่า|บ่อนเบี้ย|ให้|โทษ|แก่|คน|ชั้น|ต่ำ|เป็น|พื้น| |เพราะ|การ|เล่น|เบี้ย|ต้อง|ไป|ถึง|บ่อน| |จึง|มัก|ไป|เล่น|แต่|คน|ชั้น|ต่ำ| |คน|ชั้น|สูง|ที่|ไป|เล่น|เบี้ย|ถึง|บ่อนโดย|ตรง| |หรือ|ลักเล่น|เบี้ย|ตาม|บ้านเรือน|มี|ไม่|มากมาย|เท่า|ใด|นัก| |ส่วน|หวย|นั้น|ให้|โทษ|แก่|คน|ชั้น|สูง|มาก|กว่า|คน|ชั้น|ต่ำ| |เพราะ|อาจ|จะ|เล่น|ได้|ใน|ที่|ลับ| |ไม่|ต้อง|ออก|หน้า|ไป|แทง|ถึง|โรง|หวย| |ผู้|ดี|จึง|ชอบ|เล่น| |กระบวน|ทาง|ได้|เสีย|ก็|ผิด|กัน| |เล่น|เบี้ยนั้น|มี|ทุน|ไป|เท่า|ใด| |ก็|มัก|เล่น|หมด|พก|ใน|เวลา|เดียว| |แต่|เล่น|หวย|ชัก|ทุน|ที|ละ|น้อย| |ค่อย|เล่น|ค่อย|เปลือง|ไป| |ถ้า|จะ|อุปมาคน|เล่น|เบี้ย| |เหมือน|เป็น|อหิวาตกโรค| |คน|เล่น|หวย|เหมือน|เป็น|วัณโรค| |ใคร|ลง|ได้|เป็น|แล้ว| |ก็|มัก|ตาย|ผิด|กัน| |แต่|อย่าง|หนึ่ง|ตาย|เร็ว| |อีก|อย่าง|หนึ่ง|ตาย|ช้า|ที่|นัก|เลง|เล่น|เบี้ย|หรือ|เล่น|หวย| |คน|ใด|จะ|เล่น|รวย| |จน|ถึง|ตั้ง|ตัว|ได้|เพราะ|การ|เล่น|เบี้ย|เล่น|หวย|นั้น| |ยัง|ไม่|ปรากฎ|ตัว|เลย| |กล่าว|กัน|ว่า|พระภาษี| |เล็ก| |ตั้งตัว|ได้|จน|ถึง|ได้|สร้าง|วัด| |ด้วย|เล่น|เบี้ย| |มี|อยู่|คน|หนึ่ง|แต่|ก็|มิ|ใช่|รวย|เพราะ|แทง|ถั่วโป| |หรือ|แทง|หวย| |ที่|ตั้ง|ตัว|ได้|เพราะ|รับผูก|อากร|บ่อน|เบี้ย|และ|ทำ|ภาษี|อากร|อย่าง|อื่น|ด้วย| |จึง|ได้|รวย| |จน|ได้|สร้าง|วัด|ภาวนาภิรตาราม| |อัน|ปรากฎ|อยู่|ใน|คลองบางก|อกน้อย|นั้น| |แต่|ถึง|จะ|มี|บ้าง|ก็|ไม่|ถึง|หนึ่ง|ใน|หมื่น|ใน|แสน|ของ|จำนวน|คน|ที่|เสียทรัพย์| |เสีย|ตัว|ป่น|ปี้|ไป| |เพราะ|หลงเล่น|เบี้ย| |และ|เล่น|หวย| |เพราะ|ฉะนั้น| |ที่|สมเด็จพระเจ้าอยู่หัว| |ได้|ทรง|พยายาม|มา|ทั้ง|สอง|รัชกาล|จน|ได้|เลิก|หวย|และ|บ่อน|เบี้ยหมด|สิ้นสยาม|ประเทศ|นี้| |ควร|คน|ทั้งหลาย|จะ|ระลึก|ถึง|พระเดชพระคุณ|เป็น|ล้นเกล้า|ฯ|ทั่ว|กัน|ถ้า|ตา|ใคร|มี|แวว| |ก็|จะ|เข้าใจ|เนื้อหา|สาระ|แห่ง|พระนิพนธ์|นี้| |แล้ว|นำ|มา|ประยุกต์|ใช้|ให้|เหมาะสม| |และ|ถ้า|เขา|คน|นั้น|จงรักภักดี|ต่อ|สถาบัน|พระมหากษัตริย์|จริง|ๆ| |เขา|ย่อม|รู้|ได้|ถึง|พระคุณ|ของ|ใน|หลวง|รัชกาล|ที่| |๕| |และ|ที่| |๖| |ซึ่ง|ทรง|ยอม|เสียสละ|ราย|ได้|ของ|แผ่นดิน|จาก|อากร|การ|พนัน| |โดย|หัน|ไป|ทำนุบำรุง|บ้าน|เมือง| |อย่าง|ที่|ไม่|แปด|เปื้อน|ไป|กับ|อบายมุข|แต่|ถ้า|เขา|คน|นั้น|เป็น|นัก|ฉวย|โอกาส| |นโยบาย|ศูนย์บันเทิง|ครบ|วงจร|ที่|ว่า|นี้| |ย่อม|นำ|หาย|นะ|มา|ให้|ราษฎร|ไทย| |ไม่|แต่|ใน|ทาง|จริยธรรม| |หาก|ใน|ทาง|เศรษฐกิจ|และ|สังคม|อีก|ด้วย| |ที่|นโยบาย|ดัง|กล่าว|จะ|แก้ไข|ปัญหา|ความ|ยากจน|ได้|นั้น| |อย่า|ได้|พึง|หวัง| |ดัง|ธนาคารโลก| |มี|คติ|ติด|ไว้ว่า|จะ|ขจัด|ความ|ยากจน|ให้|หมด|ไป|จาก|โลก|นั้น| |ธนาคาร|นี้|ตั้ง|มากว่า|กึ่ง|ศตวรรษ|แล้ว| |ใน|ช่วง|เวลา|ดัง|กล่าว| |ช่องว่าง|ระหว่าง|คน|รวย|กับ|คน|จน|ห่าง|กัน|ยิ่ง|ๆ|ขึ้น|ทุก|ที| |คน|ยากจน|ข้น|แค้น|ลง|ไป|อย่าง|แสน|สาหัส| |และ|นโยบาย|การ|พัฒนา|ที่|อ้าง|ถึง|ความ|ทัน|สมัย| |ที่|ใช้|เทคโนโลยี|ล่าสุด|ต่างๆ|นั้น| |นอก|จาก|ทำร้าย|ธรรมชาติ|อย่าง|เลวร้าย|แล้ว| |ยัง|ทำลาย|คุณภาพ|แห่งชีวิต|ของ|คน|ยาก|คน|จน|จำนวน|มหาศาล|เป็น|อย่าง|มาก|อีก|ด้วย|ความ|ข้อ|นี้|คน|อย่าง|ทักษิณ| ชินวัตร|และ|นัก|เศรษฐศาสตร์| |นัก|การ|เมือง|ใน|กระแส|หลัก| |ย่อม|ไม่|อาจ|สามารถ|จะ|เข้าใจ|ได้| |หา|ไม่|ไหน|เลย| |นโยบาย|ใน|เรื่อง|เขื่อน|ที่|ปาก|มูล| |นโยบาย|ใน|เรื่อง|เหมือง|แร่|โปตาซ|ที่|อุดร| |ซึ่ง|บริษัท|เจริญโภคภัณฑ์|เข้า|มา|มี|เอี่ยว| |และ|นโยบาย|ใน|เรื่อง|ท่อแก๊ส|ไทย|มา|เลเซีย| |ซึ่ง|บริษัท|ยูโน|แคลเข้า|มา|คุม| |จะ|สร้าง|ความ|เลวร้าย|ให้|ราษฎร|อย่าง|เหลือเชื่อ|ผู้|เชี่ยวชาญ|อย่าง|เดียว|ไม่|เพียงพอ| |หาก|ธนาคาร|นี้|เริ่ม|ฟัง|คน|ยาก|คน|จน| |แม้|จน|รับฟัง|ทัศนะ|จาก|นัก|การ|ศึกษา| |และ|นัก|สังคมวิทยา| |มา|นุษยวิทยา| |และ|นำ|เอา|ปัญหา|ทาง|จริยธรรม| |ศาสนธรรม| |และ|วัฒนธรรม|ท้องถิ่น| |ตลอดจน|ภูมิปัญญา|ชาว|บ้าน| |แล้ว|หัน|มา|ประมวล|เพื่อ|เป็น|องค์|คุณ|แห่ง|ความ|รู้| |ความ|เข้าใจ| |ก่อน|จะ|ตัดสินใจ|ทำ|อะไร|ๆ|ลง|ไป| |ดัง|ธนาคารโลก|ถอน|ตัว|ออก|จาก|การ|อุดหนุน|โครงการ|สร้าง|เขื่อน|อย่าง|ใหญ่|หลาย|ต่อ|หลาย|แห่ง|แล้ว|เรา|จะ|หวัง|ภูมิปัญญา|เช่น|นี้|จาก|นายก|รัฐมนตรี|ไทย|คน|ปัจจุบัน|เป็น|ไป|ได้|ไหม| |ถ้า|ไม่|ได้| |เรา|ต้อง|หา|ทาง|กดดัน|อย่าง|สันติ| |รวม|พลัง|กัน|อย่าง|มี|สติปัญญา| |และ|สามัคคีธรรม| |เอา|ชนะ|มิจฉา|อาชีวะ| |ให้|ปลาสนา|การ|ไป|ให้|จง|ได้| |แม้|จะ|เรียก|มัน|ว่า|ศูนย์บันเทิง|ครบ|วงจร| |แต่|มัน|เป็น|ความ|บันเทิง| |บน|กอง|ไฟ|แห่ง|ความ|ทุกข์|แท้ทีเดียว|-|๔|-|ขอ|พูด|แถม|ท้าย|อีก|นิด|ว่า|นโยบาย|ของ|ทักษิณ|นั้น|ไม่|มี|อะไร|ใหม่| |เป็น|การ|ใช้|ธนาธิปไตย|แบบ|กึ่ง|ดิบ|กึ่ง|ดี| |ที่|มี|ความ|เป็น|เผด็จการ|ซ่อนเงื่อน|อยู่|ภาย|ใน|รูปแบบ|ของ|การ|เลือกตั้ง|และ|รัฐ|สภา| |เขา|สามารถ|ควบคุม|สื่อ|มวล|ชน|อย่าง|ได้|ผล| |คล้าย|ๆ|มา|เลเซีย| |และ|ถ้า|เป็น|ไป|ได้| |ไทย|แลนด์|ก็|จะ|เป็น|อย่าง|สิงคโปร์| |คือ|ผู้คน|ขาด|เสรีภาพ|ไป|ทุก|ๆ|ทาง| |และ|ที่|จะ|กิน|ดี|อยู่|ดี|อย่าง|สิงคโปร์|ก็|น่า|สงสัย| |ยัง|บริษัทบริวาร|ที่|รับ|ใช้|เขา| |ก็|ล้วน|ขาด|ความ|เป็น|ตัว|ของ|ตัว|เอง| |ได้แต่|รับฟัง|คำ|สั่ง|จาก|นายเหนือ|หัว|อย่าง|ปราศจาก|วิจารณญาณ| |ยิ่ง|ระบบ|งาน|ที่|เรียก|ว่า| |ceo| |ด้วย|แล้ว| |นั่น|คือ|การ|บริหาร|งาน|อย่าง|ริดรอน|สิทธิ|และ|ศักดิ์ศรี|ของ|ข้า|ราชการ|ประจำ|ใน|ทุก|ๆ|ทาง| |ใคร|ที่|มี|กึ๋น|หรือ|มี|ความ|กล้าหาญ|ทาง|จริยธรรม| |ย่อม|ดำรง|คง|อยู่|ใน|ระบบ|ได้ยาก| |หาก|จะ|มี|ลูก|ขุนพลอย|พยักเพิ่ม|ยิ่ง|ๆ|ขึ้น|อนึ่ง| |นโยบาย|แบบ|จักรวรรดินิยม|ตาม|ทาง|ของ|สหรัฐ| |ที่|เปิด|โอกาส|ให้|มือ|ใคร|ยาว|สาว|ได้|สาว|เอา| |โดย|ใช้|ความ|รุนแรง|ด้วย|ประการ|ต่างๆ|เพื่อ|เอา|ชนะ|ฝ่าย|ตรงกันข้าม|นั้น| |แม้|จะ|เรียก|ว่า|โลกาภิวัตน์| |ก็|เป็น|การ|สร้าง|ระบบ|เวร|กรรม| |ให้|ทำลาย|ล้าง|กัน|ต่อๆ| |ไป|อย่าง|ไม่|จบ|สิ้น|วิกฤตการณ์| |๑๑| |กันยายน| |๒๕๔๔| |ที่|สหรัฐ| |เป็น|ผล|พวงมา|จาก|การ|ก่อ|การ|ร้าย|ของ|รัฐบาล|อเมริกัน|แต่|สมัย|สงคราม|เย็น|ภาย|หลัง|สงคราม|โลก|ครั้ง|ที่|สอง|เป็น|ต้น|มา| |อีก|ฝ่าย|เขา|สู้|ซึ่ง|ๆ|หน้า|ไม่|ได้| |เขา|ก็|ต้อง|ใช้|วิธี|การ|อัน|รุนแรง| |อย่าง|ยอม|พลี|ชีวิต|เพื่อ|ท้าทาย|วิธี|การ|ก่อ|การ|ร้ายแบบ|สหรัฐ| |ซึ่ง|แพร่|ไป|ยัง|ทุก|มุม|โลก| |รวม|ทั้ง|เวียดนาม| |กัมพูชา| |ลาว|และ|ไทย|ใน|สมัย|ก่อน|ที่|รัฐบาล|ทักษิณ|เอา|อย่าง|มา|ทำ|กับ|การ|ฆ่า|ตัด|ตอน| |โดย|ใช้|กฎหมาย|หรือ|ไม่|ก็ตาม| |ที่|ว่า|จะ|เอา|ชนะ|ยา|เสพ|ติด|นั้น| |ก็|คือ|มาตรการ|เวร|ที่|ไม่|ระงับ|ด้วย|การ|จอง|เวรนั้น|แล| |ยิ่ง|ส่ง|ทหาร|ไทย|ไป|ตาย|ใน|อิรัก|ด้วย|แล้ว| |ฝ่าย|ที่|อยู่|ตรงข้าม|กับ|บุช| |ซึ่ง|มี|อยู่|ลับ|ๆ|ทั่ว|โลก| |ย่อม|รุม|เล่นงาน|ฝ่าย|รัฐบาล|ทักษิณ| |ด้วย|ขยาย|วง|การ|ก่อ|เวร|ก่อ|กรรม|ใน|ทาง|พิฆาตฆ่า|ยิ่ง|ๆ|ขึ้น| |ทั้งนี้|มี|ผล|จาก|กรณี|ที่|รัฐบาล|ทำร้าย|ราษฎร|ที่|ต่อต้าน|ท่อ|แก๊ส|ทาง|สงขลา|และ|อื่น|ๆ|ด้วย|วินาศกรรม|ที่|เกิด|ขึ้น|ทาง|ปักษ์ใต้|ใน|เวลา|นี้| |มี|อนุสนธิ|มา|แต่|นโยบาย|ของ|รัฐบาล|ทักษิณ|ที่|ไม่|คำนึง|ถึง|จริยธรรม|และ|ศาสนธรรม| |โดย|เฉพาะ|ก็|ของ|มุสลิม|นั้น|แลเป็น|ประการ|สำคัญ| |ยิ่ง|รัฐบาล|ประกาศ|มาตรการ|ใช้|ความ|รุนแรง|เพิ่ม|ขึ้น| |การ|ตอบโต้|อย่าง|เลวร้าย|และ|รุนแรง|ก็|จะ|เพิ่ม|ขึ้น| |โดย|อาจ|จู่โจม|เข้า|ถึง|ตัว|เขา|และ|ครอบครัว|เขา|เอา|เลย|ด้วยซ้ำ|ที่|ว่า|มานี้| |ข้าพเจ้า|เตือน|ด้วย|หวัง|ดี| |ดัง|เช่น|กรณี|อบายมุข|ที่|เรียก|ว่า|ศูนย์บันเทิง|ครบ|วงจร| |ก็|รวม|อยู่|ใน|ข่าย|แห่ง|ความ|เลวร้าย|ด้วย|เช่น|กัน| |ถ้า|นายก|รัฐมนตรี|มี|สติ| |น่า|จะ|มี|มน|สิการ| |แก้ไข|นโยบาย|เสีย|ที่|ขั้น|พื้นฐาน| |เลิก|อาการ|อัน|รุนแรง|ที่|อิงความ|โลภ| |โกรธ| |หลง|ด้วย|ประการ|ต่างๆ| |และ|หัน|มา|หา|ทาง|สมานฉันท์|อย่าง|สันติ|วิธี| |แม้|นี่|จะ|ล่าช้า|ไป|มาก|แล้ว| |ก็|ยัง|พอ|จะ|เยียวยา|ได้|เกรง|แต่|ว่า|คำ|เตือน|เช่น|นี้| |คน|อย่าง|ทักษิณ|คง|รับ|ไม่|ได้| |เฉกเช่น|บุช|กับ|พวก|ที่|ควบคุม|อยู่|ข้าง|หลัง|เขา|นั้น|แล| |จึง|ไม่|มี|ทาง|อื่น| |นอกเสีย|แต่|ว่า|เรา|ต้อง|สร้าง|วัฒนธรรม|แห่ง|การ|ตื่น| |วัฒนธรรม|แห่ง|การ|ให้| |และ|วัฒนธรรม|แห่ง|สันติ|วิธี|ให้|ได้|ใน|หมู่|มหาชน| |โดย|เฉพาะ|ก็|เยาวชน| |โดย|ที่|ทุก|ศาสนา|ต้อง|หา|ทาง|ร่วมมือ|กัน|อย่าง|แท้จริง|-|-|-|------| |สุลักษณ์| |ศิวรักษ์|บรรยาย|ใน|การ|สัมมนา|และ|ประชุม|ประจำ|ปี|ของ|ชมรม|คริสเตียน|เพื่อการ|พัฒนา|ใน|ประเทศไทย| |(|cfdt|)| |วัน|ที่| |๓๐| |มกราคม| |๒๕๔๗| |ณ| |ห้อง|ประชุม|พันธกิจ|การ|ศึกษา| |สำนักงานพันธกิจการศึกษา|ของ|สภาคริสตจักร\n"
     ]
    }
   ],
   "source": [
    "words = word_tokenize(best_model, text)\n",
    "print('|'.join(words))"
   ]
  },
  {
   "cell_type": "markdown",
   "metadata": {},
   "source": [
    "## Challenge 🎉💪❗🎇🎉🎉💪❗🎇🎉\n",
    "Credit: https://web.facebook.com/kumthailand/posts/2245131982471669/?_rdc=1&_rdr"
   ]
  },
  {
   "cell_type": "code",
   "execution_count": 37,
   "metadata": {
    "ExecuteTime": {
     "end_time": "2019-07-01T04:29:18.766821Z",
     "start_time": "2019-07-01T04:29:18.761830Z"
    }
   },
   "outputs": [
    {
     "data": {
      "text/plain": [
       "'กนกคนตลกชวนดวงกมลคนผอมรอชมภมรดมดอมดอกขจรสองคนชอบจอดรถตรงตรอกยอมทนอดนอนอดกรนรอยลภมรดมดอกหอมบนขอนตรงคลองมอญลมบนหวนสอบจนปอยผมปรกคอสองสมรสมพรคนจรพบสองอรชรสมพรปองสองสมรยอมลงคลองลอยคอมองสองอรชรมองอกมองคอมองผมมองจนสองคนฉงนสมพรบอกชวนสองคนถอนสมอลงชลลองวอนสองหนสองอรชรถอยหลบสมพรวอนจนพลพรรคสดสวยหมดสนกรกนกชวนดวงกมลชงนมผงรอชมภมรบนดอนฝนตกตลอดจนถนนปอนจอมปลวกตรงตรอกจอดรถถลอกปอกลงสองสมรมองนกปรอทจกมดจกปลวกจกหนอนลงคอสมพรคงลอยคอลอยวนบอกสอพลอคนสวยผสมบทสวดของขอมคนหนอคนสมพรสวดวนจนอรชรสองคนฉงนฉงวยงวยงงคอตกยอมนอนลงบนบกสมพรยกซองผงทองปลอมผสมลงนมชงของสองสมรสมพรถอนผมนวลลออสองคนปนผสมตอนหลอมรวมนมชงสมพรสวดบทขอมถอยวกวนหกหนขอวรรคตอนวอนผองชนจงอวยพรสองดวงสมรรอดปลอดนรกคนคนจรหมอนสกปรกฝนตกจนจอมปลวกยวบลงมดปลวกหนอนออกซอกซอนลงผสมนมชงจนบทสวดหมดผลสมพรคนสกปรกคงหลงยกนมชงซดลงคอรอครอบครองสองคนสวยปลวกมดหนอนอลวนซอกซอนจนสมพรปวดคองอลงหอนนอนครวญนอนหงอซมบนกองหนอนกองปลวกรอหมอตรวจลมฝนสงบลงผองปวงชนพลพรรคครบคนของสองอรชรยกพลสมทบชกถองหวดตบสมพรจนถดถอยตกตมจมลงคลอง'"
      ]
     },
     "metadata": {},
     "output_type": "display_data"
    }
   ],
   "source": [
    "text = 'กนกคนตลกชวนดวงกมลคนผอมรอชมภมรดมดอมดอกขจรสองคนชอบจอดรถ\\\n",
    "ตรงตรอกยอมทนอดนอนอดกรนรอยลภมรดมดอกหอมบนขอนตรงคลองมอญลมบนหวนสอบจน\\\n",
    "ปอยผมปรกคอสองสมรสมพรคนจรพบสองอรชรสมพรปองสองสมรยอมลงคลองลอยคอมองสอง\\\n",
    "อรชรมองอกมองคอมองผมมองจนสองคนฉงนสมพรบอกชวนสองคนถอนสมอลงชลลองวอนสอง\\\n",
    "หนสองอรชรถอยหลบสมพรวอนจนพลพรรคสดสวยหมดสนกรกนกชวนดวงกมลชงนมผงรอชมภมรบน\\\n",
    "ดอนฝนตกตลอดจนถนนปอนจอมปลวกตรงตรอกจอดรถถลอกปอกลงสองสมรมองนกปรอทจกมดจกปลวก\\\n",
    "จกหนอนลงคอสมพรคงลอยคอลอยวนบอกสอพลอคนสวยผสมบทสวดของขอมคนหนอคนสมพรสวดวนจนอรชรสอง\\\n",
    "คนฉงนฉงวยงวยงงคอตกยอมนอนลงบนบกสมพรยกซองผงทองปลอมผสมลงนมชงของสองสมรสมพรถอนผม\\\n",
    "นวลลออสองคนปนผสมตอนหลอมรวมนมชงสมพรสวดบทขอมถอยวกวนหกหนขอวรรคตอนวอนผองชนจงอวยพร\\\n",
    "สองดวงสมรรอดปลอดนรกคนคนจรหมอนสกปรกฝนตกจนจอมปลวกยวบลงมดปลวกหนอนออกซอกซอนลงผสม\\\n",
    "นมชงจนบทสวดหมดผลสมพรคนสกปรกคงหลงยกนมชงซดลงคอรอครอบครองสองคนสวยปลวกมดหนอนอลวนซอก\\\n",
    "ซอนจนสมพรปวดคองอลงหอนนอนครวญนอนหงอซมบนกองหนอนกองปลวกรอหมอตรวจลมฝนสงบลงผองปวงชนพลพรรค\\\n",
    "ครบคนของสองอรชรยกพลสมทบชกถองหวดตบสมพรจนถดถอยตกตมจมลงคลอง'\n",
    "\n",
    "display(text)"
   ]
  },
  {
   "cell_type": "code",
   "execution_count": 38,
   "metadata": {
    "ExecuteTime": {
     "end_time": "2019-07-01T04:29:21.087178Z",
     "start_time": "2019-07-01T04:29:20.669295Z"
    }
   },
   "outputs": [
    {
     "name": "stdout",
     "output_type": "stream",
     "text": [
      "กนก|คน|ตลก|ชวน|ดวง|กมลคน|ผอม|รอชมภมรด|ม|ดอม|ดอก|ขจร|สอง|คน|ชอบ|จอด|รถ|ตรง|ตรอก|ยอม|ทน|อด|นอน|อด|กรนรอย|ลภม|รด|มด|อก|หอมบน|ขอน|ตรง|คลอง|มอญ|ลม|บน|หวน|สอบ|จน|ปอย|ผม|ปรกคอสอง|สมรสมพรคนจร|พบ|สอง|อรชรสมพรป|องสองสมรย|อม|ลง|คลอง|ลอย|คอมอง|สอง|อร|ชรม|อง|อก|มอง|คอม|อง|ผม|มอง|จน|สอง|คน|ฉงน|สมพรบอก|ชวน|สอง|คน|ถอน|สมอลง|ชลลอง|วอน|สอง|หน|สอง|อรชรถอย|หลบ|สมพรวอนจน|พลพรรค|สดสวย|หมด|สนกรกนกชวน|ดวง|กมลชง|นม|ผง|รอ|ชมภม|รบ|นด|อน|ฝน|ตก|ตลอดจน|ถนน|ปอน|จอม|ปลวก|ตรง|ตรอก|จอด|รถ|ถลอกปอก|ลง|สองสมรม|องนกปรอท|จก|มดจก|ปลวก|จก|หนอน|ลง|คอ|สมพร|คง|ลอย|คอ|ลอยวน|บอก|สอพลอคนสวย|ผสม|บท|สวด|ของ|ขอม|คน|หนอ|คน|สมพร|สวด|วน|จน|อรชรสอง|คน|ฉงนฉงวยงวยงงคอ|ตก|ยอม|นอน|ลง|บน|บก|สม|พรยก|ซอง|ผง|ทอง|ปลอม|ผสม|ลง|นม|ชง|ของ|สอง|สมรส|มพรถ|อนผม|นวล|ลออสอง|คน|ปน|ผสม|ตอน|หลอม|รวม|นม|ชง|สมพร|สวด|บท|ขอ|มถอย|วก|วน|หก|หน|ขอ|วรรค|ตอน|วอน|ผองชน|จง|อวย|พร|สอง|ดวง|สมรร|อด|ปลอด|นรก|คน|คน|จร|หมอน|สกปรก|ฝน|ตก|จน|จอม|ปลวก|ยวบ|ลง|มด|ปลวก|หนอน|ออกซอกซอน|ลง|ผสม|นม|ชงจน|บท|สวด|หมด|ผล|สม|พร|คน|สกปรก|คง|หลง|ยก|นม|ชง|ซดลง|คอรอครอบครอง|สอง|คน|สวย|ปลวก|มด|หนอน|อลวน|ซอกซอน|จน|สมพรปวด|คอง|อลง|หอนนอนครวญ|นอน|หงอซมบน|กอง|หนอน|กองปลวกรอ|หมอ|ตรวจ|ลม|ฝน|สงบ|ลง|ผอง|ปวงชน|พล|พรรคครบคน|ของ|สอง|อรชรยก|พลสมทบ|ชก|ถอง|หวด|ตบสม|พร|จน|ถดถอย|ตกตม|จม|ลง|คลอง\n"
     ]
    }
   ],
   "source": [
    "words = word_tokenize(best_model, text)\n",
    "print('|'.join(words))"
   ]
  },
  {
   "cell_type": "code",
   "execution_count": null,
   "metadata": {},
   "outputs": [],
   "source": []
  }
 ],
 "metadata": {
  "kernelspec": {
   "display_name": "Python 3",
   "language": "python",
   "name": "python3"
  },
  "language_info": {
   "codemirror_mode": {
    "name": "ipython",
    "version": 3
   },
   "file_extension": ".py",
   "mimetype": "text/x-python",
   "name": "python",
   "nbconvert_exporter": "python",
   "pygments_lexer": "ipython3",
   "version": "3.6.5"
  }
 },
 "nbformat": 4,
 "nbformat_minor": 2
}
